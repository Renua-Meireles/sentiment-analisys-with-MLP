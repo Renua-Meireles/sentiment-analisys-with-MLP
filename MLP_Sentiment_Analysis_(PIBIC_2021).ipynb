{
 "cells": [
  {
   "cell_type": "markdown",
   "metadata": {},
   "source": [
    "# Sentiment Analysis with NLP"
   ]
  },
  {
   "cell_type": "markdown",
   "metadata": {},
   "source": [
    "[![Colab](https://colab.research.google.com/assets/colab-badge.svg)](https://colab.research.google.com/github/Renua-Meireles/sentiment-analisys-with-MLP/blob/main/MLP_Sentiment_Analysis_(PIBIC_2021).ipynb)"
   ]
  },
  {
   "cell_type": "markdown",
   "metadata": {
    "id": "z96LYP4785h6"
   },
   "source": [
    "## Loading Libraries"
   ]
  },
  {
   "cell_type": "code",
   "execution_count": 1,
   "metadata": {
    "id": "HBZfqci68wYo"
   },
   "outputs": [],
   "source": [
    "import numpy as np\n",
    "import pandas as pd\n",
    "import matplotlib.pyplot as plt\n",
    "import os"
   ]
  },
  {
   "cell_type": "code",
   "execution_count": 2,
   "metadata": {
    "colab": {
     "base_uri": "https://localhost:8080/"
    },
    "id": "vzZbkhDt-nL3",
    "outputId": "7caa0035-aa77-49b4-e61f-600dc94aaac7"
   },
   "outputs": [
    {
     "data": {
      "text/plain": [
       "['movie.csv']"
      ]
     },
     "execution_count": 2,
     "metadata": {},
     "output_type": "execute_result"
    }
   ],
   "source": [
    "BASE_PATH = './data/'\n",
    "datasetpath = f'{BASE_PATH}/movie.csv'\n",
    "os.listdir(BASE_PATH)"
   ]
  },
  {
   "cell_type": "markdown",
   "metadata": {},
   "source": [
    "## Loading Dataset"
   ]
  },
  {
   "cell_type": "code",
   "execution_count": 3,
   "metadata": {
    "colab": {
     "base_uri": "https://localhost:8080/",
     "height": 206
    },
    "id": "_wYH9uOq_ABT",
    "outputId": "163c37e6-8311-4b2f-fc88-0aaf1090abee"
   },
   "outputs": [
    {
     "data": {
      "text/html": [
       "<div>\n",
       "<style scoped>\n",
       "    .dataframe tbody tr th:only-of-type {\n",
       "        vertical-align: middle;\n",
       "    }\n",
       "\n",
       "    .dataframe tbody tr th {\n",
       "        vertical-align: top;\n",
       "    }\n",
       "\n",
       "    .dataframe thead th {\n",
       "        text-align: right;\n",
       "    }\n",
       "</style>\n",
       "<table border=\"1\" class=\"dataframe\">\n",
       "  <thead>\n",
       "    <tr style=\"text-align: right;\">\n",
       "      <th></th>\n",
       "      <th>text</th>\n",
       "      <th>label</th>\n",
       "    </tr>\n",
       "  </thead>\n",
       "  <tbody>\n",
       "    <tr>\n",
       "      <th>0</th>\n",
       "      <td>I grew up (b. 1965) watching and loving the Th...</td>\n",
       "      <td>0</td>\n",
       "    </tr>\n",
       "    <tr>\n",
       "      <th>1</th>\n",
       "      <td>When I put this movie in my DVD player, and sa...</td>\n",
       "      <td>0</td>\n",
       "    </tr>\n",
       "    <tr>\n",
       "      <th>2</th>\n",
       "      <td>Why do people who do not know what a particula...</td>\n",
       "      <td>0</td>\n",
       "    </tr>\n",
       "    <tr>\n",
       "      <th>3</th>\n",
       "      <td>Even though I have great interest in Biblical ...</td>\n",
       "      <td>0</td>\n",
       "    </tr>\n",
       "    <tr>\n",
       "      <th>4</th>\n",
       "      <td>Im a die hard Dads Army fan and nothing will e...</td>\n",
       "      <td>1</td>\n",
       "    </tr>\n",
       "  </tbody>\n",
       "</table>\n",
       "</div>"
      ],
      "text/plain": [
       "                                                text  label\n",
       "0  I grew up (b. 1965) watching and loving the Th...      0\n",
       "1  When I put this movie in my DVD player, and sa...      0\n",
       "2  Why do people who do not know what a particula...      0\n",
       "3  Even though I have great interest in Biblical ...      0\n",
       "4  Im a die hard Dads Army fan and nothing will e...      1"
      ]
     },
     "execution_count": 3,
     "metadata": {},
     "output_type": "execute_result"
    }
   ],
   "source": [
    "df = pd.read_csv(datasetpath, encoding='utf-8')\n",
    "df.head()"
   ]
  },
  {
   "cell_type": "code",
   "execution_count": 4,
   "metadata": {},
   "outputs": [
    {
     "data": {
      "text/plain": [
       "\"When I put this movie in my DVD player, and sat down with a coke and some chips, I had some expectations. I was hoping that this movie would contain some of the strong-points of the first movie: Awsome animation, good flowing story, excellent voice cast, funny comedy and a kick-ass soundtrack. But, to my disappointment, not any of this is to be found in Atlantis: Milo's Return. Had I read some reviews first, I might not have been so let down. The following paragraph will be directed to those who have seen the first movie, and who enjoyed it primarily for the points mentioned.<br /><br />When the first scene appears, your in for a shock if you just picked Atlantis: Milo's Return from the display-case at your local videoshop (or whatever), and had the expectations I had. The music feels as a bad imitation of the first movie, and the voice cast has been replaced by a not so fitting one. (With the exception of a few characters, like the voice of Sweet). The actual drawings isnt that bad, but the animation in particular is a sad sight. The storyline is also pretty weak, as its more like three episodes of Schooby-Doo than the single adventurous story we got the last time. But dont misunderstand, it's not very good Schooby-Doo episodes. I didnt laugh a single time, although I might have sniggered once or twice.<br /><br />To the audience who haven't seen the first movie, or don't especially care for a similar sequel, here is a fast review of this movie as a stand-alone product: If you liked schooby-doo, you might like this movie. If you didn't, you could still enjoy this movie if you have nothing else to do. And I suspect it might be a good kids movie, but I wouldn't know. It might have been better if Milo's Return had been a three-episode series on a cartoon channel, or on breakfast TV.\""
      ]
     },
     "execution_count": 4,
     "metadata": {},
     "output_type": "execute_result"
    }
   ],
   "source": [
    "df.loc[1, 'text']"
   ]
  },
  {
   "cell_type": "code",
   "execution_count": 5,
   "metadata": {
    "colab": {
     "base_uri": "https://localhost:8080/",
     "height": 300
    },
    "id": "z1JDMdMZAFn0",
    "outputId": "f90aa623-352a-4a04-b756-407b09f659d4"
   },
   "outputs": [
    {
     "data": {
      "text/html": [
       "<div>\n",
       "<style scoped>\n",
       "    .dataframe tbody tr th:only-of-type {\n",
       "        vertical-align: middle;\n",
       "    }\n",
       "\n",
       "    .dataframe tbody tr th {\n",
       "        vertical-align: top;\n",
       "    }\n",
       "\n",
       "    .dataframe thead th {\n",
       "        text-align: right;\n",
       "    }\n",
       "</style>\n",
       "<table border=\"1\" class=\"dataframe\">\n",
       "  <thead>\n",
       "    <tr style=\"text-align: right;\">\n",
       "      <th></th>\n",
       "      <th>label</th>\n",
       "    </tr>\n",
       "  </thead>\n",
       "  <tbody>\n",
       "    <tr>\n",
       "      <th>count</th>\n",
       "      <td>40000.000000</td>\n",
       "    </tr>\n",
       "    <tr>\n",
       "      <th>mean</th>\n",
       "      <td>0.499525</td>\n",
       "    </tr>\n",
       "    <tr>\n",
       "      <th>std</th>\n",
       "      <td>0.500006</td>\n",
       "    </tr>\n",
       "    <tr>\n",
       "      <th>min</th>\n",
       "      <td>0.000000</td>\n",
       "    </tr>\n",
       "    <tr>\n",
       "      <th>25%</th>\n",
       "      <td>0.000000</td>\n",
       "    </tr>\n",
       "    <tr>\n",
       "      <th>50%</th>\n",
       "      <td>0.000000</td>\n",
       "    </tr>\n",
       "    <tr>\n",
       "      <th>75%</th>\n",
       "      <td>1.000000</td>\n",
       "    </tr>\n",
       "    <tr>\n",
       "      <th>max</th>\n",
       "      <td>1.000000</td>\n",
       "    </tr>\n",
       "  </tbody>\n",
       "</table>\n",
       "</div>"
      ],
      "text/plain": [
       "              label\n",
       "count  40000.000000\n",
       "mean       0.499525\n",
       "std        0.500006\n",
       "min        0.000000\n",
       "25%        0.000000\n",
       "50%        0.000000\n",
       "75%        1.000000\n",
       "max        1.000000"
      ]
     },
     "execution_count": 5,
     "metadata": {},
     "output_type": "execute_result"
    }
   ],
   "source": [
    "df.describe()"
   ]
  },
  {
   "cell_type": "code",
   "execution_count": 6,
   "metadata": {
    "colab": {
     "base_uri": "https://localhost:8080/"
    },
    "id": "HHM7YTT5AL45",
    "outputId": "60f04226-98ab-40cf-d098-34a4a7042f21"
   },
   "outputs": [
    {
     "name": "stdout",
     "output_type": "stream",
     "text": [
      "<class 'pandas.core.frame.DataFrame'>\n",
      "RangeIndex: 40000 entries, 0 to 39999\n",
      "Data columns (total 2 columns):\n",
      " #   Column  Non-Null Count  Dtype \n",
      "---  ------  --------------  ----- \n",
      " 0   text    40000 non-null  object\n",
      " 1   label   40000 non-null  int64 \n",
      "dtypes: int64(1), object(1)\n",
      "memory usage: 625.1+ KB\n"
     ]
    }
   ],
   "source": [
    "df.info()"
   ]
  },
  {
   "cell_type": "code",
   "execution_count": 7,
   "metadata": {
    "colab": {
     "base_uri": "https://localhost:8080/",
     "height": 424
    },
    "id": "7oaM5NazAUt4",
    "outputId": "9a9e898b-f10e-46fb-a322-06db3160d1f3"
   },
   "outputs": [
    {
     "data": {
      "text/plain": [
       "text     0\n",
       "label    0\n",
       "dtype: int64"
      ]
     },
     "execution_count": 7,
     "metadata": {},
     "output_type": "execute_result"
    }
   ],
   "source": [
    "df.isnull().sum()"
   ]
  },
  {
   "cell_type": "code",
   "execution_count": 8,
   "metadata": {
    "colab": {
     "base_uri": "https://localhost:8080/"
    },
    "id": "RCUmgienJztZ",
    "outputId": "114c16d6-1139-4d7b-ff65-e0bd0b3e4e2d"
   },
   "outputs": [
    {
     "data": {
      "text/plain": [
       "Index(['text', 'label'], dtype='object')"
      ]
     },
     "execution_count": 8,
     "metadata": {},
     "output_type": "execute_result"
    }
   ],
   "source": [
    "df.columns"
   ]
  },
  {
   "cell_type": "markdown",
   "metadata": {},
   "source": [
    "### Text Preprocessing"
   ]
  },
  {
   "cell_type": "code",
   "execution_count": 9,
   "metadata": {},
   "outputs": [],
   "source": [
    "import nltk"
   ]
  },
  {
   "cell_type": "markdown",
   "metadata": {},
   "source": [
    "#### Text cleanning"
   ]
  },
  {
   "cell_type": "code",
   "execution_count": 10,
   "metadata": {},
   "outputs": [
    {
     "name": "stderr",
     "output_type": "stream",
     "text": [
      "[nltk_data] Downloading package stopwords to\n",
      "[nltk_data]     C:\\Users\\renua\\AppData\\Roaming\\nltk_data...\n",
      "[nltk_data]   Package stopwords is already up-to-date!\n"
     ]
    },
    {
     "data": {
      "text/html": [
       "<div>\n",
       "<style scoped>\n",
       "    .dataframe tbody tr th:only-of-type {\n",
       "        vertical-align: middle;\n",
       "    }\n",
       "\n",
       "    .dataframe tbody tr th {\n",
       "        vertical-align: top;\n",
       "    }\n",
       "\n",
       "    .dataframe thead th {\n",
       "        text-align: right;\n",
       "    }\n",
       "</style>\n",
       "<table border=\"1\" class=\"dataframe\">\n",
       "  <thead>\n",
       "    <tr style=\"text-align: right;\">\n",
       "      <th></th>\n",
       "      <th>text</th>\n",
       "      <th>label</th>\n",
       "      <th>text_clean</th>\n",
       "    </tr>\n",
       "  </thead>\n",
       "  <tbody>\n",
       "    <tr>\n",
       "      <th>0</th>\n",
       "      <td>I grew up (b. 1965) watching and loving the Th...</td>\n",
       "      <td>0</td>\n",
       "      <td>grew b 9 watching loving thunderbirds mates sc...</td>\n",
       "    </tr>\n",
       "    <tr>\n",
       "      <th>1</th>\n",
       "      <td>When I put this movie in my DVD player, and sa...</td>\n",
       "      <td>0</td>\n",
       "      <td>put movie dvd player sat coke chips expectatio...</td>\n",
       "    </tr>\n",
       "    <tr>\n",
       "      <th>2</th>\n",
       "      <td>Why do people who do not know what a particula...</td>\n",
       "      <td>0</td>\n",
       "      <td>people know particular time past like feel nee...</td>\n",
       "    </tr>\n",
       "    <tr>\n",
       "      <th>3</th>\n",
       "      <td>Even though I have great interest in Biblical ...</td>\n",
       "      <td>0</td>\n",
       "      <td>even though great interest biblical movies bor...</td>\n",
       "    </tr>\n",
       "    <tr>\n",
       "      <th>4</th>\n",
       "      <td>Im a die hard Dads Army fan and nothing will e...</td>\n",
       "      <td>1</td>\n",
       "      <td>im die hard dads army fan nothing ever change ...</td>\n",
       "    </tr>\n",
       "  </tbody>\n",
       "</table>\n",
       "</div>"
      ],
      "text/plain": [
       "                                                text  label  \\\n",
       "0  I grew up (b. 1965) watching and loving the Th...      0   \n",
       "1  When I put this movie in my DVD player, and sa...      0   \n",
       "2  Why do people who do not know what a particula...      0   \n",
       "3  Even though I have great interest in Biblical ...      0   \n",
       "4  Im a die hard Dads Army fan and nothing will e...      1   \n",
       "\n",
       "                                          text_clean  \n",
       "0  grew b 9 watching loving thunderbirds mates sc...  \n",
       "1  put movie dvd player sat coke chips expectatio...  \n",
       "2  people know particular time past like feel nee...  \n",
       "3  even though great interest biblical movies bor...  \n",
       "4  im die hard dads army fan nothing ever change ...  "
      ]
     },
     "execution_count": 10,
     "metadata": {},
     "output_type": "execute_result"
    }
   ],
   "source": [
    "import re\n",
    "from nltk.corpus import stopwords\n",
    "\n",
    "nltk.download('stopwords')\n",
    "stop_words = stopwords.words('english')\n",
    "\n",
    "def clear_text(text:str):\n",
    "    text = text.lower()\n",
    "    text = re.sub(r'<.*?>', ' ', text) # remove html tags\n",
    "    text = re.sub(r'[^A-Za-z0–9]+',' ', text) # remove punctuation\n",
    "    text = re.sub(r'  +', ' ', text) # remove extra spaces\n",
    "    text = ' '.join(filter(lambda word: word not in stop_words, text.split(' ')))\n",
    "    return text.strip()\n",
    "\n",
    "df['text_clean'] = df['text'].apply(clear_text)\n",
    "df.head()"
   ]
  },
  {
   "cell_type": "markdown",
   "metadata": {},
   "source": [
    "#### Lemmatization + Tokenization"
   ]
  },
  {
   "cell_type": "code",
   "execution_count": 11,
   "metadata": {},
   "outputs": [
    {
     "name": "stderr",
     "output_type": "stream",
     "text": [
      "[nltk_data] Downloading package omw-1.4 to\n",
      "[nltk_data]     C:\\Users\\renua\\AppData\\Roaming\\nltk_data...\n",
      "[nltk_data]   Package omw-1.4 is already up-to-date!\n",
      "[nltk_data] Downloading package wordnet to\n",
      "[nltk_data]     C:\\Users\\renua\\AppData\\Roaming\\nltk_data...\n",
      "[nltk_data]   Package wordnet is already up-to-date!\n",
      "[nltk_data] Downloading package punkt to\n",
      "[nltk_data]     C:\\Users\\renua\\AppData\\Roaming\\nltk_data...\n",
      "[nltk_data]   Package punkt is already up-to-date!\n"
     ]
    },
    {
     "data": {
      "text/html": [
       "<div>\n",
       "<style scoped>\n",
       "    .dataframe tbody tr th:only-of-type {\n",
       "        vertical-align: middle;\n",
       "    }\n",
       "\n",
       "    .dataframe tbody tr th {\n",
       "        vertical-align: top;\n",
       "    }\n",
       "\n",
       "    .dataframe thead th {\n",
       "        text-align: right;\n",
       "    }\n",
       "</style>\n",
       "<table border=\"1\" class=\"dataframe\">\n",
       "  <thead>\n",
       "    <tr style=\"text-align: right;\">\n",
       "      <th></th>\n",
       "      <th>text</th>\n",
       "      <th>label</th>\n",
       "      <th>text_clean</th>\n",
       "      <th>lemmatized_tokens</th>\n",
       "    </tr>\n",
       "  </thead>\n",
       "  <tbody>\n",
       "    <tr>\n",
       "      <th>0</th>\n",
       "      <td>I grew up (b. 1965) watching and loving the Th...</td>\n",
       "      <td>0</td>\n",
       "      <td>grew b 9 watching loving thunderbirds mates sc...</td>\n",
       "      <td>[grew, b, 9, watching, loving, thunderbird, ma...</td>\n",
       "    </tr>\n",
       "    <tr>\n",
       "      <th>1</th>\n",
       "      <td>When I put this movie in my DVD player, and sa...</td>\n",
       "      <td>0</td>\n",
       "      <td>put movie dvd player sat coke chips expectatio...</td>\n",
       "      <td>[put, movie, dvd, player, sat, coke, chip, exp...</td>\n",
       "    </tr>\n",
       "    <tr>\n",
       "      <th>2</th>\n",
       "      <td>Why do people who do not know what a particula...</td>\n",
       "      <td>0</td>\n",
       "      <td>people know particular time past like feel nee...</td>\n",
       "      <td>[people, know, particular, time, past, like, f...</td>\n",
       "    </tr>\n",
       "    <tr>\n",
       "      <th>3</th>\n",
       "      <td>Even though I have great interest in Biblical ...</td>\n",
       "      <td>0</td>\n",
       "      <td>even though great interest biblical movies bor...</td>\n",
       "      <td>[even, though, great, interest, biblical, movi...</td>\n",
       "    </tr>\n",
       "    <tr>\n",
       "      <th>4</th>\n",
       "      <td>Im a die hard Dads Army fan and nothing will e...</td>\n",
       "      <td>1</td>\n",
       "      <td>im die hard dads army fan nothing ever change ...</td>\n",
       "      <td>[im, die, hard, dad, army, fan, nothing, ever,...</td>\n",
       "    </tr>\n",
       "  </tbody>\n",
       "</table>\n",
       "</div>"
      ],
      "text/plain": [
       "                                                text  label  \\\n",
       "0  I grew up (b. 1965) watching and loving the Th...      0   \n",
       "1  When I put this movie in my DVD player, and sa...      0   \n",
       "2  Why do people who do not know what a particula...      0   \n",
       "3  Even though I have great interest in Biblical ...      0   \n",
       "4  Im a die hard Dads Army fan and nothing will e...      1   \n",
       "\n",
       "                                          text_clean  \\\n",
       "0  grew b 9 watching loving thunderbirds mates sc...   \n",
       "1  put movie dvd player sat coke chips expectatio...   \n",
       "2  people know particular time past like feel nee...   \n",
       "3  even though great interest biblical movies bor...   \n",
       "4  im die hard dads army fan nothing ever change ...   \n",
       "\n",
       "                                   lemmatized_tokens  \n",
       "0  [grew, b, 9, watching, loving, thunderbird, ma...  \n",
       "1  [put, movie, dvd, player, sat, coke, chip, exp...  \n",
       "2  [people, know, particular, time, past, like, f...  \n",
       "3  [even, though, great, interest, biblical, movi...  \n",
       "4  [im, die, hard, dad, army, fan, nothing, ever,...  "
      ]
     },
     "execution_count": 11,
     "metadata": {},
     "output_type": "execute_result"
    }
   ],
   "source": [
    "nltk.download('omw-1.4')\n",
    "nltk.download('wordnet')\n",
    "nltk.download('punkt')\n",
    "\n",
    "w_tokenizer = nltk.tokenize.WhitespaceTokenizer()\n",
    "lemmatizer = nltk.stem.WordNetLemmatizer()\n",
    "\n",
    "def lemmatize_text(text):\n",
    "    return [lemmatizer.lemmatize(w) for w in w_tokenizer.tokenize(text)]\n",
    "    \n",
    "df['lemmatized_tokens'] = df['text_clean'].apply(lemmatize_text)\n",
    "df.head()"
   ]
  },
  {
   "cell_type": "markdown",
   "metadata": {},
   "source": [
    "#### Visualizing most frequent words"
   ]
  },
  {
   "cell_type": "code",
   "execution_count": 13,
   "metadata": {},
   "outputs": [
    {
     "data": {
      "image/png": "[encoded data removed]",
      "text/plain": [
       "<Figure size 864x1296 with 2 Axes>"
      ]
     },
     "metadata": {
      "needs_background": "light"
     },
     "output_type": "display_data"
    }
   ],
   "source": [
    "import itertools\n",
    "import collections\n",
    "\n",
    "positive_lemmatized_tokens = list(df.loc[df['label'] == 1]['lemmatized_tokens'])\n",
    "negative_lemmatized_tokens = list(df.loc[df['label'] == 0]['lemmatized_tokens'])\n",
    "token_list_positive = list(itertools.chain(*positive_lemmatized_tokens))\n",
    "token_list_negative = list(itertools.chain(*negative_lemmatized_tokens))\n",
    "\n",
    "counts_no_positive = collections.Counter(token_list_positive)\n",
    "counts_no_negative = collections.Counter(token_list_negative)\n",
    "\n",
    "positive_words_freq_df = pd.DataFrame(counts_no_positive.most_common(30), columns=['words', 'count'])\n",
    "positive_words_freq_df['label'] = 1\n",
    "negative_words_freq_df = pd.DataFrame(counts_no_negative.most_common(30), columns=['words', 'count'])\n",
    "negative_words_freq_df['label'] = 0\n",
    "\n",
    "fig, [ax0, ax1] = plt.subplots(2, 1, figsize=(12, 18))\n",
    "positive_words_freq_df.sort_values(by='count').plot.barh(x='words', y='count', ax=ax0, color=\"purple\")\n",
    "ax0.set_title('Positive words frequency')\n",
    "ax0.set_xlabel('Frequency')\n",
    "ax0.set_ylabel('Word')\n",
    "\n",
    "negative_words_freq_df.sort_values(by='count').plot.barh(x='words', y='count', ax=ax1, color=\"green\")\n",
    "ax1.set_title('Negative words frequency')\n",
    "ax1.set_xlabel('Frequency')\n",
    "ax1.set_ylabel('Word')\n",
    "\n",
    "plt.show()"
   ]
  },
  {
   "cell_type": "markdown",
   "metadata": {},
   "source": [
    "#### Counting words"
   ]
  },
  {
   "cell_type": "code",
   "execution_count": 14,
   "metadata": {},
   "outputs": [
    {
     "name": "stdout",
     "output_type": "stream",
     "text": [
      "Min: 3\n",
      "Max: 1422\n",
      "Mean: 119.1329\n",
      "Standard Deviation: 89.98017947530145\n"
     ]
    },
    {
     "data": {
      "text/plain": [
       "<AxesSubplot:>"
      ]
     },
     "execution_count": 14,
     "metadata": {},
     "output_type": "execute_result"
    },
    {
     "data": {
      "image/png": "[encoded data removed]",
      "text/plain": [
       "<Figure size 432x288 with 1 Axes>"
      ]
     },
     "metadata": {
      "needs_background": "light"
     },
     "output_type": "display_data"
    }
   ],
   "source": [
    "df['word_count'] = df['lemmatized_tokens'].apply(lambda x: len(x))\n",
    "\n",
    "# print word count statistics\n",
    "print('Min:', df['word_count'].min())\n",
    "print('Max:', df['word_count'].max())\n",
    "print('Mean:', df['word_count'].mean())\n",
    "print('Standard Deviation:', df['word_count'].std())\n",
    "\n",
    "#show the distribution of word count\n",
    "df['word_count'].hist(bins=200)"
   ]
  },
  {
   "cell_type": "code",
   "execution_count": 15,
   "metadata": {},
   "outputs": [
    {
     "data": {
      "text/plain": [
       "81965"
      ]
     },
     "execution_count": 15,
     "metadata": {},
     "output_type": "execute_result"
    }
   ],
   "source": [
    "unique_words = set(itertools.chain(*df['lemmatized_tokens']))\n",
    "len(unique_words)"
   ]
  },
  {
   "cell_type": "markdown",
   "metadata": {},
   "source": [
    "### Vectorization -> TF-IDF (method 1)"
   ]
  },
  {
   "cell_type": "code",
   "execution_count": 16,
   "metadata": {},
   "outputs": [],
   "source": [
    "from sklearn.feature_extraction.text import TfidfVectorizer\n",
    "max_features = 2000\n",
    "tfidf_converter = TfidfVectorizer(max_features=max_features)\n",
    "features_tf_idf = tfidf_converter.fit_transform(df['text_clean']).toarray()"
   ]
  },
  {
   "cell_type": "code",
   "execution_count": 17,
   "metadata": {
    "id": "oXdw8K6hBb95"
   },
   "outputs": [],
   "source": [
    "from sklearn.model_selection import train_test_split\n",
    "train_x, test_x, y_train, y_test = train_test_split(features_tf_idf, df.label, test_size=0.25, random_state=123)"
   ]
  },
  {
   "cell_type": "markdown",
   "metadata": {},
   "source": [
    "### Tokenzation - Padding (method 2) - Better when using Embedding layer"
   ]
  },
  {
   "cell_type": "code",
   "execution_count": 59,
   "metadata": {},
   "outputs": [],
   "source": [
    "from tensorflow.keras.preprocessing.text import Tokenizer\n",
    "from tensorflow.keras.preprocessing.sequence import pad_sequences\n",
    "tokenizer = Tokenizer(oov_token=\"<OOV>\") # any unknown words will be replaced by oov_token"
   ]
  },
  {
   "cell_type": "code",
   "execution_count": 58,
   "metadata": {},
   "outputs": [],
   "source": [
    "vocab_size = len(unique_words)//2\n",
    "max_features = int(df['word_count'].mean()) # the length of each review. If originally the comment is longer than \"max_features\" words, it will be truncated\n",
    "trunc_type = 'post' # the review will be truncated at the end when a review is bigger than \"max_features\" or padded when a review is smaller than \"max_length\"\n",
    "padding_type = 'post' # padding will be applied at the end, not in the beginning\n",
    "oov_tok = '<OOV>' # any unknown words will be replaced by oov_token"
   ]
  },
  {
   "cell_type": "code",
   "execution_count": 61,
   "metadata": {},
   "outputs": [],
   "source": [
    "tokenizer = Tokenizer(num_words=vocab_size, oov_token=oov_tok)\n",
    "tokenizer.fit_on_texts(df['text_clean'])\n",
    "word_index = tokenizer.word_index"
   ]
  },
  {
   "cell_type": "code",
   "execution_count": 62,
   "metadata": {},
   "outputs": [
    {
     "data": {
      "text/plain": [
       "{'<OOV>': 1,\n",
       " 'movie': 2,\n",
       " 'film': 3,\n",
       " 'one': 4,\n",
       " 'like': 5,\n",
       " 'good': 6,\n",
       " 'time': 7,\n",
       " 'even': 8,\n",
       " 'would': 9,\n",
       " 'really': 10,\n",
       " 'story': 11,\n",
       " 'see': 12,\n",
       " 'well': 13,\n",
       " 'much': 14,\n",
       " '0': 15,\n",
       " 'get': 16,\n",
       " 'bad': 17,\n",
       " 'people': 18,\n",
       " 'also': 19,\n",
       " 'great': 20,\n",
       " 'first': 21,\n",
       " 'made': 22,\n",
       " 'make': 23,\n",
       " 'way': 24,\n",
       " 'could': 25,\n",
       " 'movies': 26,\n",
       " 'characters': 27,\n",
       " 'think': 28,\n",
       " 'watch': 29,\n",
       " 'character': 30,\n",
       " 'films': 31,\n",
       " 'two': 32,\n",
       " 'seen': 33,\n",
       " 'many': 34,\n",
       " 'love': 35,\n",
       " '9': 36,\n",
       " 'plot': 37,\n",
       " 'never': 38,\n",
       " 'life': 39,\n",
       " 'acting': 40,\n",
       " 'show': 41,\n",
       " 'little': 42,\n",
       " 'best': 43,\n",
       " 'know': 44,\n",
       " 'ever': 45,\n",
       " 'man': 46,\n",
       " 'better': 47,\n",
       " 'end': 48,\n",
       " 'scene': 49,\n",
       " 'still': 50,\n",
       " 'say': 51,\n",
       " 'scenes': 52,\n",
       " 'something': 53,\n",
       " 'go': 54,\n",
       " 'back': 55,\n",
       " 'real': 56,\n",
       " 'thing': 57,\n",
       " 'watching': 58,\n",
       " 'actors': 59,\n",
       " 'director': 60,\n",
       " 'years': 61,\n",
       " 'though': 62,\n",
       " 'funny': 63,\n",
       " 'old': 64,\n",
       " 'actually': 65,\n",
       " 'work': 66,\n",
       " 'another': 67,\n",
       " 'look': 68,\n",
       " 'nothing': 69,\n",
       " 'makes': 70,\n",
       " 'find': 71,\n",
       " 'going': 72,\n",
       " 'new': 73,\n",
       " 'lot': 74,\n",
       " 'every': 75,\n",
       " 'part': 76,\n",
       " 'world': 77,\n",
       " 'us': 78,\n",
       " 'cast': 79,\n",
       " 'things': 80,\n",
       " 'horror': 81,\n",
       " 'quite': 82,\n",
       " 'pretty': 83,\n",
       " 'want': 84,\n",
       " 'around': 85,\n",
       " 'seems': 86,\n",
       " 'young': 87,\n",
       " 'big': 88,\n",
       " 'take': 89,\n",
       " 'thought': 90,\n",
       " 'enough': 91,\n",
       " 'got': 92,\n",
       " 'however': 93,\n",
       " 'fact': 94,\n",
       " 'long': 95,\n",
       " 'give': 96,\n",
       " 'series': 97,\n",
       " 'may': 98,\n",
       " 'music': 99,\n",
       " 'right': 100,\n",
       " 'comedy': 101,\n",
       " 'guy': 102,\n",
       " 'must': 103,\n",
       " 'action': 104,\n",
       " 'without': 105,\n",
       " 'always': 106,\n",
       " 'times': 107,\n",
       " 'original': 108,\n",
       " 'saw': 109,\n",
       " 'gets': 110,\n",
       " 'role': 111,\n",
       " 'almost': 112,\n",
       " 'come': 113,\n",
       " 'done': 114,\n",
       " 'interesting': 115,\n",
       " 'point': 116,\n",
       " 'least': 117,\n",
       " 'whole': 118,\n",
       " 'bit': 119,\n",
       " 'far': 120,\n",
       " 'script': 121,\n",
       " 'feel': 122,\n",
       " 'minutes': 123,\n",
       " 'family': 124,\n",
       " 'might': 125,\n",
       " 'last': 126,\n",
       " 'making': 127,\n",
       " 'anything': 128,\n",
       " 'since': 129,\n",
       " 'tv': 130,\n",
       " 'probably': 131,\n",
       " 'away': 132,\n",
       " 'kind': 133,\n",
       " 'performance': 134,\n",
       " 'yet': 135,\n",
       " 'girl': 136,\n",
       " 'fun': 137,\n",
       " 'woman': 138,\n",
       " 'anyone': 139,\n",
       " 'worst': 140,\n",
       " 'sure': 141,\n",
       " 'rather': 142,\n",
       " 'hard': 143,\n",
       " 'played': 144,\n",
       " 'day': 145,\n",
       " 'found': 146,\n",
       " 'screen': 147,\n",
       " 'especially': 148,\n",
       " 'looking': 149,\n",
       " 'although': 150,\n",
       " 'believe': 151,\n",
       " 'course': 152,\n",
       " 'trying': 153,\n",
       " 'dvd': 154,\n",
       " 'everything': 155,\n",
       " 'set': 156,\n",
       " 'ending': 157,\n",
       " 'comes': 158,\n",
       " 'goes': 159,\n",
       " 'maybe': 160,\n",
       " 'put': 161,\n",
       " 'book': 162,\n",
       " 'three': 163,\n",
       " 'let': 164,\n",
       " 'shows': 165,\n",
       " 'place': 166,\n",
       " 'worth': 167,\n",
       " 'actor': 168,\n",
       " 'different': 169,\n",
       " 'main': 170,\n",
       " 'sense': 171,\n",
       " 'american': 172,\n",
       " 'someone': 173,\n",
       " 'true': 174,\n",
       " 'looks': 175,\n",
       " 'effects': 176,\n",
       " 'play': 177,\n",
       " 'watched': 178,\n",
       " 'reason': 179,\n",
       " 'money': 180,\n",
       " 'everyone': 181,\n",
       " 'war': 182,\n",
       " 'together': 183,\n",
       " 'job': 184,\n",
       " 'year': 185,\n",
       " 'high': 186,\n",
       " 'plays': 187,\n",
       " 'instead': 188,\n",
       " 'audience': 189,\n",
       " 'said': 190,\n",
       " 'black': 191,\n",
       " 'half': 192,\n",
       " 'seem': 193,\n",
       " 'later': 194,\n",
       " 'takes': 195,\n",
       " 'night': 196,\n",
       " 'special': 197,\n",
       " 'left': 198,\n",
       " 'seeing': 199,\n",
       " 'beautiful': 200,\n",
       " 'john': 201,\n",
       " 'shot': 202,\n",
       " 'wife': 203,\n",
       " 'house': 204,\n",
       " 'excellent': 205,\n",
       " 'star': 206,\n",
       " 'idea': 207,\n",
       " 'version': 208,\n",
       " 'mind': 209,\n",
       " 'else': 210,\n",
       " 'death': 211,\n",
       " 'fan': 212,\n",
       " 'men': 213,\n",
       " 'budget': 214,\n",
       " 'nice': 215,\n",
       " 'used': 216,\n",
       " 'short': 217,\n",
       " '00': 218,\n",
       " 'simply': 219,\n",
       " 'father': 220,\n",
       " 'poor': 221,\n",
       " 'read': 222,\n",
       " 'completely': 223,\n",
       " 'along': 224,\n",
       " 'second': 225,\n",
       " 'top': 226,\n",
       " 'less': 227,\n",
       " 'help': 228,\n",
       " 'home': 229,\n",
       " 'boring': 230,\n",
       " 'kids': 231,\n",
       " 'dead': 232,\n",
       " 'either': 233,\n",
       " 'hollywood': 234,\n",
       " 'line': 235,\n",
       " 'friends': 236,\n",
       " 'try': 237,\n",
       " 'low': 238,\n",
       " 'given': 239,\n",
       " 'wrong': 240,\n",
       " 'full': 241,\n",
       " 'camera': 242,\n",
       " 'enjoy': 243,\n",
       " 'use': 244,\n",
       " 'women': 245,\n",
       " 'production': 246,\n",
       " 'classic': 247,\n",
       " 'stupid': 248,\n",
       " 'school': 249,\n",
       " '0s': 250,\n",
       " 'need': 251,\n",
       " 'couple': 252,\n",
       " 'performances': 253,\n",
       " 'rest': 254,\n",
       " 'next': 255,\n",
       " 'awful': 256,\n",
       " 'truly': 257,\n",
       " 'video': 258,\n",
       " 'sex': 259,\n",
       " 'start': 260,\n",
       " 'recommend': 261,\n",
       " 'tell': 262,\n",
       " 'mean': 263,\n",
       " 'terrible': 264,\n",
       " 'perhaps': 265,\n",
       " 'understand': 266,\n",
       " 'getting': 267,\n",
       " 'face': 268,\n",
       " 'remember': 269,\n",
       " 'name': 270,\n",
       " 'came': 271,\n",
       " 'moments': 272,\n",
       " 'keep': 273,\n",
       " 'small': 274,\n",
       " 'person': 275,\n",
       " 'playing': 276,\n",
       " 'perfect': 277,\n",
       " 'human': 278,\n",
       " 'style': 279,\n",
       " 'early': 280,\n",
       " 'definitely': 281,\n",
       " 'boy': 282,\n",
       " 'episode': 283,\n",
       " 'mother': 284,\n",
       " 'wonderful': 285,\n",
       " 'others': 286,\n",
       " 'head': 287,\n",
       " 'stars': 288,\n",
       " 'often': 289,\n",
       " 'written': 290,\n",
       " 'piece': 291,\n",
       " 'dialogue': 292,\n",
       " 'lines': 293,\n",
       " 'live': 294,\n",
       " 'children': 295,\n",
       " 'gives': 296,\n",
       " 'case': 297,\n",
       " 'yes': 298,\n",
       " 'lost': 299,\n",
       " 'laugh': 300,\n",
       " 'loved': 301,\n",
       " 'certainly': 302,\n",
       " 'friend': 303,\n",
       " 'finally': 304,\n",
       " 'title': 305,\n",
       " 'absolutely': 306,\n",
       " 'went': 307,\n",
       " 'oh': 308,\n",
       " 'entertaining': 309,\n",
       " 'liked': 310,\n",
       " 'sort': 311,\n",
       " 'worse': 312,\n",
       " 'cinema': 313,\n",
       " 'felt': 314,\n",
       " 'picture': 315,\n",
       " 'mr': 316,\n",
       " 'become': 317,\n",
       " 'overall': 318,\n",
       " 'hope': 319,\n",
       " 'entire': 320,\n",
       " 'several': 321,\n",
       " 'drama': 322,\n",
       " 'supposed': 323,\n",
       " 'based': 324,\n",
       " 'sound': 325,\n",
       " 'called': 326,\n",
       " 'white': 327,\n",
       " 'guys': 328,\n",
       " 'problem': 329,\n",
       " 'dark': 330,\n",
       " 'waste': 331,\n",
       " 'care': 332,\n",
       " 'fans': 333,\n",
       " 'beginning': 334,\n",
       " 'game': 335,\n",
       " 'lead': 336,\n",
       " 'humor': 337,\n",
       " 'seemed': 338,\n",
       " 'lives': 339,\n",
       " 'totally': 340,\n",
       " 'wanted': 341,\n",
       " 'direction': 342,\n",
       " 'guess': 343,\n",
       " 'despite': 344,\n",
       " 'evil': 345,\n",
       " 'final': 346,\n",
       " 'throughout': 347,\n",
       " 'example': 348,\n",
       " 'already': 349,\n",
       " 'becomes': 350,\n",
       " 'unfortunately': 351,\n",
       " 'killer': 352,\n",
       " 'turn': 353,\n",
       " 'son': 354,\n",
       " 'able': 355,\n",
       " 'quality': 356,\n",
       " 'b': 357,\n",
       " 'michael': 358,\n",
       " 'days': 359,\n",
       " 'history': 360,\n",
       " 'wants': 361,\n",
       " 'heart': 362,\n",
       " 'writing': 363,\n",
       " 'side': 364,\n",
       " 'flick': 365,\n",
       " 'amazing': 366,\n",
       " 'fine': 367,\n",
       " 'horrible': 368,\n",
       " 'god': 369,\n",
       " 'matter': 370,\n",
       " 'art': 371,\n",
       " 'run': 372,\n",
       " 'etc': 373,\n",
       " 'kill': 374,\n",
       " 'town': 375,\n",
       " 'close': 376,\n",
       " 'act': 377,\n",
       " 'child': 378,\n",
       " 'works': 379,\n",
       " 'turns': 380,\n",
       " 'behind': 381,\n",
       " 'viewer': 382,\n",
       " 'today': 383,\n",
       " 'tries': 384,\n",
       " 'genre': 385,\n",
       " 'brilliant': 386,\n",
       " 'stuff': 387,\n",
       " 'late': 388,\n",
       " 'parts': 389,\n",
       " 'eyes': 390,\n",
       " 'past': 391,\n",
       " 'gave': 392,\n",
       " 'enjoyed': 393,\n",
       " 'expect': 394,\n",
       " 'kid': 395,\n",
       " 'directed': 396,\n",
       " 'hand': 397,\n",
       " 'girls': 398,\n",
       " 'obviously': 399,\n",
       " 'favorite': 400,\n",
       " 'soon': 401,\n",
       " 'car': 402,\n",
       " 'highly': 403,\n",
       " 'hour': 404,\n",
       " 'stop': 405,\n",
       " 'actress': 406,\n",
       " 'thinking': 407,\n",
       " 'city': 408,\n",
       " 'killed': 409,\n",
       " 'sometimes': 410,\n",
       " 'type': 411,\n",
       " 'self': 412,\n",
       " 'daughter': 413,\n",
       " 'blood': 414,\n",
       " 'group': 415,\n",
       " 'starts': 416,\n",
       " 'decent': 417,\n",
       " 'voice': 418,\n",
       " 'says': 419,\n",
       " 'took': 420,\n",
       " 'happens': 421,\n",
       " 'heard': 422,\n",
       " 'writer': 423,\n",
       " 'anyway': 424,\n",
       " 'known': 425,\n",
       " 'fight': 426,\n",
       " 'except': 427,\n",
       " 'slow': 428,\n",
       " 'experience': 429,\n",
       " 'coming': 430,\n",
       " 'feeling': 431,\n",
       " 'leave': 432,\n",
       " 'stories': 433,\n",
       " 'score': 434,\n",
       " 'roles': 435,\n",
       " 'involved': 436,\n",
       " 'moment': 437,\n",
       " 'lack': 438,\n",
       " 'hero': 439,\n",
       " 'violence': 440,\n",
       " 'complete': 441,\n",
       " 'happen': 442,\n",
       " 'chance': 443,\n",
       " 'told': 444,\n",
       " 'crap': 445,\n",
       " 'save': 446,\n",
       " 'particularly': 447,\n",
       " 'ok': 448,\n",
       " 'please': 449,\n",
       " 'hit': 450,\n",
       " 'police': 451,\n",
       " 'extremely': 452,\n",
       " 'wonder': 453,\n",
       " 'simple': 454,\n",
       " 'david': 455,\n",
       " 'cool': 456,\n",
       " 'living': 457,\n",
       " 'hell': 458,\n",
       " 'age': 459,\n",
       " 'hilarious': 460,\n",
       " 'strong': 461,\n",
       " 'attempt': 462,\n",
       " 'looked': 463,\n",
       " 'song': 464,\n",
       " 'cannot': 465,\n",
       " 'serious': 466,\n",
       " 'taken': 467,\n",
       " 'robert': 468,\n",
       " 'obvious': 469,\n",
       " 'murder': 470,\n",
       " 'including': 471,\n",
       " 'shown': 472,\n",
       " 'ago': 473,\n",
       " 'cut': 474,\n",
       " 'husband': 475,\n",
       " 'happened': 476,\n",
       " 'brother': 477,\n",
       " 'james': 478,\n",
       " 'gore': 479,\n",
       " 'reality': 480,\n",
       " 'released': 481,\n",
       " 'exactly': 482,\n",
       " 'jokes': 483,\n",
       " 'seriously': 484,\n",
       " 'none': 485,\n",
       " 'english': 486,\n",
       " 'running': 487,\n",
       " 'possible': 488,\n",
       " 'opening': 489,\n",
       " 'alone': 490,\n",
       " 'across': 491,\n",
       " 'sad': 492,\n",
       " 'usually': 493,\n",
       " 'cinematography': 494,\n",
       " 'number': 495,\n",
       " 'interest': 496,\n",
       " 'huge': 497,\n",
       " 'order': 498,\n",
       " 'documentary': 499,\n",
       " 'career': 500,\n",
       " 'saying': 501,\n",
       " 'whose': 502,\n",
       " 'light': 503,\n",
       " 'hours': 504,\n",
       " 'ends': 505,\n",
       " 'wish': 506,\n",
       " 'jack': 507,\n",
       " 'annoying': 508,\n",
       " 'relationship': 509,\n",
       " 'taking': 510,\n",
       " 'level': 511,\n",
       " 'talent': 512,\n",
       " 'view': 513,\n",
       " 'call': 514,\n",
       " 'four': 515,\n",
       " 'body': 516,\n",
       " 'started': 517,\n",
       " 'country': 518,\n",
       " 'shots': 519,\n",
       " 'ridiculous': 520,\n",
       " 'word': 521,\n",
       " 'middle': 522,\n",
       " 'ones': 523,\n",
       " 'silly': 524,\n",
       " 'scary': 525,\n",
       " 'knew': 526,\n",
       " 'female': 527,\n",
       " 'opinion': 528,\n",
       " 'beyond': 529,\n",
       " 'power': 530,\n",
       " 'talking': 531,\n",
       " 'turned': 532,\n",
       " 'usual': 533,\n",
       " 'mostly': 534,\n",
       " 'rating': 535,\n",
       " 'knows': 536,\n",
       " 'change': 537,\n",
       " 'disappointed': 538,\n",
       " 'basically': 539,\n",
       " 'novel': 540,\n",
       " 'major': 541,\n",
       " 'important': 542,\n",
       " 'somewhat': 543,\n",
       " 'strange': 544,\n",
       " 'happy': 545,\n",
       " 'room': 546,\n",
       " 'apparently': 547,\n",
       " 'words': 548,\n",
       " 'non': 549,\n",
       " 'upon': 550,\n",
       " 'modern': 551,\n",
       " 'cheap': 552,\n",
       " 'single': 553,\n",
       " 'episodes': 554,\n",
       " 'musical': 555,\n",
       " 'attention': 556,\n",
       " 'due': 557,\n",
       " 'local': 558,\n",
       " 'miss': 559,\n",
       " 'clich': 560,\n",
       " 'television': 561,\n",
       " 'clearly': 562,\n",
       " 'finds': 563,\n",
       " 'earth': 564,\n",
       " 'five': 565,\n",
       " 'fast': 566,\n",
       " 'king': 567,\n",
       " 'problems': 568,\n",
       " 'thriller': 569,\n",
       " 'events': 570,\n",
       " 'sequence': 571,\n",
       " 'die': 572,\n",
       " 'space': 573,\n",
       " 'entertainment': 574,\n",
       " 'review': 575,\n",
       " 'add': 576,\n",
       " 'british': 577,\n",
       " 'class': 578,\n",
       " 'ten': 579,\n",
       " 'future': 580,\n",
       " 'team': 581,\n",
       " 'french': 582,\n",
       " 'talk': 583,\n",
       " 'predictable': 584,\n",
       " 'tells': 585,\n",
       " 'straight': 586,\n",
       " 'comic': 587,\n",
       " 'moving': 588,\n",
       " 'dialog': 589,\n",
       " 'george': 590,\n",
       " 'rock': 591,\n",
       " 'sets': 592,\n",
       " 'giving': 593,\n",
       " 'supporting': 594,\n",
       " 'whether': 595,\n",
       " 'soundtrack': 596,\n",
       " 'eye': 597,\n",
       " 'songs': 598,\n",
       " 'near': 599,\n",
       " 'enjoyable': 600,\n",
       " 'similar': 601,\n",
       " 'easily': 602,\n",
       " 'filmed': 603,\n",
       " 'within': 604,\n",
       " 'appears': 605,\n",
       " 'e': 606,\n",
       " 'sequel': 607,\n",
       " 'romantic': 608,\n",
       " 'hate': 609,\n",
       " 'lots': 610,\n",
       " 'easy': 611,\n",
       " 'dull': 612,\n",
       " 'storyline': 613,\n",
       " 'stay': 614,\n",
       " 'needs': 615,\n",
       " 'suspense': 616,\n",
       " 'sister': 617,\n",
       " 'clear': 618,\n",
       " 'sorry': 619,\n",
       " 'falls': 620,\n",
       " 'bring': 621,\n",
       " 'surprised': 622,\n",
       " 'monster': 623,\n",
       " 'bunch': 624,\n",
       " 'mention': 625,\n",
       " 'showing': 626,\n",
       " 'certain': 627,\n",
       " 'working': 628,\n",
       " 'tried': 629,\n",
       " 'fall': 630,\n",
       " 'message': 631,\n",
       " 'ways': 632,\n",
       " 'theme': 633,\n",
       " 'release': 634,\n",
       " 'tale': 635,\n",
       " 'lady': 636,\n",
       " 'parents': 637,\n",
       " 'theater': 638,\n",
       " 'dr': 639,\n",
       " 'typical': 640,\n",
       " 'viewers': 641,\n",
       " 'doubt': 642,\n",
       " 'feels': 643,\n",
       " 'minute': 644,\n",
       " 'effort': 645,\n",
       " 'stand': 646,\n",
       " 'dog': 647,\n",
       " 'named': 648,\n",
       " 'feature': 649,\n",
       " 'using': 650,\n",
       " 'realistic': 651,\n",
       " 'buy': 652,\n",
       " 'deal': 653,\n",
       " 'gone': 654,\n",
       " 'red': 655,\n",
       " 'editing': 656,\n",
       " 'mystery': 657,\n",
       " 'avoid': 658,\n",
       " 'fantastic': 659,\n",
       " 'means': 660,\n",
       " 'general': 661,\n",
       " 'tom': 662,\n",
       " 'subject': 663,\n",
       " 'among': 664,\n",
       " 'comments': 665,\n",
       " 'check': 666,\n",
       " 'nearly': 667,\n",
       " 'kept': 668,\n",
       " 'greatest': 669,\n",
       " 'okay': 670,\n",
       " 'follow': 671,\n",
       " 'richard': 672,\n",
       " 'famous': 673,\n",
       " 'elements': 674,\n",
       " 'crime': 675,\n",
       " 'actual': 676,\n",
       " 'atmosphere': 677,\n",
       " 'points': 678,\n",
       " 'peter': 679,\n",
       " 'viewing': 680,\n",
       " 'form': 681,\n",
       " 'begins': 682,\n",
       " 'leads': 683,\n",
       " 'rent': 684,\n",
       " 'america': 685,\n",
       " 'oscar': 686,\n",
       " 'paul': 687,\n",
       " 'imagine': 688,\n",
       " 'fi': 689,\n",
       " 'move': 690,\n",
       " 'somehow': 691,\n",
       " 'killing': 692,\n",
       " 'sci': 693,\n",
       " '99': 694,\n",
       " 'deep': 695,\n",
       " 'reviews': 696,\n",
       " 'forget': 697,\n",
       " 'material': 698,\n",
       " 'brought': 699,\n",
       " 'figure': 700,\n",
       " 'particular': 701,\n",
       " 'surprise': 702,\n",
       " 'average': 703,\n",
       " 'believable': 704,\n",
       " 'doctor': 705,\n",
       " 'whatever': 706,\n",
       " 'weak': 707,\n",
       " 'animation': 708,\n",
       " 'wait': 709,\n",
       " 'note': 710,\n",
       " 'period': 711,\n",
       " 'lame': 712,\n",
       " 'sequences': 713,\n",
       " 'imdb': 714,\n",
       " 'learn': 715,\n",
       " 'open': 716,\n",
       " 'eventually': 717,\n",
       " 'sit': 718,\n",
       " 'hear': 719,\n",
       " 'situation': 720,\n",
       " 'expected': 721,\n",
       " 'decided': 722,\n",
       " 'society': 723,\n",
       " 'poorly': 724,\n",
       " 'third': 725,\n",
       " 'box': 726,\n",
       " 'free': 727,\n",
       " 'indeed': 728,\n",
       " 'acted': 729,\n",
       " 'hot': 730,\n",
       " 'york': 731,\n",
       " 'truth': 732,\n",
       " 'boys': 733,\n",
       " 'dance': 734,\n",
       " 'premise': 735,\n",
       " 'romance': 736,\n",
       " 'write': 737,\n",
       " 'reading': 738,\n",
       " 'credits': 739,\n",
       " 'cheesy': 740,\n",
       " 'unless': 741,\n",
       " 'emotional': 742,\n",
       " 'shame': 743,\n",
       " 'otherwise': 744,\n",
       " 'crew': 745,\n",
       " 'forced': 746,\n",
       " 'leaves': 747,\n",
       " 'season': 748,\n",
       " 'needed': 749,\n",
       " 'memorable': 750,\n",
       " 'difficult': 751,\n",
       " 'became': 752,\n",
       " 'meets': 753,\n",
       " 'western': 754,\n",
       " 'possibly': 755,\n",
       " 'de': 756,\n",
       " 'street': 757,\n",
       " 'meet': 758,\n",
       " 'begin': 759,\n",
       " 'gay': 760,\n",
       " 'lee': 761,\n",
       " 'question': 762,\n",
       " 'footage': 763,\n",
       " 'features': 764,\n",
       " 'effect': 765,\n",
       " 'sexual': 766,\n",
       " 'air': 767,\n",
       " 'island': 768,\n",
       " 'badly': 769,\n",
       " 'forward': 770,\n",
       " 'beauty': 771,\n",
       " 'superb': 772,\n",
       " 'screenplay': 773,\n",
       " 'plus': 774,\n",
       " 'weird': 775,\n",
       " 'masterpiece': 776,\n",
       " 'hands': 777,\n",
       " 'battle': 778,\n",
       " 'stage': 779,\n",
       " 'japanese': 780,\n",
       " 'laughs': 781,\n",
       " 'mark': 782,\n",
       " 'personal': 783,\n",
       " 'quickly': 784,\n",
       " 'nature': 785,\n",
       " 'male': 786,\n",
       " 'sounds': 787,\n",
       " 'perfectly': 788,\n",
       " 'worked': 789,\n",
       " 'setting': 790,\n",
       " 'comment': 791,\n",
       " 'interested': 792,\n",
       " 'fire': 793,\n",
       " 'total': 794,\n",
       " 'previous': 795,\n",
       " 'inside': 796,\n",
       " 'incredibly': 797,\n",
       " 'copy': 798,\n",
       " 'bill': 799,\n",
       " 'joe': 800,\n",
       " 'result': 801,\n",
       " 'baby': 802,\n",
       " 'girlfriend': 803,\n",
       " 'keeps': 804,\n",
       " 'realize': 805,\n",
       " 'creepy': 806,\n",
       " 'crazy': 807,\n",
       " 'dumb': 808,\n",
       " 'background': 809,\n",
       " 'ask': 810,\n",
       " 'earlier': 811,\n",
       " 'following': 812,\n",
       " 'cop': 813,\n",
       " 'unique': 814,\n",
       " 'appear': 815,\n",
       " 'water': 816,\n",
       " 'powerful': 817,\n",
       " 'rate': 818,\n",
       " 'dream': 819,\n",
       " 'dramatic': 820,\n",
       " 'disney': 821,\n",
       " 'business': 822,\n",
       " 'writers': 823,\n",
       " 'pay': 824,\n",
       " 'older': 825,\n",
       " 'towards': 826,\n",
       " 'front': 827,\n",
       " 'fairly': 828,\n",
       " 'mess': 829,\n",
       " 'admit': 830,\n",
       " 'gun': 831,\n",
       " 'apart': 832,\n",
       " 'brings': 833,\n",
       " 'directors': 834,\n",
       " 'joke': 835,\n",
       " 'zombie': 836,\n",
       " 'rich': 837,\n",
       " 'development': 838,\n",
       " 'leading': 839,\n",
       " '000': 840,\n",
       " 'spent': 841,\n",
       " 'cover': 842,\n",
       " 'political': 843,\n",
       " 'plenty': 844,\n",
       " 'various': 845,\n",
       " 'directing': 846,\n",
       " 'c': 847,\n",
       " 'outside': 848,\n",
       " 'break': 849,\n",
       " '90': 850,\n",
       " 'era': 851,\n",
       " 'meant': 852,\n",
       " 'list': 853,\n",
       " 'reasons': 854,\n",
       " 'portrayed': 855,\n",
       " 'william': 856,\n",
       " 'twist': 857,\n",
       " 'success': 858,\n",
       " 'odd': 859,\n",
       " 'deserves': 860,\n",
       " 'party': 861,\n",
       " 'telling': 862,\n",
       " 'ended': 863,\n",
       " 'missing': 864,\n",
       " 'recently': 865,\n",
       " 'fighting': 866,\n",
       " 'match': 867,\n",
       " 'ideas': 868,\n",
       " 'plain': 869,\n",
       " 'wasted': 870,\n",
       " 'create': 871,\n",
       " 'expecting': 872,\n",
       " 'present': 873,\n",
       " 'return': 874,\n",
       " 'fails': 875,\n",
       " 'large': 876,\n",
       " 'hardly': 877,\n",
       " 'agree': 878,\n",
       " 'talented': 879,\n",
       " 'attempts': 880,\n",
       " 'cartoon': 881,\n",
       " 'spoilers': 882,\n",
       " 'cute': 883,\n",
       " 'flat': 884,\n",
       " 'unlike': 885,\n",
       " 'nudity': 886,\n",
       " 'caught': 887,\n",
       " 'villain': 888,\n",
       " 'public': 889,\n",
       " 'italian': 890,\n",
       " 'produced': 891,\n",
       " 'married': 892,\n",
       " 'potential': 893,\n",
       " 'members': 894,\n",
       " 'familiar': 895,\n",
       " 'secret': 896,\n",
       " 'escape': 897,\n",
       " 'german': 898,\n",
       " 'laughing': 899,\n",
       " 'fantasy': 900,\n",
       " 'century': 901,\n",
       " 'cause': 902,\n",
       " 'filmmakers': 903,\n",
       " 'clever': 904,\n",
       " 'missed': 905,\n",
       " 'science': 906,\n",
       " 'scott': 907,\n",
       " 'pure': 908,\n",
       " 'state': 909,\n",
       " 'train': 910,\n",
       " 'created': 911,\n",
       " 'manages': 912,\n",
       " 'co': 913,\n",
       " 'company': 914,\n",
       " 'office': 915,\n",
       " 'incredible': 916,\n",
       " 'mentioned': 917,\n",
       " 'slightly': 918,\n",
       " 'remake': 919,\n",
       " 'sweet': 920,\n",
       " 'van': 921,\n",
       " 'pace': 922,\n",
       " 'la': 923,\n",
       " 'casting': 924,\n",
       " 'considering': 925,\n",
       " 'speak': 926,\n",
       " 'mad': 927,\n",
       " 'hold': 928,\n",
       " 'store': 929,\n",
       " 'died': 930,\n",
       " 'visual': 931,\n",
       " 'cold': 932,\n",
       " 'tension': 933,\n",
       " 'anti': 934,\n",
       " 'credit': 935,\n",
       " 'filled': 936,\n",
       " 'sadly': 937,\n",
       " 'wrote': 938,\n",
       " 'waiting': 939,\n",
       " 'language': 940,\n",
       " 'trouble': 941,\n",
       " 'uses': 942,\n",
       " 'band': 943,\n",
       " 'common': 944,\n",
       " 'law': 945,\n",
       " 'neither': 946,\n",
       " 'portrayal': 947,\n",
       " 'sees': 948,\n",
       " 'convincing': 949,\n",
       " 'dancing': 950,\n",
       " 'post': 951,\n",
       " 'moves': 952,\n",
       " 'alive': 953,\n",
       " 'force': 954,\n",
       " 'appreciate': 955,\n",
       " 'hair': 956,\n",
       " 'former': 957,\n",
       " 'entirely': 958,\n",
       " 'yeah': 959,\n",
       " 'fit': 960,\n",
       " 'decides': 961,\n",
       " 'college': 962,\n",
       " 'choice': 963,\n",
       " 'bored': 964,\n",
       " 'popular': 965,\n",
       " 'value': 966,\n",
       " 'f': 967,\n",
       " 'compared': 968,\n",
       " 'cat': 969,\n",
       " 'fiction': 970,\n",
       " 'recommended': 971,\n",
       " 'depth': 972,\n",
       " 'situations': 973,\n",
       " 'amount': 974,\n",
       " 'younger': 975,\n",
       " 'social': 976,\n",
       " 'fear': 977,\n",
       " 'suddenly': 978,\n",
       " 'jane': 979,\n",
       " 'meaning': 980,\n",
       " 'brain': 981,\n",
       " 'project': 982,\n",
       " 'biggest': 983,\n",
       " 'drug': 984,\n",
       " 'intelligent': 985,\n",
       " 'producers': 986,\n",
       " 'bizarre': 987,\n",
       " 'images': 988,\n",
       " 'master': 989,\n",
       " 'concept': 990,\n",
       " 'pointless': 991,\n",
       " 'awesome': 992,\n",
       " 'culture': 993,\n",
       " 'successful': 994,\n",
       " 'control': 995,\n",
       " 'violent': 996,\n",
       " 'pathetic': 997,\n",
       " 'follows': 998,\n",
       " 'sick': 999,\n",
       " 'aside': 1000,\n",
       " ...}"
      ]
     },
     "execution_count": 62,
     "metadata": {},
     "output_type": "execute_result"
    }
   ],
   "source": [
    "word_index"
   ]
  },
  {
   "cell_type": "code",
   "execution_count": 63,
   "metadata": {},
   "outputs": [],
   "source": [
    "seq = tokenizer.texts_to_sequences(df['text_clean'])\n",
    "x_tokenized_padded = pad_sequences(seq, maxlen=max_features, truncating=trunc_type)"
   ]
  },
  {
   "cell_type": "code",
   "execution_count": 64,
   "metadata": {},
   "outputs": [
    {
     "name": "stdout",
     "output_type": "stream",
     "text": [
      "(40000, 119)\n"
     ]
    },
    {
     "data": {
      "text/plain": [
       "array([[    0,     0,     0, ...,   497,  5735,  5685],\n",
       "       [  161,     2,   154, ...,   189,    33,    21],\n",
       "       [    0,     0,     0, ...,  2131,    36,    36],\n",
       "       ...,\n",
       "       [    0,     0,     0, ...,  1164,  4557,   645],\n",
       "       [    0,     0,     0, ..., 24590,  3084,    15],\n",
       "       [    0,     0,     0, ...,   222,   791,  6572]])"
      ]
     },
     "execution_count": 64,
     "metadata": {},
     "output_type": "execute_result"
    }
   ],
   "source": [
    "print(x_tokenized_padded.shape)\n",
    "x_tokenized_padded"
   ]
  },
  {
   "cell_type": "code",
   "execution_count": 70,
   "metadata": {},
   "outputs": [],
   "source": [
    "from sklearn.model_selection import train_test_split\n",
    "train_x, test_x, y_train, y_test = train_test_split(x_tokenized_padded, df.label, test_size=0.25, random_state=123)"
   ]
  },
  {
   "cell_type": "code",
   "execution_count": 66,
   "metadata": {},
   "outputs": [],
   "source": [
    "train_x = train_x / np.linalg.norm(train_x, axis=1, keepdims=True)\n",
    "test_x = test_x / np.linalg.norm(test_x, axis=1, keepdims=True)"
   ]
  },
  {
   "cell_type": "markdown",
   "metadata": {
    "id": "MhuxtXE7CJ3P"
   },
   "source": [
    "## Building the model"
   ]
  },
  {
   "cell_type": "code",
   "execution_count": 18,
   "metadata": {},
   "outputs": [],
   "source": [
    "import tensorflow as tf\n",
    "from tensorflow.keras import layers"
   ]
  },
  {
   "cell_type": "code",
   "execution_count": 19,
   "metadata": {
    "id": "q_CFB3VKCO2W"
   },
   "outputs": [
    {
     "name": "stdout",
     "output_type": "stream",
     "text": [
      "Model: \"sequential\"\n",
      "_________________________________________________________________\n",
      " Layer (type)                Output Shape              Param #   \n",
      "=================================================================\n",
      " dense (Dense)               (None, 32)                64032     \n",
      "                                                                 \n",
      " dense_1 (Dense)             (None, 16)                528       \n",
      "                                                                 \n",
      " dense_2 (Dense)             (None, 8)                 136       \n",
      "                                                                 \n",
      " dense_3 (Dense)             (None, 1)                 9         \n",
      "                                                                 \n",
      "=================================================================\n",
      "Total params: 64,705\n",
      "Trainable params: 64,705\n",
      "Non-trainable params: 0\n",
      "_________________________________________________________________\n"
     ]
    }
   ],
   "source": [
    "model = tf.keras.Sequential([\n",
    "    layers.Input(shape=(max_features, )),\n",
    "    layers.Dense(32, activation='relu'),\n",
    "    layers.Dense(16, activation='relu'),\n",
    "    layers.Dense(8, activation='relu'),\n",
    "    layers.Dense(1, activation='sigmoid')\n",
    "])\n",
    "model.compile('adam', 'binary_crossentropy', metrics=['accuracy'])\n",
    "model.summary()"
   ]
  },
  {
   "cell_type": "markdown",
   "metadata": {},
   "source": [
    "### Training the model"
   ]
  },
  {
   "cell_type": "code",
   "execution_count": 20,
   "metadata": {},
   "outputs": [],
   "source": [
    "# Create a callback that saves the model's weights\n",
    "from pathlib import Path\n",
    "\n",
    "WEIGHTS_PATH = './Weights_per_epochs'\n",
    "Path(WEIGHTS_PATH).mkdir(parents=True, exist_ok=True)\n",
    "\n",
    "checkpoint_path = \"./Weights_per_epochs/weights{epoch:02d}.hdf5\"\n",
    "callback = tf.keras.callbacks.ModelCheckpoint(filepath=checkpoint_path,\n",
    "                                                 save_weights_only=True,\n",
    "                                                 verbose=1)"
   ]
  },
  {
   "cell_type": "code",
   "execution_count": 21,
   "metadata": {
    "colab": {
     "base_uri": "https://localhost:8080/",
     "height": 1000
    },
    "id": "qZlzSc2tC9Oc",
    "outputId": "f2cc1cca-f7aa-4fc0-8d8c-9a222b39e93b"
   },
   "outputs": [
    {
     "name": "stdout",
     "output_type": "stream",
     "text": [
      "Epoch 1/10\n",
      "933/938 [============================>.] - ETA: 0s - loss: 0.3494 - accuracy: 0.8517\n",
      "Epoch 1: saving model to ./Weights_per_epochs\\weights01.hdf5\n",
      "938/938 [==============================] - 3s 3ms/step - loss: 0.3493 - accuracy: 0.8518 - val_loss: 0.3006 - val_accuracy: 0.8697\n",
      "Epoch 2/10\n",
      "933/938 [============================>.] - ETA: 0s - loss: 0.2689 - accuracy: 0.8895\n",
      "Epoch 2: saving model to ./Weights_per_epochs\\weights02.hdf5\n",
      "938/938 [==============================] - 3s 3ms/step - loss: 0.2693 - accuracy: 0.8894 - val_loss: 0.2870 - val_accuracy: 0.8784\n",
      "Epoch 3/10\n",
      "928/938 [============================>.] - ETA: 0s - loss: 0.2512 - accuracy: 0.8978\n",
      "Epoch 3: saving model to ./Weights_per_epochs\\weights03.hdf5\n",
      "938/938 [==============================] - 2s 2ms/step - loss: 0.2515 - accuracy: 0.8976 - val_loss: 0.2901 - val_accuracy: 0.8769\n",
      "Epoch 4/10\n",
      "919/938 [============================>.] - ETA: 0s - loss: 0.2218 - accuracy: 0.9124\n",
      "Epoch 4: saving model to ./Weights_per_epochs\\weights04.hdf5\n",
      "938/938 [==============================] - 2s 2ms/step - loss: 0.2218 - accuracy: 0.9122 - val_loss: 0.2982 - val_accuracy: 0.8717\n",
      "Epoch 5/10\n",
      "928/938 [============================>.] - ETA: 0s - loss: 0.1743 - accuracy: 0.9348\n",
      "Epoch 5: saving model to ./Weights_per_epochs\\weights05.hdf5\n",
      "938/938 [==============================] - 2s 3ms/step - loss: 0.1742 - accuracy: 0.9348 - val_loss: 0.3354 - val_accuracy: 0.8666\n",
      "Epoch 6/10\n",
      "916/938 [============================>.] - ETA: 0s - loss: 0.1228 - accuracy: 0.9572\n",
      "Epoch 6: saving model to ./Weights_per_epochs\\weights06.hdf5\n",
      "938/938 [==============================] - 3s 3ms/step - loss: 0.1237 - accuracy: 0.9566 - val_loss: 0.3748 - val_accuracy: 0.8615\n",
      "Epoch 7/10\n",
      "926/938 [============================>.] - ETA: 0s - loss: 0.0755 - accuracy: 0.9760\n",
      "Epoch 7: saving model to ./Weights_per_epochs\\weights07.hdf5\n",
      "938/938 [==============================] - 2s 3ms/step - loss: 0.0754 - accuracy: 0.9760 - val_loss: 0.4552 - val_accuracy: 0.8587\n",
      "Epoch 8/10\n",
      "938/938 [==============================] - ETA: 0s - loss: 0.0391 - accuracy: 0.9884\n",
      "Epoch 8: saving model to ./Weights_per_epochs\\weights08.hdf5\n",
      "938/938 [==============================] - 2s 2ms/step - loss: 0.0391 - accuracy: 0.9884 - val_loss: 0.6334 - val_accuracy: 0.8605\n",
      "Epoch 9/10\n",
      "920/938 [============================>.] - ETA: 0s - loss: 0.0209 - accuracy: 0.9945\n",
      "Epoch 9: saving model to ./Weights_per_epochs\\weights09.hdf5\n",
      "938/938 [==============================] - 2s 2ms/step - loss: 0.0210 - accuracy: 0.9944 - val_loss: 0.7380 - val_accuracy: 0.8565\n",
      "Epoch 10/10\n",
      "916/938 [============================>.] - ETA: 0s - loss: 0.0101 - accuracy: 0.9975\n",
      "Epoch 10: saving model to ./Weights_per_epochs\\weights10.hdf5\n",
      "938/938 [==============================] - 2s 2ms/step - loss: 0.0103 - accuracy: 0.9975 - val_loss: 0.8373 - val_accuracy: 0.8562\n"
     ]
    }
   ],
   "source": [
    "for file in Path(WEIGHTS_PATH).glob('*'):\n",
    "    file.unlink()\n",
    "\n",
    "epochs = 10\n",
    "history = model.fit(train_x, y_train, \n",
    "                    epochs=epochs, \n",
    "                    validation_data=(test_x, y_test),\n",
    "                    callbacks=[callback])"
   ]
  },
  {
   "cell_type": "markdown",
   "metadata": {},
   "source": [
    "### Model Performance"
   ]
  },
  {
   "cell_type": "code",
   "execution_count": 22,
   "metadata": {},
   "outputs": [
    {
     "data": {
      "text/plain": [
       "<Figure size 432x288 with 0 Axes>"
      ]
     },
     "execution_count": 22,
     "metadata": {},
     "output_type": "execute_result"
    },
    {
     "data": {
      "image/png": "[encoded data removed]",
      "text/plain": [
       "<Figure size 432x288 with 1 Axes>"
      ]
     },
     "metadata": {
      "needs_background": "light"
     },
     "output_type": "display_data"
    },
    {
     "data": {
      "image/png": "[encoded data removed]",
      "text/plain": [
       "<Figure size 432x288 with 1 Axes>"
      ]
     },
     "metadata": {
      "needs_background": "light"
     },
     "output_type": "display_data"
    },
    {
     "data": {
      "text/plain": [
       "<Figure size 432x288 with 0 Axes>"
      ]
     },
     "metadata": {},
     "output_type": "display_data"
    }
   ],
   "source": [
    "%matplotlib inline\n",
    "import matplotlib.pyplot as plt\n",
    "import matplotlib.image as mpimg\n",
    "\n",
    "acc = history.history['accuracy']\n",
    "val_acc = history.history['val_accuracy']\n",
    "loss = history.history['loss']\n",
    "val_loss = history.history['val_loss']\n",
    "epcs=range(len(acc))\n",
    "\n",
    "plt.plot(epcs, acc, 'r', 'Training Accuracy')\n",
    "plt.plot(epcs, val_acc, 'b', 'Validation Accuracy')\n",
    "plt.title('Training and validation accuracy')\n",
    "plt.figure()\n",
    "plt.plot(epcs, loss, 'r', 'Training Loss')\n",
    "plt.plot(epcs, val_loss, 'b', 'Validation Loss')\n",
    "plt.title('Training and validation loss')\n",
    "plt.figure()"
   ]
  },
  {
   "cell_type": "markdown",
   "metadata": {},
   "source": [
    "## Histograms"
   ]
  },
  {
   "cell_type": "code",
   "execution_count": 23,
   "metadata": {},
   "outputs": [
    {
     "data": {
      "text/plain": [
       "10"
      ]
     },
     "execution_count": 23,
     "metadata": {},
     "output_type": "execute_result"
    }
   ],
   "source": [
    "list_weights = os.listdir('./Weights_per_epochs')\n",
    "len(list_weights)"
   ]
  },
  {
   "cell_type": "code",
   "execution_count": 24,
   "metadata": {},
   "outputs": [],
   "source": [
    "def get_weights_from_layer(model, weights_dir, layer_number, num_epochs):\n",
    "    weights = np.array([])\n",
    "    for i in range(num_epochs):\n",
    "        model.load_weights(f'{weights_dir}/{list_weights[i]}')\n",
    "        weights = np.append(weights, model.get_weights()[0][layer_number])\n",
    "    \n",
    "    # weights = weights.reshape(num_epochs, -1)\n",
    "    return weights"
   ]
  },
  {
   "cell_type": "code",
   "execution_count": 25,
   "metadata": {},
   "outputs": [
    {
     "data": {
      "text/plain": [
       "(320,)"
      ]
     },
     "execution_count": 25,
     "metadata": {},
     "output_type": "execute_result"
    }
   ],
   "source": [
    "weights_from_layer0 = get_weights_from_layer(model, './Weights_per_epochs', 0, epochs)\n",
    "weights_from_layer1 = get_weights_from_layer(model, './Weights_per_epochs', 1, epochs)\n",
    "weights_from_layer2 = get_weights_from_layer(model, './Weights_per_epochs', 2, epochs)\n",
    "weights_from_layer3 = get_weights_from_layer(model, './Weights_per_epochs', 3, epochs)\n",
    "weights_from_layer0.shape # (15, 32) - 15 epochs, 32 neurons in the layer"
   ]
  },
  {
   "cell_type": "code",
   "execution_count": 26,
   "metadata": {},
   "outputs": [
    {
     "data": {
      "text/plain": [
       "array([ 0.03636436,  0.02432682, -0.00732699,  0.08579352,  0.04203139,\n",
       "       -0.03568668,  0.06724966,  0.00556915,  0.01658848, -0.02650351])"
      ]
     },
     "execution_count": 26,
     "metadata": {},
     "output_type": "execute_result"
    }
   ],
   "source": [
    "weights_from_layer0[:10] # all weights from the second neuron in the first layer"
   ]
  },
  {
   "cell_type": "code",
   "execution_count": 27,
   "metadata": {},
   "outputs": [],
   "source": [
    "from scipy.stats import norm\n",
    "plt.style.use('seaborn-whitegrid')"
   ]
  },
  {
   "cell_type": "code",
   "execution_count": 28,
   "metadata": {},
   "outputs": [],
   "source": [
    "def plot_weights_histogram(*weights):\n",
    "    \"\"\"This method plots the histogram of the weights of a layer along the epochs\"\"\"\n",
    "    fig, ax = plt.subplots(figsize=(8, 6))\n",
    "    _, bins1 = np.histogram(weights[0], bins=50)\n",
    "    _, bins2 = np.histogram(weights[1], bins=50)\n",
    "    _, bins3 = np.histogram(weights[2], bins=50)\n",
    "    _, bins4 = np.histogram(weights[3], bins=50)\n",
    "    # _, bins1, _ = ax.hist(weights[0], bins=50, label='Layer 0', histtype='bar', density=True)\n",
    "    # _, bins2, _ = ax.hist(weights[1], bins=50, label='Layer 1', density=True)\n",
    "    # _, bins3, _ = ax.hist(weights[2], bins=50, label='Layer 2', density=True)\n",
    "    y1 = norm.pdf(bins1, weights[0].mean(), weights[0].std())\n",
    "    y2 = norm.pdf(bins2, weights[1].mean(), weights[1].std())\n",
    "    y3 = norm.pdf(bins3, weights[2].mean(), weights[2].std())\n",
    "    y4 = norm.pdf(bins4, weights[3].mean(), weights[3].std())\n",
    "    ax.plot(bins1, y1, '--', label='Layer 0')\n",
    "    ax.plot(bins2, y2, '--', label='Layer 1')\n",
    "    ax.plot(bins3, y3, '--', label='Layer 2')\n",
    "    ax.plot(bins4, y4, '--', label='Layer 3')\n",
    "    ax.legend(loc='best')\n",
    "    ax.set_title('Histogram of weights')\n",
    "    ax.set_ylabel('Frequency')\n",
    "    ax.set_xlabel('Weight value')\n",
    "    fig.tight_layout()\n",
    "    ax.grid(False)\n",
    "    "
   ]
  },
  {
   "cell_type": "code",
   "execution_count": 29,
   "metadata": {},
   "outputs": [
    {
     "data": {
      "image/png": "[encoded data removed]",
      "text/plain": [
       "<Figure size 576x432 with 1 Axes>"
      ]
     },
     "metadata": {},
     "output_type": "display_data"
    }
   ],
   "source": [
    "plot_weights_histogram(weights_from_layer0, weights_from_layer1, weights_from_layer2, weights_from_layer3)"
   ]
  }
 ],
 "metadata": {
  "accelerator": "GPU",
  "colab": {
   "collapsed_sections": [],
   "name": "MLP Sentiment Analysis (PIBIC 2021).ipynb",
   "provenance": []
  },
  "kernelspec": {
   "display_name": "Python 3",
   "language": "python",
   "name": "python3"
  },
  "language_info": {
   "codemirror_mode": {
    "name": "ipython",
    "version": 3
   },
   "file_extension": ".py",
   "mimetype": "text/x-python",
   "name": "python",
   "nbconvert_exporter": "python",
   "pygments_lexer": "ipython3",
   "version": "3.9.5"
  }
 },
 "nbformat": 4,
 "nbformat_minor": 1
}
