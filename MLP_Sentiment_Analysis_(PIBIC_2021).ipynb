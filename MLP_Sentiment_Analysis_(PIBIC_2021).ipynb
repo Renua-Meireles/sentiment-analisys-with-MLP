{
  "cells": [
    {
      "cell_type": "markdown",
      "metadata": {
        "id": "z96LYP4785h6"
      },
      "source": [
        "## Loading Libraries"
      ]
    },
    {
      "cell_type": "code",
      "execution_count": 2,
      "metadata": {
        "id": "HBZfqci68wYo"
      },
      "outputs": [],
      "source": [
        "import numpy as np\n",
        "import pandas as pd\n",
        "import matplotlib.pyplot as plt\n",
        "import seaborn as sns\n",
        "import tensorflow as tf\n",
        "from tensorflow.keras import layers\n",
        "import os"
      ]
    },
    {
      "cell_type": "code",
      "execution_count": 18,
      "metadata": {
        "colab": {
          "base_uri": "https://localhost:8080/"
        },
        "id": "vzZbkhDt-nL3",
        "outputId": "7caa0035-aa77-49b4-e61f-600dc94aaac7"
      },
      "outputs": [
        {
          "data": {
            "text/plain": [
              "['movie.csv']"
            ]
          },
          "execution_count": 18,
          "metadata": {},
          "output_type": "execute_result"
        }
      ],
      "source": [
        "BASE_PATH = './data/'\n",
        "datasetpath = f'{BASE_PATH}/movie.csv'\n",
        "os.listdir(BASE_PATH)"
      ]
    },
    {
      "cell_type": "code",
      "execution_count": 4,
      "metadata": {
        "colab": {
          "base_uri": "https://localhost:8080/",
          "height": 206
        },
        "id": "_wYH9uOq_ABT",
        "outputId": "163c37e6-8311-4b2f-fc88-0aaf1090abee"
      },
      "outputs": [
        {
          "data": {
            "text/html": [
              "<div>\n",
              "<style scoped>\n",
              "    .dataframe tbody tr th:only-of-type {\n",
              "        vertical-align: middle;\n",
              "    }\n",
              "\n",
              "    .dataframe tbody tr th {\n",
              "        vertical-align: top;\n",
              "    }\n",
              "\n",
              "    .dataframe thead th {\n",
              "        text-align: right;\n",
              "    }\n",
              "</style>\n",
              "<table border=\"1\" class=\"dataframe\">\n",
              "  <thead>\n",
              "    <tr style=\"text-align: right;\">\n",
              "      <th></th>\n",
              "      <th>text</th>\n",
              "      <th>label</th>\n",
              "    </tr>\n",
              "  </thead>\n",
              "  <tbody>\n",
              "    <tr>\n",
              "      <th>0</th>\n",
              "      <td>I grew up (b. 1965) watching and loving the Th...</td>\n",
              "      <td>0</td>\n",
              "    </tr>\n",
              "    <tr>\n",
              "      <th>1</th>\n",
              "      <td>When I put this movie in my DVD player, and sa...</td>\n",
              "      <td>0</td>\n",
              "    </tr>\n",
              "    <tr>\n",
              "      <th>2</th>\n",
              "      <td>Why do people who do not know what a particula...</td>\n",
              "      <td>0</td>\n",
              "    </tr>\n",
              "    <tr>\n",
              "      <th>3</th>\n",
              "      <td>Even though I have great interest in Biblical ...</td>\n",
              "      <td>0</td>\n",
              "    </tr>\n",
              "    <tr>\n",
              "      <th>4</th>\n",
              "      <td>Im a die hard Dads Army fan and nothing will e...</td>\n",
              "      <td>1</td>\n",
              "    </tr>\n",
              "  </tbody>\n",
              "</table>\n",
              "</div>"
            ],
            "text/plain": [
              "                                                text  label\n",
              "0  I grew up (b. 1965) watching and loving the Th...      0\n",
              "1  When I put this movie in my DVD player, and sa...      0\n",
              "2  Why do people who do not know what a particula...      0\n",
              "3  Even though I have great interest in Biblical ...      0\n",
              "4  Im a die hard Dads Army fan and nothing will e...      1"
            ]
          },
          "execution_count": 4,
          "metadata": {},
          "output_type": "execute_result"
        }
      ],
      "source": [
        "df = pd.read_csv(datasetpath, encoding='utf-8')\n",
        "df.head()"
      ]
    },
    {
      "cell_type": "code",
      "execution_count": 29,
      "metadata": {},
      "outputs": [
        {
          "data": {
            "text/plain": [
              "'I grew up (b. 1965) watching and loving the Thunderbirds. All my mates at school watched. We played \"Thunderbirds\" before school, during lunch and after school. We all wanted to be Virgil or Scott. No one wanted to be Alan. Counting down from 5 became an art form. I took my children to see the movie hoping they would get a glimpse of what I loved as a child. How bitterly disappointing. The only high point was the snappy theme tune. Not that it could compare with the original score of the Thunderbirds. Thankfully early Saturday mornings one television channel still plays reruns of the series Gerry Anderson and his wife created. Jonatha Frakes should hand in his directors chair, his version was completely hopeless. A waste of film. Utter rubbish. A CGI remake may be acceptable but replacing marionettes with Homo sapiens subsp. sapiens was a huge error of judgment.'"
            ]
          },
          "execution_count": 29,
          "metadata": {},
          "output_type": "execute_result"
        }
      ],
      "source": [
        "df.loc[0, 'text']"
      ]
    },
    {
      "cell_type": "code",
      "execution_count": 5,
      "metadata": {
        "colab": {
          "base_uri": "https://localhost:8080/",
          "height": 300
        },
        "id": "z1JDMdMZAFn0",
        "outputId": "f90aa623-352a-4a04-b756-407b09f659d4"
      },
      "outputs": [
        {
          "data": {
            "text/html": [
              "<div>\n",
              "<style scoped>\n",
              "    .dataframe tbody tr th:only-of-type {\n",
              "        vertical-align: middle;\n",
              "    }\n",
              "\n",
              "    .dataframe tbody tr th {\n",
              "        vertical-align: top;\n",
              "    }\n",
              "\n",
              "    .dataframe thead th {\n",
              "        text-align: right;\n",
              "    }\n",
              "</style>\n",
              "<table border=\"1\" class=\"dataframe\">\n",
              "  <thead>\n",
              "    <tr style=\"text-align: right;\">\n",
              "      <th></th>\n",
              "      <th>label</th>\n",
              "    </tr>\n",
              "  </thead>\n",
              "  <tbody>\n",
              "    <tr>\n",
              "      <th>count</th>\n",
              "      <td>40000.000000</td>\n",
              "    </tr>\n",
              "    <tr>\n",
              "      <th>mean</th>\n",
              "      <td>0.499525</td>\n",
              "    </tr>\n",
              "    <tr>\n",
              "      <th>std</th>\n",
              "      <td>0.500006</td>\n",
              "    </tr>\n",
              "    <tr>\n",
              "      <th>min</th>\n",
              "      <td>0.000000</td>\n",
              "    </tr>\n",
              "    <tr>\n",
              "      <th>25%</th>\n",
              "      <td>0.000000</td>\n",
              "    </tr>\n",
              "    <tr>\n",
              "      <th>50%</th>\n",
              "      <td>0.000000</td>\n",
              "    </tr>\n",
              "    <tr>\n",
              "      <th>75%</th>\n",
              "      <td>1.000000</td>\n",
              "    </tr>\n",
              "    <tr>\n",
              "      <th>max</th>\n",
              "      <td>1.000000</td>\n",
              "    </tr>\n",
              "  </tbody>\n",
              "</table>\n",
              "</div>"
            ],
            "text/plain": [
              "              label\n",
              "count  40000.000000\n",
              "mean       0.499525\n",
              "std        0.500006\n",
              "min        0.000000\n",
              "25%        0.000000\n",
              "50%        0.000000\n",
              "75%        1.000000\n",
              "max        1.000000"
            ]
          },
          "execution_count": 5,
          "metadata": {},
          "output_type": "execute_result"
        }
      ],
      "source": [
        "df.describe()"
      ]
    },
    {
      "cell_type": "code",
      "execution_count": 6,
      "metadata": {
        "colab": {
          "base_uri": "https://localhost:8080/"
        },
        "id": "HHM7YTT5AL45",
        "outputId": "60f04226-98ab-40cf-d098-34a4a7042f21"
      },
      "outputs": [
        {
          "name": "stdout",
          "output_type": "stream",
          "text": [
            "<class 'pandas.core.frame.DataFrame'>\n",
            "RangeIndex: 40000 entries, 0 to 39999\n",
            "Data columns (total 2 columns):\n",
            " #   Column  Non-Null Count  Dtype \n",
            "---  ------  --------------  ----- \n",
            " 0   text    40000 non-null  object\n",
            " 1   label   40000 non-null  int64 \n",
            "dtypes: int64(1), object(1)\n",
            "memory usage: 625.1+ KB\n"
          ]
        }
      ],
      "source": [
        "df.info()"
      ]
    },
    {
      "cell_type": "code",
      "execution_count": 7,
      "metadata": {
        "colab": {
          "base_uri": "https://localhost:8080/",
          "height": 424
        },
        "id": "7oaM5NazAUt4",
        "outputId": "9a9e898b-f10e-46fb-a322-06db3160d1f3"
      },
      "outputs": [
        {
          "data": {
            "text/html": [
              "<div>\n",
              "<style scoped>\n",
              "    .dataframe tbody tr th:only-of-type {\n",
              "        vertical-align: middle;\n",
              "    }\n",
              "\n",
              "    .dataframe tbody tr th {\n",
              "        vertical-align: top;\n",
              "    }\n",
              "\n",
              "    .dataframe thead th {\n",
              "        text-align: right;\n",
              "    }\n",
              "</style>\n",
              "<table border=\"1\" class=\"dataframe\">\n",
              "  <thead>\n",
              "    <tr style=\"text-align: right;\">\n",
              "      <th></th>\n",
              "      <th>text</th>\n",
              "      <th>label</th>\n",
              "    </tr>\n",
              "  </thead>\n",
              "  <tbody>\n",
              "    <tr>\n",
              "      <th>0</th>\n",
              "      <td>False</td>\n",
              "      <td>False</td>\n",
              "    </tr>\n",
              "    <tr>\n",
              "      <th>1</th>\n",
              "      <td>False</td>\n",
              "      <td>False</td>\n",
              "    </tr>\n",
              "    <tr>\n",
              "      <th>2</th>\n",
              "      <td>False</td>\n",
              "      <td>False</td>\n",
              "    </tr>\n",
              "    <tr>\n",
              "      <th>3</th>\n",
              "      <td>False</td>\n",
              "      <td>False</td>\n",
              "    </tr>\n",
              "    <tr>\n",
              "      <th>4</th>\n",
              "      <td>False</td>\n",
              "      <td>False</td>\n",
              "    </tr>\n",
              "    <tr>\n",
              "      <th>...</th>\n",
              "      <td>...</td>\n",
              "      <td>...</td>\n",
              "    </tr>\n",
              "    <tr>\n",
              "      <th>39995</th>\n",
              "      <td>False</td>\n",
              "      <td>False</td>\n",
              "    </tr>\n",
              "    <tr>\n",
              "      <th>39996</th>\n",
              "      <td>False</td>\n",
              "      <td>False</td>\n",
              "    </tr>\n",
              "    <tr>\n",
              "      <th>39997</th>\n",
              "      <td>False</td>\n",
              "      <td>False</td>\n",
              "    </tr>\n",
              "    <tr>\n",
              "      <th>39998</th>\n",
              "      <td>False</td>\n",
              "      <td>False</td>\n",
              "    </tr>\n",
              "    <tr>\n",
              "      <th>39999</th>\n",
              "      <td>False</td>\n",
              "      <td>False</td>\n",
              "    </tr>\n",
              "  </tbody>\n",
              "</table>\n",
              "<p>40000 rows × 2 columns</p>\n",
              "</div>"
            ],
            "text/plain": [
              "        text  label\n",
              "0      False  False\n",
              "1      False  False\n",
              "2      False  False\n",
              "3      False  False\n",
              "4      False  False\n",
              "...      ...    ...\n",
              "39995  False  False\n",
              "39996  False  False\n",
              "39997  False  False\n",
              "39998  False  False\n",
              "39999  False  False\n",
              "\n",
              "[40000 rows x 2 columns]"
            ]
          },
          "execution_count": 7,
          "metadata": {},
          "output_type": "execute_result"
        }
      ],
      "source": [
        "df.isnull()"
      ]
    },
    {
      "cell_type": "code",
      "execution_count": 8,
      "metadata": {
        "colab": {
          "base_uri": "https://localhost:8080/"
        },
        "id": "RCUmgienJztZ",
        "outputId": "114c16d6-1139-4d7b-ff65-e0bd0b3e4e2d"
      },
      "outputs": [
        {
          "data": {
            "text/plain": [
              "Index(['text', 'label'], dtype='object')"
            ]
          },
          "execution_count": 8,
          "metadata": {},
          "output_type": "execute_result"
        }
      ],
      "source": [
        "df.columns"
      ]
    },
    {
      "cell_type": "code",
      "execution_count": 10,
      "metadata": {
        "id": "Dl8fhcOjAb7M"
      },
      "outputs": [],
      "source": [
        "import nltk\n",
        "from nltk import word_tokenize\n",
        "from nltk.corpus import stopwords\n",
        "from sklearn.model_selection import train_test_split\n",
        "from sklearn.feature_extraction.text import TfidfVectorizer, CountVectorizer"
      ]
    },
    {
      "cell_type": "code",
      "execution_count": 11,
      "metadata": {
        "colab": {
          "base_uri": "https://localhost:8080/"
        },
        "id": "HcIe-TGYBPL4",
        "outputId": "f78de96d-ccf9-4539-abd4-f733c90f0190"
      },
      "outputs": [
        {
          "name": "stderr",
          "output_type": "stream",
          "text": [
            "[nltk_data] Downloading package stopwords to\n",
            "[nltk_data]     C:\\Users\\renua\\AppData\\Roaming\\nltk_data...\n",
            "[nltk_data]   Package stopwords is already up-to-date!\n"
          ]
        }
      ],
      "source": [
        "nltk.download('stopwords')\n",
        "stop_words = stopwords.words('english')"
      ]
    },
    {
      "cell_type": "code",
      "execution_count": 12,
      "metadata": {
        "id": "oXdw8K6hBb95"
      },
      "outputs": [],
      "source": [
        "train_x, test_x, y_train, y_test = train_test_split(df.text,df.label, test_size=0.25,random_state=123)"
      ]
    },
    {
      "cell_type": "code",
      "execution_count": 13,
      "metadata": {
        "id": "WUdo4h6DBXeG"
      },
      "outputs": [],
      "source": [
        "#TF-IDF\n",
        "tfv = TfidfVectorizer(min_df=3,  max_features=None, strip_accents='unicode', analyzer='word',token_pattern=r'\\w{1,}',\n",
        "                    ngram_range=(1, 3), use_idf=1,smooth_idf=1,sublinear_tf=1, stop_words = 'english')\n",
        "\n",
        "tfv.fit(list(train_x) + list(test_x))\n",
        "train_x_tfv =  tfv.transform(train_x) \n",
        "test_x_tfv = tfv.transform(test_x)"
      ]
    },
    {
      "cell_type": "code",
      "execution_count": 14,
      "metadata": {
        "colab": {
          "base_uri": "https://localhost:8080/"
        },
        "id": "Iz76dW88B2-k",
        "outputId": "192b335a-09fb-4a75-c530-8461a30ca599"
      },
      "outputs": [
        {
          "data": {
            "text/plain": [
              "(30000,)"
            ]
          },
          "execution_count": 14,
          "metadata": {},
          "output_type": "execute_result"
        }
      ],
      "source": [
        "train_x.shape"
      ]
    },
    {
      "cell_type": "code",
      "execution_count": 15,
      "metadata": {
        "colab": {
          "base_uri": "https://localhost:8080/"
        },
        "id": "3HIqaLN9B7gk",
        "outputId": "843af989-21aa-48f5-b8c5-6838f4780f16"
      },
      "outputs": [
        {
          "data": {
            "text/plain": [
              "(30000,)"
            ]
          },
          "execution_count": 15,
          "metadata": {},
          "output_type": "execute_result"
        }
      ],
      "source": [
        "y_train.shape"
      ]
    },
    {
      "cell_type": "code",
      "execution_count": 16,
      "metadata": {
        "colab": {
          "base_uri": "https://localhost:8080/"
        },
        "id": "jiftFwEfCCb1",
        "outputId": "b28f8a58-76e0-482e-dc34-44e0172fede8"
      },
      "outputs": [
        {
          "data": {
            "text/plain": [
              "((10000,), (10000,))"
            ]
          },
          "execution_count": 16,
          "metadata": {},
          "output_type": "execute_result"
        }
      ],
      "source": [
        "test_x.shape, y_test.shape"
      ]
    },
    {
      "cell_type": "code",
      "execution_count": 26,
      "metadata": {
        "colab": {
          "base_uri": "https://localhost:8080/"
        },
        "id": "3UPqdw4oCHiI",
        "outputId": "1f3c91b2-5ecf-4953-de5d-326a0c70ae52"
      },
      "outputs": [
        {
          "name": "stdout",
          "output_type": "stream",
          "text": [
            "<TakeDataset element_spec=(OrderedDict([('\\ufefftext', TensorSpec(shape=(32,), dtype=tf.string, name=None))]), TensorSpec(shape=(32,), dtype=tf.int32, name=None))>\n"
          ]
        }
      ],
      "source": [
        "dataset = tf.data.experimental.make_csv_dataset(datasetpath, batch_size=32,\n",
        "                                                select_columns=['\\ufefftext', 'label'],\n",
        "                                                label_name='label')"
      ]
    },
    {
      "cell_type": "code",
      "execution_count": 36,
      "metadata": {},
      "outputs": [
        {
          "name": "stdout",
          "output_type": "stream",
          "text": [
            "tf.Tensor([1 0 1 0 0 0 0 0 1 1 1 1 0 1 1 0 1 1 1 0 0 0 0 0 1 0 1 1 0 0 0 1], shape=(32,), dtype=int32)\n",
            "﻿text               : [b\"This movie was recommended to me by the same person that blessed me with a copy of The Chronicles of Narnia. Shadowlands is one of the most amazing screenplays ever written. It is well executed, acted and directed. The cinematography is a bit dark for my taste but I'm sure it was intended to be so. The screenplay is like poetry in portions of the movie, through out the movie I found myself taking pause to reflect on the comments just made on screen. This is a wonderful piece of cinema and I can only hope that more people will run across it and add reviews. Fair warning though this was a 6 tissue movie for me. Very touching. Very Heartfelt performances.\"\n",
            " b'Astounding that something like this could find its way to be viewed by the public. I knew it was by Uwe Boll, & I found it in the bargain bin at a store for $2 (still pretty steep, considering) but morbid curiosity led me to view this, and: <br /><br />1). I am fairly sure this is a rip-off of Seven, Silence of the Lambs, and American Psycho, all rolled into one, with dialog that may have been written by preteens.<br /><br />2). Casper Van Dien plays the main character, and he\\'s so absolutely bizarre and creepy that just about anyone would KNOW he must be the crazed serial killer.<br /><br />3). Jennifer Rubin plays the \"good cop\" that invites a serial killer to her apartment for a home cooked dinner, and what does she get for her trouble? I\\'ll let you guess.<br /><br />4). Michael Pare plays an \"intense\" cop, who drives a VW Bug, new-style, that is, with a siren on it. A VW Bug...that\\'ll strike fear into criminal\\'s hearts when they see THAT coming.<br /><br />5). Van Dien breaks up with his fianc\\xc3\\xa9, but she still has an \"not engaged\" party, complete with \"not a wedding cake\". Imagine everyone\\'s surprise he shows up (he was, of course, invited) and they all get shot.<br /><br />6). Actually, this should have been #1, really. The killer in this is known as \"The Monkey Maker\". This is, without a doubt, the stupidest killer name anyone could have come up with in a million years. Presumably it has something to do with the \"see no evil, hear no evil, speak no evil\" saying, complete with monkeys. It\\'s possible that monkeys had something to do with the script, too.<br /><br />7). Oh yeah, and there\\'s a club that Van Dien visits near the beginning of the film. There\\'s bad disco music, I mean, really bad, and a chain-link fenced cage with, uh, gang members beating the crap out of each other with baseball bats? That\\'s what it looked like. And of course, this is only the tip of the iceberg, the really cool stuff (?!) goes on in the basement, where some questionable \"actor\" talks some woman into signing a confession before she gets shot, this being, I guess, a snuff movie? Not quite sure how this fits in with the rest of the film, and Boll probably wasn\\'t either, so if he wasn\\'t worried, then I won\\'t worry.<br /><br />An incredible piece of non-entertainment that will make you feel like you\\'re watching something from a parallel universe. A parallel universe that\\'s KIND of like ours, but where things are just enough off where they don\\'t seem right. You have entered \"The Boll Zone\". Exit as quickly as possible, & don\\'t look back.<br /><br />2 out of 10.'\n",
            " b\"I thought that this is a wonderfully written movie. I love little Scamp, and the street-wise Angel. This movie is very easy for little kids to understand, but a good movie for adults as well. I liked this movie because it continues the original Lady and the Tramp, and that movie is a classic. Lady and the Tramp 2 Scamp's Adventure was filled with new characters, catchy songs, brilliant animation, and unforgettable classic characters. I have loved the movie ever since I saw it for the first time. I also loved how they showed the different personalities of each character. It also shows the downfalls and good things of making new friends that you can hang out with. My favorite song in the movie was Always there because it showed the different characters sharing their views on how they feel. I definitely recommend this movie for everyone that was a fan of the original Lady and the Tramp.\"\n",
            " b'Oh, brother. The only reason this very irritating film avoids getting the total \"bomb\" from me is because it\\'s at least historically noteworthy as the first Three Stooges film (when they weren\\'t yet on their own and were still saddled with that painfully unfunny Ted Healy). But even as a longtime Stooges fan I\\'d have to say that young Moe, Larry and Curly are badly used here as three zany assistant janitors to Mr. Healy\\'s taller boss janitor. They\\'re not featured steadily through the movie and their silly on-and-off-again stints paint them more like zany overactive cartoon characters trying too hard to be amusing.<br /><br />Most of this toothache deals with Jack Pearl seeking in vain to get some chuckles from the audience himself as a man who impersonates Baron Munchausen (here\\'s a good example of the level of humor: \"I object!\" \"On what grounds?\" \"Coffee grounds!\"). His sidekick is none other than a young Jimmy Durante, but even the schnoz himself is a bore.'\n",
            " b'*May contain spoilers*<br /><br />I bent over backwards to be fair to this film. I knew it starred Madonna. I knew it lasted a whole week in theaters. I knew it got a lot of bad reviews. I wasn\\'t expecting a deep and thoughtful examination of class, culture and sexuality like we got in the Italian original. The benefit of the doubt lasted a whole ten minutes.<br /><br />Madonna plays a rich, pretentious, nit-witted Gorgon who goes on vacation with her henpecked husband and flippant friends (the brunette woman is as bad as Madonna, exhibiting some really dumb facial expressions). Adriano Giannini plays the ship\\'s first-mate who the Madonna character delights in humiliating and treating like dirt in every scene they have together. Why is she such a bitch to him? Simply because the plot requires it so that later when the two of them get marooned on a deserted Mediterranean island the tables will be turned and he will teach her a lesson. Just as inexplicable is how they fall in love despite having nothing in common and having abused each other for two-thirds of the movie.<br /><br />\"Swept Away\" is a silly, simplistic, superficial movie from beginning to end. Madonna gives a typically wooden performance. There are many dumb scenes: Madonna singing and dancing atrociously at the demand of Giannini, a fantasy scene with Madonna and a lot of scenes where he slaps her and kicks her in the butt. Guy Ritchie does his \"stylish\" editing which is laughable here. The film contains some of the worst dialog I\\'ve heard in a major movie in several years. The ending is sappy and implausible. It\\'s basically \"The Blue Lagoon\" meets \"Overboard\" minus the nudity of the former and the sense of humor of the latter.<br /><br />Maybe Madonna\\'s ego is so big that she insists on continuing to prove herself as a competent actress. Please give it up, Madge, for our sake as well as yours. This isn\\'t her worst movie though. That distinction still belongs to \"Shanghai Surprise\". She hasn\\'t made anything worse than that...yet.'\n",
            " b'You know the story of \"Sweeney Todd\" now, most likely thanks to Tim Burton\\'s recent movie. You probably don\\'t know it though, from this take on the old tale from Andy Milligan-that notorious sleaze merchant that gave Al Adamson and Ted V. Mikels a run for their money.<br /><br />It had to happen eventually. In my years of watching horror and exploitation from the 60\\'s to the 80\\'s, I\\'m finally reviewing an Andy Milligan movie. You see, from 1964 to 1990, Andy gave us many an exploitation and horror movie-none of which was any good, and barely watchable. \"The Bloodthirsty Butchers\" is no exception.<br /><br />There is dialog and well, there is talk, and that\\'s one of the things you will find here-lots and lots of talk. The movie reaches almost \"Manos The Hands of Fate\" levels at times, as you wait tirelessly for something to happen. While I love cheap looking gore effects, the violence is too few and far between, and in spite of it\\'s reputation, the \"breast\" scene isn\\'t that shocking. <br /><br />I love cheap and sleazy exploitation as much as the next trash cinema devotee, but \"Bloodthirsty Butchers\" is the kind of bad that MST3K would tear apart mercilessly. Sadly, Milligan would die of AIDS in 1991, and if there is any movie of his I\\'d say I sort of like, it would be the delirious \"The Ghastly Ones.\" This is no \"Ghastly Ones\" though-it\\'s just bad.'\n",
            " b\"This film is about a young man's painful journey to discovering his sexuality.<br /><br />The film is raw and unpretentious. It does not rely on steamy sex scenes to attract the viewers. Though the plot may seem incoherent and disconnected at times, and some events are not properly explained. I can understand it though, because this film is a collection of memories that are highly personal to the director. The subplot of about his sister and mother probably does not need to exist in the film, but I can certainly imagine that these are very important events in his life.<br /><br />The low budget of the film is clearly discernible. It is a pity that the sound effects are poorly done. The narration and some dialogs (particularly the scene in the classroom with the French teacher) have so much echo, which makes it hard to make out what is said. The ambient noise, notable traffic noise, is also captured throughout the film. When a scene cuts into another, the level of traffic noise changes.<br /><br />This film is probably not entertaining, but it certainly serves as an insightful diary of a young man's journey to embracing his sexuality.\"\n",
            " b\"as always this is an inaccurate picture of the homeless. TV told a lot of lies about panhandlers in the early 1990s and made everyone look bad, and claimed we all made over $100 a day when $20-40 a day was much closer to reality. when someone drove by where i held up a sign offering to work, and offered me work, i actually went and took the work if i was physically able.and if i would been offered the $100,000 id damned sure invested in in apt prepaid for at least 2 years, and kept most in the bank and still left myself $10-20000 for NL $1-2 and $2-5 cash games at the casinos. i usually always win and could win decent if i just had a bankroll. instead i win about $1000 a month is all playing in always minimum buying in due to not wanting to risk losing it all. i was only homeless cause i didn't wanna risk spending all my money and going broke, sometimes i had over $1000-2000 in my sock while i slept outside. anyone wanting to talk contact sevencard2003 on yahoo messenger.i admit i was different than most homeless people though, due to the fact i never drank smoke or took drugs. im no longer homeless, am now in govt housing for $177 a month and getting SSI and spend most of my time winning at online poker. mom and sunflower diversified worked hard to get me SSI. glad my days of hiding in under the stage in the convention center of the casino at night sleeping, worrying about getting caught by security are finally over. had this TV crew picked me theyd been over a lot sooner. its a shame how they don't better select who they pick.\"\n",
            " b\"I wasn't going to watch this show. But, I'm glad I did. The critics of this just don't get it! It's one of the funniest and most entertaining thing on T.V at the present moment! Though, when the interviews were done with common folks they probably seemed useless; but, put them in the mouth of animals and insects, and it's a laugh riot. I laughed so hard, I had tears in my eyes. The pig with the babies suckling and her mother is priceless. The husband and wife birds talking about health problems, and the male bird taking a crap after the wife said she was constipated completely broke me up! Creature Comforts is the most imaginative show I've ever seen in awhile! Hopefully, it will be back next summer when this run is over.\"\n",
            " b'There are worse ways to spend an evening than watching this movie, although it IS a tad predictable. Drew Barrymore does a very good job of being the outcast nerd in this film - excellent casting choice. What I found a bit hard to believe is that the popular girls finally accept her - in my experience that crowd has a longer memory than that, and knowing how AWFUL Drew\\'s character was (ostrich feathers?) at the start of the school year would have kept them miles away, regardless of what rumors her brother drums up. (And does \"Kole Slaw Food\" really make HIM all that popular? I doubt it). As for rooting for Drew\\'s character to win big as a reporter - well, I would have hoped she could have come up with a story long before the prom. A bit contrived. Having said all that, it was a cutsie piece of fluff that will be entertaining as long as you don\\'t expect too much.'\n",
            " b\"Like so many other reviewers on here, my memories of this show are universally warm. In fact, so fond are said cherished memories, that I recently purchased the DVD box set in order to revisit that happy and carefree period of childhood, whereby I used to sit utterly mesmerised, as I watched the ongoing quest of Monkey, Pigsy, Sandy, Tripitaka and later Yu Lung a horse/dragon/man (you'll really need to watch it to understand), when the much loved show initially aired on BBC 2 on Friday evenings, as I recall.<br /><br />Well, I'm pleased to say that even after all these years and now viewing this with adult i.e. more cynical(!) eyes, the show has lost none of its inimitable charm.<br /><br />Simply wonderful entertainment, from the magical characters and their comical interactions with one another to the perhaps not so special effects (which actually serve to heighten the fun) and of course, not forgetting the hugely memorable opening title sequence from the first season, the passing of time has not in any way, shape or form diminished any of Monkey's spellbinding charm.<br /><br />As Monkey himself would probably say, 'Oi! You there! Go out and grab yourself some nostalgic fun.'\"\n",
            " b'I went to the movies to see Claudine and loved every minute of it the cast and the soundtrack as well. Diahann Carroll was never better than in this role. We saw Ms. Carroll downplayed her looks barely saw her naked,smoked a cigarette, drank beer and oh she cursed. Whenever this movie was shown on TV and finally cable I would call my friends to watch it. Just the soundtrack from the very beginning of the movie is awesome all thanks to Gladys Knight and the Pips. We saw a black woman struggling to raise her children, dealing with teen pregnancy and everyday life meets a man whom she learns later on has issues himself. Finally this movie made it to DVD and well deserving.'\n",
            " b'What an awful show. Science Fiction fans seem to watch anything anymore regardless of quality. It shocks me that something exceptional like Firefly lasts one season, while garbage like the Battlestar Galactica remake spawns a spin off. This spin off is pitiful in every aspect of the show. The acting is juvenile and uninspired. The characters are cardboard clich\\xc3\\xa9s of everything that has ever been in a bad Sci-Fi series. The story is bad. The dialog is worse than a prime time soap opera. The direction is shoddy and the sets are awful. Caprica is a waste of film, a waste of time and a waste of effort. This is one spin off that should have never been made.'\n",
            " b'Karen (Sarah Michelle Gellar), an exchange student in Japan who is just beginning to do some social work, is sent to aid an elderly semi-catatonic woman, Emma (Grace Zabriskie), after her previous caretaker, Yoko (Yoko Maki), disappears. Karen soon learns that something is not right in Emma\\'s home, and she attempts to \"see how deep the rabbit hole goes\".<br /><br />Maybe it\\'s a delayed influence from the success of M. Night Shyamalan\\'s films, but slower-paced, understated horror films are a recent trend. In some cases, such as Hide and Seek (2005), the approach works remarkably well, and in others, such as White Noise (2005), the pacing tends to kill the film. I didn\\'t like The Grudge quite as much as Hide and Seek, but this is still a very good film--it earns a 9 out of 10 from me.<br /><br />The Grudge has a couple significant differences from other recent examples of that trend, however. One, it is well known that this is a remake based on the Japanese film series that began with Ju-On (2000) (in particular, it\\'s extremely close to the first half of Ju-On: The Grudge, aka Ju-On 3, from 2003). Two, as with many Japanese horror films, the slower pacing here isn\\'t so much in the realm of realist drama as with surrealism. As is also the case with a large percentage of European horror, The Grudge should be looked at more as a filmed nightmare.<br /><br />Director Takashi Shimizu, also the director of the five Japanese entries in the Ju-On series to date (the fifth is currently in production), and writer Stephen Susco have largely dispensed with linearity and are not overly concerned with logic or plot holes when it comes to the horror behind the story. The idea instead is to present a dreamlike sequence of scenes, with dream logic, where the focus is atmosphere, creepiness, the uncanny, and for many viewers--scares. How well the film works for you will largely depend on how well you can adapt yourself to, or are used to, this different approach to film-making (although admittedly, some of the seeming gaps are filled in by previous entries in the Ju-On series). Traditionally, American audiences consider as flaws leaving plot threads hanging and abandoning \"rules\" for the \"monster\". A more poetic, metaphorical, surreal approach to film isn\\'t yet accepted by the mainstream in the U.S.<br /><br />However, even if you\\'re not used to it, it\\'s worth trying to suspend your normal preconceptions about films and give The Grudge a shot. This is a well written, well directed, well acted film, filled with unusual properties, such as the story interweaving a large number of \"main characters\" (which is done better here than the more episodic Ju-On 3), good cinematography, subtle production design touches (check out Gellar\\'s clothes, which match the color and texture of the exterior of Emma\\'s house, when Gellar first approaches), and beautifully effective horror material.<br /><br />Even though it is more slowly paced that your average horror film of the past, the pacing usually enhances the eeriness, and there is no shortage of bizarre events to keep horror fans entertained. The supernatural premise of the film is absorbing, and based on interviews on the DVD with Shimizu, have prodded me to pay more attention to Japanese beliefs and folklore. Although the most interesting subtexts would probably arise with a more intimate knowledge of Japanese culture, it\\'s interesting to ponder why so many Japanese horror films feature scary children and adults who look like scary children.<br /><br />I subtracted one point for the film slightly veering into clich\\xc3\\xa9d mystery/thriller territory with a \"here\\'s what really happened\" flashback, but even that was fairly well done, and otherwise, this would have been a 10 out of 10.<br /><br />Now that I\\'ve said all of the above, let me finish with a mini-rant: It\\'s not that I\\'m anti-remake, but it is ridiculous that U.S. distributors and studios feel that we need remakes of foreign films to make them appropriate for consumption. The original versions of these films should just be playing in U.S. theaters in wide release. There is no need to present an almost identical film but just substituting white American actors for non-white or foreign actors. Yes, The Grudge is a fine film, but ultimately, I\\'d rather see something original using this talent, and be treated to the latest foreign horror films--not just Japanese, but also Indian, Spanish, Chinese, etc.--at my multiplex. In the hope that someone with some pull at the studios reads this, it is also more cost-effective to do this, as (1) you can completely avoid production costs, and simply make domestic distribution deals from which you receive profit, and (2) you can make money off of fans like myself who otherwise pick up the foreign film DVDs in foreign manufactured or even bootleg versions.'\n",
            " b\"Both my friend and I thought this movie was well done. We expected a light hearted comedy but got a full blown action movie with comic thrusts. We both thought that this movie may have not done so well at the box office as the previews lead us to believe it was a comedy. I was impressed with the supporting actors and of course Dave Morse always puts in a terrific acting job. Most of the supporting cast are veterans not first timers and they were solid. We both felt that the writing and direction were first rate and made comments to each other about buying this movie. If you don't buy rent it for a good time.\"\n",
            " b'This was talked about to death by the critics when it honestly isn\\'t that great. Sure, \"CHAOS\" and \"INSIDE MAN\" are literally the same movie, just with variations in suspense. But I found \"CHAOS\" more enjoyable because it was fast paced kinda like the silly film \"Swordfish.\" The reason this film is more popular is because this got released in the States and \"Chaos\" was aired all around the world at film festivals and foreign theaters, but has yet to find a distributor in the U.K. and U.S.A. <br /><br />It\\'s true that this film makes lots of tributes to classic films like DOG DAY AFTERNOON and other Spike Lee films, but that doesn\\'t mean that it is a pleasant film to watch. <br /><br />Watch it if nothing else is on T.V., but you\\'ll probably get bored with after awhile.'\n",
            " b'The film was okay, quite entertaining. The cast was pretty good, and I\\'ll second what the comment before me mentioned - Glenn Quinn was outstanding and he alone is reason enough to watch this movie. He played the selfish \"evil\" friend and manager of the band brilliantly!<br /><br />There are a lot of songs performed by \"Beyond Gravity\" in this film, but this doesn\\'t really come as a surprise considering the film is a VH1 production. However, if the soft rock/ pop music isn\\'t to someone\\'s liking one might as well flash forward those scenes.<br /><br />The plot of a band trying to make it to the top in L.A. but having to overcome many obstacles on the way isn\\'t too original, but quite entertaining, with some surprising plot turns here and there.'\n",
            " b\"This was one of those wonderful rare moments in T.V. that I wished I'd captured forever on VHS. Won't it ever air again? <br /><br />It was so creative and I remember it was aired once a week and the wait for the next episode was excruciating. I want to see it all again. I want to buy it. I want what I can't have. Not even on EBAY. <br /><br />So, having ranted enough it was, by far, one of the best series the 80's put out. It should be considered a classic but is lost in space. At least this website and Wikipedia mention it. Sob.<br /><br />It was utterly appealing, funny, flirtatious, and original. Maybe not like Sherlock Holmes original, I actually think Quintin is far more attractive and has a better chance with his leading lady than the stiff and chalky Holmes ever could.\"\n",
            " b'Yes it\\'s a Fast Times wannabe, but it\\'s still decent entertainment.<br /><br />Some of the comedy parts are really funny. The scene when the three guys visit the Spanish lady is hilarious, with a little flamenco music in the background. The reaction when her sailor husband comes home is a riot. The guys\\' exploits in dealing with crabs are funny as well when they try to \"drown them\" and when they visit the pharmacist. <br /><br />The abortion scene is a Fast Times ripoff too, but it does do a good job of capturing the terror of the situation. You really feel for what Karen is going through, and for Gary in his mad scramble for cash to pay for the abortion and accommodating her recovery.<br /><br />The ending is painful to watch, but refreshingly realistic. First-time viewers will not be prepared for it and it will be a shock.<br /><br />There is a decent eye-candy for guys with young girls and the milf Spanish lady, but heterosexual guys will probably want to skip the penis-measuring competition. <br /><br />Underrated soundtrack too. Check out early, early U2(!), The Cars in their prime and an appropriate tearjerker song by James Ingram for the surprise ending.<br /><br />Some people will hate it and it is somewhat dated, but those who like teen flicks or grew up in the early 80s should like it.'\n",
            " b'In the wake of the matrix this travesty of a film with loose connections to VR has been reissued with the tag-line \"The Matrix just got Deadler!\", in a box with a very Matrix inspired cover (still called \"Expect to Die\" though). Due to the choice of font however the tag-line looks to all the world like it says \"Beablier\". Anyway.<br /><br />To complete the transformation to Matrix wannabe they have mocked up a VR fight scene with a Morpheus-a-like on the back of the box. It may be important to know that this character DOES NOT FEATURE IN THE FILM.<br /><br />Overall this film is a travesty on every level. Jalal Mehri is an awful actor and does not impress with his martial arts. However his partner Stone is played by Evan Lurie, who in this film is simply the worst actor I have ever seen. Clearly he was chosen to make Jalal look good in comparison. Worst film I have seen for a long long time.'\n",
            " b'I guess it wasn\\'t entirely the filmmaker\\'s fault though. The film suffered from the unimaginably stupid decision to tell Clayton Moore (who had done the role in the 1950\\'s and was the Lone Ranger us old folks grew up with) he couldn\\'t wear the mask in public. Now mind you, the poor guy wasn\\'t making all that much money doing so, and it wasn\\'t like he was going to take anything away from this film, but the whole thing seemed... gratuitous.<br /><br />The other thing the film suffered from (besides a leading man whose voice was so awful they had to overdub it) was that fact that Westerns weren\\'t so hip in 1981. John Wayne was dead and we had just been subjected to a decade-long major liberal guilt trip about how the west was built on genocide of the Native Americans. (That and Blazing Saddles sent up the whole genre! The Campfire scene. Enough said!) Hollywood shied away from Westerns, because Science Fiction was COOL then.<br /><br />The one scene that underscored it was when after rescuing the drunken President Grant (and seriously, I\\'d have let Grant stay with the bad guys. The country would have been better off!) Grant asks Tonto what his reward should be \"Honor your treaties with my people\". Yeah, right, like THAT was going to happen!'\n",
            " b'George Sluizer of THE VANISHING fame ( He made both the haunting European original and the Hollywood remake ) directed CRIMETIME . He shouldn\\'t really be blamed for this confused , poor movie because all the problems lie in Brendan Somers script . It\\'s ill focused and lazily written . For instance the killer hangs around a nightclub waiting to pick up a victim , any victim and starts talking to a teenage girl . Cut to the next scene where she tells the villain \" I\\'ve told you everything about myself , tell me about your life ? \" Unfortunately the girl has told the baddie her life story off screen and is a terrible example of the screenwriter not being able to bring a character to life through dialogue . I know for a fact how bloody difficult this is but for a screenplay that is produced the writer should have tried harder <br /><br />It\\'s difficult to explain the message of the film . At some points it feels like it\\'s trying to be a British NATURAL BORN KILLERS satarising the media\\'s voyeurism with crime ( Perhaps it even influenced the infamous video game MANHUNT ) but the script isn\\'t witty enough to carry this off . When you\\'ve got a sex scene that doesn\\'t progress the plot or characters or hint of subtext you know you\\'ve got a badly written screenplay and CRIMETIME is a badly written screenplay'\n",
            " b'Well , of course everybody is entitled to have an opinion about a thing ...everything. The presentation was interesting : black and white movie , the year 1968 , students manifestations , general strike , youth , ideals, love.....etc. Sorry but I did not sense LOVE , ROMANCE . A lover who is all right that his girlfriend sleeps with no matter who ? That is love ? But not only that , the movie is very long and for no reason , I had to stop watching the movie several time because I simply lost interest. I waited for something to happen but .......NOTHING. The only thing I was impressed during the movie : Gypsy fiddler playing in the streets , yes that was nice. I do not think that art should be complicated , encrypted , hidden in secret meanings , confusing .Big disappointment and waste of time !'\n",
            " b\"1999 will go down in history as the year the movie critic lead the general public astray. First they sent us to EYES WIDE SHUT. Then they hyped up THE BLAIR WITCH PROJECT and now MAGNOLIA which is by far the worst movie of the year. What is it about? Who the heck knows. Its full of self-indulgence and loaded with bad acting. I always like to stay and watch the credits, but when this thing was over I couldn't get out of the movie theatre fast enough. Most of the audience that attended the showing that I was at, felt pretty much the same way. Dates were arguing with each other as well as strangers. It's an ugly and hateful film that will make you feel ugly and hateful.\"\n",
            " b\"Easily one of the best shows ever made, & it just gets better with age.<br /><br />For me , one of the chief reasons for this was the English adaptation done by David Weir.<br /><br />A Japanese friend of mine once told me that the show in it's original language was more whimsical & less flat-out hilarious that the version we all know.<br /><br />The fact that the show resonates so strongly for its non-Japanese fans is , I think, largely because of Mr Weir's inspired efforts & some winning voice-over work.<br /><br />Well done, sir!\"\n",
            " b\"I'm not picky with movies, oh I've seen so much crap I could watch anything. Maybe that was the reason I watched this one to the end. Im big fan of RPG games too, but this movie, its a disgrace to any self-respecting RPGer there is. The security-camera footage of a game-play would make it feel more realistic than this movie does. The lines, the cuts, the audio, everything is wrong. In some scenes you can see that it was filmed in some photo when !!!!!(spoilers ahead)!!!!!people running around does not disturb people sitting near computers. I mean would you continue your work if you got ninjas around you? oh and the jokes about pirates, that's the worst one yet in movies!!!!!(spoilers end)!!!!! At least first one felt like a documentary, now it looks like someones home video experiment. You can find better movies at youtube. Top line: Don't waste your time and money on this one, its as bad as it comes.\"\n",
            " b\"The effects of job related stress and the pressures born of a moral dilemma that pits conscience against the obligations of a family business (albeit a unique one) all brought to a head by-- or perhaps the catalyst of-- a midlife crisis, are examined in the dark and absorbing drama, `Panic,' written and directed by Henry Bromell, and starring William H. Macy and Donald Sutherland. It's a telling look at how indecision and denial can bring about the internal strife and misery that ultimately leads to apathy and that moment of truth when the conflict must, of necessity, at last be resolved.<br /><br />\\tAlex (Macy) is tired; he has a loving wife, Martha (Tracey Ullman), a precocious six-year-old son, Sammy (David Dorfman), a mail order business he runs out of the house, as well as his main source of income, the `family' business he shares with his father, Michael (Sutherland), and his mother, Deidre (Barbara Bain). But he's empty; years of plying this particular trade have left him numb and detached, putting him in a mental state that has driven him to see a psychologist, Dr. Josh Parks (John Ritter). And to make matters worse (or maybe better, depending upon perspective), in Dr. Parks' waiting room he meets a young woman, Sarah Cassidy (Neve Campbell), whose presence alone makes him feel alive for the first time since he can remember. She quickly becomes another brick in the wall of the moral conflict his job has visited upon him, as in the days after their meeting he simply cannot stop thinking about her. His whole life, it seems, has become a `situation'-- one from which he is seemingly unable to successfully extirpate himself without hurting the ones he loves. He can deny his age and the fact that he has, indeed, slipped into a genuine midlife crisis, but he is about to discover that the problems he is facing are simply not going to go away on their own. He's at a crossroads, and he's going to have to decide which way to go. And he's going to have to do it very soon.<br /><br />\\tFrom a concept that is intrinsically interesting, Bromell has fashioned an engrossing character study that is insightful and incisive, and he presents it is a way that allows for moments of reflection that enable the audience to empathize and understand what Alex is going through. He makes it very clear that there are no simple answers, that in real life there is no easy way out. His characters are well defined and very real people who represent the diversity found in life and, moreover, within any given family unit. The film resoundingly implies that the sins of the father are irrefutably passed on to the progeny, with irrevocable consequences and effects. When you're growing up, you accept your personal environment as being that of the world at large; and often it is years into adulthood that one may begin to realize and understand that there are actually moral parameters established by every individual who walks upon the planet, and that the ones set by the father may not be conducive to the tenets of the son. And it is at that point that Alex finds himself as the story unfolds; ergo, the midlife crisis, or more specifically, the crisis of conscience from which he cannot escape. It's a powerful message, succinctly and subtly conveyed by Bromell, with the help of some outstanding performances from his actors.<br /><br />\\tFor some time, William H. Macy has been one of the premiere character actors in the business, creating such diverse characters as Quiz Kid Donnie Smith in `Magnolia,' The Shoveler in `Mystery Men' and Jerry Lundegaard in `Fargo.' And that's just a sampling of his many achievements. At one point in this film, Sarah mentions Alex's `sad eyes,' and it's a very telling comment, as therein lies the strength of Macy's performance here, his ability to convey very real emotion in an understated, believable way that expresses all of the inner turmoil he is experiencing. Consider the scene in which he is lying awake in bed, staring off into the darkness; in that one restless moment it is clear that he is grappling, not only with his immediate situation, but with everything in his life that has brought him, finally, to this point. In that scene you find the sum total of a life of guilt, confusion and uncertainty, all of which have been successfully suppressed until now; all the things that have always been at the core of Alex's life, only now gradually breaking through his defense mechanisms and finally surfacing, demanding confrontation and resolution. It's a complex character created and delivered by Macy with an absolute precision that makes Alex truly memorable. It's a character to whom anyone who has ever faced a situation of seemingly insurmountable odds will be able to relate. It's a terrific piece of work by one of the finest actors around.<br /><br />\\tSutherland is extremely effective, as well; his Michael is despicably sinister in a way that is so real it's chilling. It's frightening, in fact, to consider that there are such people actually walking the earth. This is not some pulp fiction or James Bond type villain, but a true personification of evil, hiding behind an outward appearance that is so normal he could be the guy next door, which is what makes it all the more disconcerting. And Sutherland brings it all to life brilliantly, with a great performance.<br /><br />\\tNeve Campbell looks the part of Sarah, but her performance (as is the usual case with her) seems somewhat pretentious, although her affected demeanor here just happens to fit the character and is actually a positive aspect of the film. If only she would occasionally turn her energies inward, it would make a tremendous difference in the way she presents her characters. `Panic,' however, is one of her best efforts; a powerful film that, in the end, is a journey well worth taking. 9/10. <br /><br />\"\n",
            " b'This was my first look at this short-lived British TV horror series, but I had seen a couple of Hammer horror films (Horror of Dracula, Captain Kronos: Vampire Hunter) and thought highly-enough of them to give this a look.<br /><br />This first episode was a shocker - not for the horror but for all the nudity. Was this \"regular\" TV in England in 1980? If so, it showed a lot more skin than what we see in North America. There were three separate scenes showing naked women and their breasts, one scene where a guy put his hand on one, and another scene with man a top of a woman faking intercourse. Hey, I\\'m not complaining. <br /><br />The story is a simple one: a witch who had disappeared in the 17th century comes back to her old house and makes life tough for the married man. The latter, Jon Finch as \"David Winter,\" wasn\\'t much of an actor, but his wife wasn\\'t bad and was a really beauty. She was be Prunella Gee as \"Mary.\" The husband suspected her, rightly so, of having an affair and that plays a part in this story.<br /><br />Patricia Quinn was entertaining as the laughing witch \"Lucinda Jessup,\" who comes back with a mean streak in her and has a good time tormenting the couple until things go wrong at the end. As a man, I\\'d say it was particular fun to see the two women going at it! This starts off slowly but once \"Lucinda\" starts stirring up things, it gets very entertaining.'\n",
            " b'Well now this strange movie. It was listed as a comedy but I certainly found nothing to laugh at. Actually I am struggling to find anything positive to say about this film. Oh here I go. Alex Ferns is not bad in the lead role and I did not pick the ending for a change, but apart from that this has no great direction solidly two dimensional characters and is not funny enough to be a comedy or serious or dark enough to be any form of decent drama. I would really avoid ever having to watch this movie again and think it does nothing to benefit any of the working class characters it is attempting to portray. I found it hard to empathise for any of the characters and was not given enough information on the lead character Jimmy to believe his motives. Best avoided.'\n",
            " b\"Boy, this was one lousy movie! While I haven't seen all of the Burton/Taylor collaborations, I can say with confidence that this is the worst. This rich but ill woman (Taylor, of course) owns this beautiful island in the Meditteranean, ruling over a put-upon staff when she's suddenly visited by this traveling poet, who mouths platitudes. In fact, the whole film is just a talk fest, with much of the talk making no sense. Even in 1968, no one could make heads or tails of this pretentious nonsense, and the passage of time makes that even more clear. If it weren't for the beautiful cinematography and scenery, it would deserve a negative rating. The only thing this film is good for is its unintentional laughs at the expense of the stars.\"\n",
            " b\"This is a slick little movie well worth your time to find and see.<br /><br />It really speaks to all those mundane choices we all make every day and (like an H.G. Welles Story I can't quite recall) may live to want back.<br /><br />Keep in mind that this is a SHORT (very short). It starts out slowly but just as you begin to think it has become boring =bang= it's over. And, believe me, the 'punch line' is one you will remember.<br /><br />I'm not sure if the producers are going to make it available for purchase - or available on the web but either way you'd be happy you took the time to get hold of a copy - of that I am sure.\"\n",
            " b'Finally was there released a good Modesty Blaise movie, which not only tells a story, but actually tells the \"real\" story. I admit that it is a bad movie if you expect an action thriller, but if you stop in your track and remove all your expectations. Then you will notice that it is a story that comes very close to the original made by Peter O\\'Donnell. You have a cover story just to tell about how Modesty became the magnificent person which she is. It is not a movie to attract new fans, but a movie to tell the real tale. Some things could have been better, but when you cannot forget the awful movie from \\'66 then is this a magnificent movie. So are you a fan then sit down relax and just enjoy that the real story is there with a cover story just to make Modesty tell her story.']\n"
          ]
        }
      ],
      "source": [
        "for features, labels in dataset.take(1): # first batch\n",
        "    print(labels)\n",
        "    for key, value in features.items():\n",
        "        print(\"{:20s}: {}\".format(key,value.numpy()))"
      ]
    },
    {
      "cell_type": "code",
      "execution_count": 24,
      "metadata": {
        "id": "3_-7VytvGMyz"
      },
      "outputs": [
        {
          "ename": "TypeError",
          "evalue": "in user code:\n\n    File \"C:\\Users\\renua\\AppData\\Local\\Temp\\ipykernel_17272\\4275188195.py\", line 1, in None  *\n        lambda x, y: (tf.concat([tf.expand_dims(x['\\ufefftext'], axis=-1)], axis=-1), y)\n\n    TypeError: Only integers, slices (`:`), ellipsis (`...`), tf.newaxis (`None`) and scalar tf.int32/tf.int64 tensors are valid indices, got '\\ufefftext'\n",
          "output_type": "error",
          "traceback": [
            "\u001b[1;31m---------------------------------------------------------------------------\u001b[0m",
            "\u001b[1;31mTypeError\u001b[0m                                 Traceback (most recent call last)",
            "\u001b[1;32md:\\Documents\\Mec2a\\sentiment-analisys-with-MLP\\MLP_Sentiment_Analysis_(PIBIC_2021).ipynb Cell 17'\u001b[0m in \u001b[0;36m<cell line: 1>\u001b[1;34m()\u001b[0m\n\u001b[1;32m----> <a href='vscode-notebook-cell:/d%3A/Documents/Mec2a/sentiment-analisys-with-MLP/MLP_Sentiment_Analysis_%28PIBIC_2021%29.ipynb#ch0000016?line=0'>1</a>\u001b[0m dataset \u001b[39m=\u001b[39m dataset\u001b[39m.\u001b[39;49mmap(\u001b[39mlambda\u001b[39;49;00m x, y: (tf\u001b[39m.\u001b[39;49mconcat([tf\u001b[39m.\u001b[39;49mexpand_dims(x[\u001b[39m'\u001b[39;49m\u001b[39m\\ufeff\u001b[39;49;00m\u001b[39mtext\u001b[39;49m\u001b[39m'\u001b[39;49m], axis\u001b[39m=\u001b[39;49m\u001b[39m-\u001b[39;49m\u001b[39m1\u001b[39;49m)], axis\u001b[39m=\u001b[39;49m\u001b[39m-\u001b[39;49m\u001b[39m1\u001b[39;49m), y))\n\u001b[0;32m      <a href='vscode-notebook-cell:/d%3A/Documents/Mec2a/sentiment-analisys-with-MLP/MLP_Sentiment_Analysis_%28PIBIC_2021%29.ipynb#ch0000016?line=1'>2</a>\u001b[0m dataset\n",
            "File \u001b[1;32md:\\Documents\\Mec2a\\sentiment-analisys-with-MLP\\venv\\lib\\site-packages\\tensorflow\\python\\data\\ops\\dataset_ops.py:2016\u001b[0m, in \u001b[0;36mDatasetV2.map\u001b[1;34m(self, map_func, num_parallel_calls, deterministic, name)\u001b[0m\n\u001b[0;32m   <a href='file:///d%3A/Documents/Mec2a/sentiment-analisys-with-MLP/venv/lib/site-packages/tensorflow/python/data/ops/dataset_ops.py?line=2012'>2013</a>\u001b[0m   \u001b[39mif\u001b[39;00m deterministic \u001b[39mis\u001b[39;00m \u001b[39mnot\u001b[39;00m \u001b[39mNone\u001b[39;00m \u001b[39mand\u001b[39;00m \u001b[39mnot\u001b[39;00m DEBUG_MODE:\n\u001b[0;32m   <a href='file:///d%3A/Documents/Mec2a/sentiment-analisys-with-MLP/venv/lib/site-packages/tensorflow/python/data/ops/dataset_ops.py?line=2013'>2014</a>\u001b[0m     warnings\u001b[39m.\u001b[39mwarn(\u001b[39m\"\u001b[39m\u001b[39mThe `deterministic` argument has no effect unless the \u001b[39m\u001b[39m\"\u001b[39m\n\u001b[0;32m   <a href='file:///d%3A/Documents/Mec2a/sentiment-analisys-with-MLP/venv/lib/site-packages/tensorflow/python/data/ops/dataset_ops.py?line=2014'>2015</a>\u001b[0m                   \u001b[39m\"\u001b[39m\u001b[39m`num_parallel_calls` argument is specified.\u001b[39m\u001b[39m\"\u001b[39m)\n\u001b[1;32m-> <a href='file:///d%3A/Documents/Mec2a/sentiment-analisys-with-MLP/venv/lib/site-packages/tensorflow/python/data/ops/dataset_ops.py?line=2015'>2016</a>\u001b[0m   \u001b[39mreturn\u001b[39;00m MapDataset(\u001b[39mself\u001b[39;49m, map_func, preserve_cardinality\u001b[39m=\u001b[39;49m\u001b[39mTrue\u001b[39;49;00m, name\u001b[39m=\u001b[39;49mname)\n\u001b[0;32m   <a href='file:///d%3A/Documents/Mec2a/sentiment-analisys-with-MLP/venv/lib/site-packages/tensorflow/python/data/ops/dataset_ops.py?line=2016'>2017</a>\u001b[0m \u001b[39melse\u001b[39;00m:\n\u001b[0;32m   <a href='file:///d%3A/Documents/Mec2a/sentiment-analisys-with-MLP/venv/lib/site-packages/tensorflow/python/data/ops/dataset_ops.py?line=2017'>2018</a>\u001b[0m   \u001b[39mreturn\u001b[39;00m ParallelMapDataset(\n\u001b[0;32m   <a href='file:///d%3A/Documents/Mec2a/sentiment-analisys-with-MLP/venv/lib/site-packages/tensorflow/python/data/ops/dataset_ops.py?line=2018'>2019</a>\u001b[0m       \u001b[39mself\u001b[39m,\n\u001b[0;32m   <a href='file:///d%3A/Documents/Mec2a/sentiment-analisys-with-MLP/venv/lib/site-packages/tensorflow/python/data/ops/dataset_ops.py?line=2019'>2020</a>\u001b[0m       map_func,\n\u001b[1;32m   (...)\u001b[0m\n\u001b[0;32m   <a href='file:///d%3A/Documents/Mec2a/sentiment-analisys-with-MLP/venv/lib/site-packages/tensorflow/python/data/ops/dataset_ops.py?line=2022'>2023</a>\u001b[0m       preserve_cardinality\u001b[39m=\u001b[39m\u001b[39mTrue\u001b[39;00m,\n\u001b[0;32m   <a href='file:///d%3A/Documents/Mec2a/sentiment-analisys-with-MLP/venv/lib/site-packages/tensorflow/python/data/ops/dataset_ops.py?line=2023'>2024</a>\u001b[0m       name\u001b[39m=\u001b[39mname)\n",
            "File \u001b[1;32md:\\Documents\\Mec2a\\sentiment-analisys-with-MLP\\venv\\lib\\site-packages\\tensorflow\\python\\data\\ops\\dataset_ops.py:5191\u001b[0m, in \u001b[0;36mMapDataset.__init__\u001b[1;34m(self, input_dataset, map_func, use_inter_op_parallelism, preserve_cardinality, use_legacy_function, name)\u001b[0m\n\u001b[0;32m   <a href='file:///d%3A/Documents/Mec2a/sentiment-analisys-with-MLP/venv/lib/site-packages/tensorflow/python/data/ops/dataset_ops.py?line=5188'>5189</a>\u001b[0m \u001b[39mself\u001b[39m\u001b[39m.\u001b[39m_use_inter_op_parallelism \u001b[39m=\u001b[39m use_inter_op_parallelism\n\u001b[0;32m   <a href='file:///d%3A/Documents/Mec2a/sentiment-analisys-with-MLP/venv/lib/site-packages/tensorflow/python/data/ops/dataset_ops.py?line=5189'>5190</a>\u001b[0m \u001b[39mself\u001b[39m\u001b[39m.\u001b[39m_preserve_cardinality \u001b[39m=\u001b[39m preserve_cardinality\n\u001b[1;32m-> <a href='file:///d%3A/Documents/Mec2a/sentiment-analisys-with-MLP/venv/lib/site-packages/tensorflow/python/data/ops/dataset_ops.py?line=5190'>5191</a>\u001b[0m \u001b[39mself\u001b[39m\u001b[39m.\u001b[39m_map_func \u001b[39m=\u001b[39m structured_function\u001b[39m.\u001b[39;49mStructuredFunctionWrapper(\n\u001b[0;32m   <a href='file:///d%3A/Documents/Mec2a/sentiment-analisys-with-MLP/venv/lib/site-packages/tensorflow/python/data/ops/dataset_ops.py?line=5191'>5192</a>\u001b[0m     map_func,\n\u001b[0;32m   <a href='file:///d%3A/Documents/Mec2a/sentiment-analisys-with-MLP/venv/lib/site-packages/tensorflow/python/data/ops/dataset_ops.py?line=5192'>5193</a>\u001b[0m     \u001b[39mself\u001b[39;49m\u001b[39m.\u001b[39;49m_transformation_name(),\n\u001b[0;32m   <a href='file:///d%3A/Documents/Mec2a/sentiment-analisys-with-MLP/venv/lib/site-packages/tensorflow/python/data/ops/dataset_ops.py?line=5193'>5194</a>\u001b[0m     dataset\u001b[39m=\u001b[39;49minput_dataset,\n\u001b[0;32m   <a href='file:///d%3A/Documents/Mec2a/sentiment-analisys-with-MLP/venv/lib/site-packages/tensorflow/python/data/ops/dataset_ops.py?line=5194'>5195</a>\u001b[0m     use_legacy_function\u001b[39m=\u001b[39;49muse_legacy_function)\n\u001b[0;32m   <a href='file:///d%3A/Documents/Mec2a/sentiment-analisys-with-MLP/venv/lib/site-packages/tensorflow/python/data/ops/dataset_ops.py?line=5195'>5196</a>\u001b[0m \u001b[39mself\u001b[39m\u001b[39m.\u001b[39m_metadata \u001b[39m=\u001b[39m dataset_metadata_pb2\u001b[39m.\u001b[39mMetadata()\n\u001b[0;32m   <a href='file:///d%3A/Documents/Mec2a/sentiment-analisys-with-MLP/venv/lib/site-packages/tensorflow/python/data/ops/dataset_ops.py?line=5196'>5197</a>\u001b[0m \u001b[39mif\u001b[39;00m name:\n",
            "File \u001b[1;32md:\\Documents\\Mec2a\\sentiment-analisys-with-MLP\\venv\\lib\\site-packages\\tensorflow\\python\\data\\ops\\structured_function.py:271\u001b[0m, in \u001b[0;36mStructuredFunctionWrapper.__init__\u001b[1;34m(self, func, transformation_name, dataset, input_classes, input_shapes, input_types, input_structure, add_to_graph, use_legacy_function, defun_kwargs)\u001b[0m\n\u001b[0;32m    <a href='file:///d%3A/Documents/Mec2a/sentiment-analisys-with-MLP/venv/lib/site-packages/tensorflow/python/data/ops/structured_function.py?line=263'>264</a>\u001b[0m       warnings\u001b[39m.\u001b[39mwarn(\n\u001b[0;32m    <a href='file:///d%3A/Documents/Mec2a/sentiment-analisys-with-MLP/venv/lib/site-packages/tensorflow/python/data/ops/structured_function.py?line=264'>265</a>\u001b[0m           \u001b[39m\"\u001b[39m\u001b[39mEven though the `tf.config.experimental_run_functions_eagerly` \u001b[39m\u001b[39m\"\u001b[39m\n\u001b[0;32m    <a href='file:///d%3A/Documents/Mec2a/sentiment-analisys-with-MLP/venv/lib/site-packages/tensorflow/python/data/ops/structured_function.py?line=265'>266</a>\u001b[0m           \u001b[39m\"\u001b[39m\u001b[39moption is set, this option does not apply to tf.data functions. \u001b[39m\u001b[39m\"\u001b[39m\n\u001b[0;32m    <a href='file:///d%3A/Documents/Mec2a/sentiment-analisys-with-MLP/venv/lib/site-packages/tensorflow/python/data/ops/structured_function.py?line=266'>267</a>\u001b[0m           \u001b[39m\"\u001b[39m\u001b[39mTo force eager execution of tf.data functions, please use \u001b[39m\u001b[39m\"\u001b[39m\n\u001b[0;32m    <a href='file:///d%3A/Documents/Mec2a/sentiment-analisys-with-MLP/venv/lib/site-packages/tensorflow/python/data/ops/structured_function.py?line=267'>268</a>\u001b[0m           \u001b[39m\"\u001b[39m\u001b[39m`tf.data.experimental.enable_debug_mode()`.\u001b[39m\u001b[39m\"\u001b[39m)\n\u001b[0;32m    <a href='file:///d%3A/Documents/Mec2a/sentiment-analisys-with-MLP/venv/lib/site-packages/tensorflow/python/data/ops/structured_function.py?line=268'>269</a>\u001b[0m     fn_factory \u001b[39m=\u001b[39m trace_tf_function(defun_kwargs)\n\u001b[1;32m--> <a href='file:///d%3A/Documents/Mec2a/sentiment-analisys-with-MLP/venv/lib/site-packages/tensorflow/python/data/ops/structured_function.py?line=270'>271</a>\u001b[0m \u001b[39mself\u001b[39m\u001b[39m.\u001b[39m_function \u001b[39m=\u001b[39m fn_factory()\n\u001b[0;32m    <a href='file:///d%3A/Documents/Mec2a/sentiment-analisys-with-MLP/venv/lib/site-packages/tensorflow/python/data/ops/structured_function.py?line=271'>272</a>\u001b[0m \u001b[39m# There is no graph to add in eager mode.\u001b[39;00m\n\u001b[0;32m    <a href='file:///d%3A/Documents/Mec2a/sentiment-analisys-with-MLP/venv/lib/site-packages/tensorflow/python/data/ops/structured_function.py?line=272'>273</a>\u001b[0m add_to_graph \u001b[39m&\u001b[39m\u001b[39m=\u001b[39m \u001b[39mnot\u001b[39;00m context\u001b[39m.\u001b[39mexecuting_eagerly()\n",
            "File \u001b[1;32md:\\Documents\\Mec2a\\sentiment-analisys-with-MLP\\venv\\lib\\site-packages\\tensorflow\\python\\eager\\function.py:3070\u001b[0m, in \u001b[0;36mFunction.get_concrete_function\u001b[1;34m(self, *args, **kwargs)\u001b[0m\n\u001b[0;32m   <a href='file:///d%3A/Documents/Mec2a/sentiment-analisys-with-MLP/venv/lib/site-packages/tensorflow/python/eager/function.py?line=3060'>3061</a>\u001b[0m \u001b[39mdef\u001b[39;00m \u001b[39mget_concrete_function\u001b[39m(\u001b[39mself\u001b[39m, \u001b[39m*\u001b[39margs, \u001b[39m*\u001b[39m\u001b[39m*\u001b[39mkwargs):\n\u001b[0;32m   <a href='file:///d%3A/Documents/Mec2a/sentiment-analisys-with-MLP/venv/lib/site-packages/tensorflow/python/eager/function.py?line=3061'>3062</a>\u001b[0m   \u001b[39m\"\"\"Returns a `ConcreteFunction` specialized to inputs and execution context.\u001b[39;00m\n\u001b[0;32m   <a href='file:///d%3A/Documents/Mec2a/sentiment-analisys-with-MLP/venv/lib/site-packages/tensorflow/python/eager/function.py?line=3062'>3063</a>\u001b[0m \n\u001b[0;32m   <a href='file:///d%3A/Documents/Mec2a/sentiment-analisys-with-MLP/venv/lib/site-packages/tensorflow/python/eager/function.py?line=3063'>3064</a>\u001b[0m \u001b[39m  Args:\u001b[39;00m\n\u001b[1;32m   (...)\u001b[0m\n\u001b[0;32m   <a href='file:///d%3A/Documents/Mec2a/sentiment-analisys-with-MLP/venv/lib/site-packages/tensorflow/python/eager/function.py?line=3067'>3068</a>\u001b[0m \u001b[39m       or `tf.Tensor` or `tf.TensorSpec`.\u001b[39;00m\n\u001b[0;32m   <a href='file:///d%3A/Documents/Mec2a/sentiment-analisys-with-MLP/venv/lib/site-packages/tensorflow/python/eager/function.py?line=3068'>3069</a>\u001b[0m \u001b[39m  \"\"\"\u001b[39;00m\n\u001b[1;32m-> <a href='file:///d%3A/Documents/Mec2a/sentiment-analisys-with-MLP/venv/lib/site-packages/tensorflow/python/eager/function.py?line=3069'>3070</a>\u001b[0m   graph_function \u001b[39m=\u001b[39m \u001b[39mself\u001b[39m\u001b[39m.\u001b[39m_get_concrete_function_garbage_collected(\n\u001b[0;32m   <a href='file:///d%3A/Documents/Mec2a/sentiment-analisys-with-MLP/venv/lib/site-packages/tensorflow/python/eager/function.py?line=3070'>3071</a>\u001b[0m       \u001b[39m*\u001b[39margs, \u001b[39m*\u001b[39m\u001b[39m*\u001b[39mkwargs)\n\u001b[0;32m   <a href='file:///d%3A/Documents/Mec2a/sentiment-analisys-with-MLP/venv/lib/site-packages/tensorflow/python/eager/function.py?line=3071'>3072</a>\u001b[0m   graph_function\u001b[39m.\u001b[39m_garbage_collector\u001b[39m.\u001b[39mrelease()  \u001b[39m# pylint: disable=protected-access\u001b[39;00m\n\u001b[0;32m   <a href='file:///d%3A/Documents/Mec2a/sentiment-analisys-with-MLP/venv/lib/site-packages/tensorflow/python/eager/function.py?line=3072'>3073</a>\u001b[0m   \u001b[39mreturn\u001b[39;00m graph_function\n",
            "File \u001b[1;32md:\\Documents\\Mec2a\\sentiment-analisys-with-MLP\\venv\\lib\\site-packages\\tensorflow\\python\\eager\\function.py:3036\u001b[0m, in \u001b[0;36mFunction._get_concrete_function_garbage_collected\u001b[1;34m(self, *args, **kwargs)\u001b[0m\n\u001b[0;32m   <a href='file:///d%3A/Documents/Mec2a/sentiment-analisys-with-MLP/venv/lib/site-packages/tensorflow/python/eager/function.py?line=3033'>3034</a>\u001b[0m   args, kwargs \u001b[39m=\u001b[39m \u001b[39mNone\u001b[39;00m, \u001b[39mNone\u001b[39;00m\n\u001b[0;32m   <a href='file:///d%3A/Documents/Mec2a/sentiment-analisys-with-MLP/venv/lib/site-packages/tensorflow/python/eager/function.py?line=3034'>3035</a>\u001b[0m \u001b[39mwith\u001b[39;00m \u001b[39mself\u001b[39m\u001b[39m.\u001b[39m_lock:\n\u001b[1;32m-> <a href='file:///d%3A/Documents/Mec2a/sentiment-analisys-with-MLP/venv/lib/site-packages/tensorflow/python/eager/function.py?line=3035'>3036</a>\u001b[0m   graph_function, _ \u001b[39m=\u001b[39m \u001b[39mself\u001b[39;49m\u001b[39m.\u001b[39;49m_maybe_define_function(args, kwargs)\n\u001b[0;32m   <a href='file:///d%3A/Documents/Mec2a/sentiment-analisys-with-MLP/venv/lib/site-packages/tensorflow/python/eager/function.py?line=3036'>3037</a>\u001b[0m   seen_names \u001b[39m=\u001b[39m \u001b[39mset\u001b[39m()\n\u001b[0;32m   <a href='file:///d%3A/Documents/Mec2a/sentiment-analisys-with-MLP/venv/lib/site-packages/tensorflow/python/eager/function.py?line=3037'>3038</a>\u001b[0m   captured \u001b[39m=\u001b[39m object_identity\u001b[39m.\u001b[39mObjectIdentitySet(\n\u001b[0;32m   <a href='file:///d%3A/Documents/Mec2a/sentiment-analisys-with-MLP/venv/lib/site-packages/tensorflow/python/eager/function.py?line=3038'>3039</a>\u001b[0m       graph_function\u001b[39m.\u001b[39mgraph\u001b[39m.\u001b[39minternal_captures)\n",
            "File \u001b[1;32md:\\Documents\\Mec2a\\sentiment-analisys-with-MLP\\venv\\lib\\site-packages\\tensorflow\\python\\eager\\function.py:3292\u001b[0m, in \u001b[0;36mFunction._maybe_define_function\u001b[1;34m(self, args, kwargs)\u001b[0m\n\u001b[0;32m   <a href='file:///d%3A/Documents/Mec2a/sentiment-analisys-with-MLP/venv/lib/site-packages/tensorflow/python/eager/function.py?line=3287'>3288</a>\u001b[0m   \u001b[39mreturn\u001b[39;00m \u001b[39mself\u001b[39m\u001b[39m.\u001b[39m_define_function_with_shape_relaxation(\n\u001b[0;32m   <a href='file:///d%3A/Documents/Mec2a/sentiment-analisys-with-MLP/venv/lib/site-packages/tensorflow/python/eager/function.py?line=3288'>3289</a>\u001b[0m       args, kwargs, flat_args, filtered_flat_args)\n\u001b[0;32m   <a href='file:///d%3A/Documents/Mec2a/sentiment-analisys-with-MLP/venv/lib/site-packages/tensorflow/python/eager/function.py?line=3290'>3291</a>\u001b[0m \u001b[39mself\u001b[39m\u001b[39m.\u001b[39m_function_cache\u001b[39m.\u001b[39madd_call_context(cache_key\u001b[39m.\u001b[39mcall_context)\n\u001b[1;32m-> <a href='file:///d%3A/Documents/Mec2a/sentiment-analisys-with-MLP/venv/lib/site-packages/tensorflow/python/eager/function.py?line=3291'>3292</a>\u001b[0m graph_function \u001b[39m=\u001b[39m \u001b[39mself\u001b[39;49m\u001b[39m.\u001b[39;49m_create_graph_function(args, kwargs)\n\u001b[0;32m   <a href='file:///d%3A/Documents/Mec2a/sentiment-analisys-with-MLP/venv/lib/site-packages/tensorflow/python/eager/function.py?line=3292'>3293</a>\u001b[0m \u001b[39mself\u001b[39m\u001b[39m.\u001b[39m_function_cache\u001b[39m.\u001b[39madd(cache_key, cache_key_deletion_observer,\n\u001b[0;32m   <a href='file:///d%3A/Documents/Mec2a/sentiment-analisys-with-MLP/venv/lib/site-packages/tensorflow/python/eager/function.py?line=3293'>3294</a>\u001b[0m                          graph_function)\n\u001b[0;32m   <a href='file:///d%3A/Documents/Mec2a/sentiment-analisys-with-MLP/venv/lib/site-packages/tensorflow/python/eager/function.py?line=3295'>3296</a>\u001b[0m \u001b[39mreturn\u001b[39;00m graph_function, filtered_flat_args\n",
            "File \u001b[1;32md:\\Documents\\Mec2a\\sentiment-analisys-with-MLP\\venv\\lib\\site-packages\\tensorflow\\python\\eager\\function.py:3130\u001b[0m, in \u001b[0;36mFunction._create_graph_function\u001b[1;34m(self, args, kwargs, override_flat_arg_shapes)\u001b[0m\n\u001b[0;32m   <a href='file:///d%3A/Documents/Mec2a/sentiment-analisys-with-MLP/venv/lib/site-packages/tensorflow/python/eager/function.py?line=3124'>3125</a>\u001b[0m missing_arg_names \u001b[39m=\u001b[39m [\n\u001b[0;32m   <a href='file:///d%3A/Documents/Mec2a/sentiment-analisys-with-MLP/venv/lib/site-packages/tensorflow/python/eager/function.py?line=3125'>3126</a>\u001b[0m     \u001b[39m\"\u001b[39m\u001b[39m%s\u001b[39;00m\u001b[39m_\u001b[39m\u001b[39m%d\u001b[39;00m\u001b[39m\"\u001b[39m \u001b[39m%\u001b[39m (arg, i) \u001b[39mfor\u001b[39;00m i, arg \u001b[39min\u001b[39;00m \u001b[39menumerate\u001b[39m(missing_arg_names)\n\u001b[0;32m   <a href='file:///d%3A/Documents/Mec2a/sentiment-analisys-with-MLP/venv/lib/site-packages/tensorflow/python/eager/function.py?line=3126'>3127</a>\u001b[0m ]\n\u001b[0;32m   <a href='file:///d%3A/Documents/Mec2a/sentiment-analisys-with-MLP/venv/lib/site-packages/tensorflow/python/eager/function.py?line=3127'>3128</a>\u001b[0m arg_names \u001b[39m=\u001b[39m base_arg_names \u001b[39m+\u001b[39m missing_arg_names\n\u001b[0;32m   <a href='file:///d%3A/Documents/Mec2a/sentiment-analisys-with-MLP/venv/lib/site-packages/tensorflow/python/eager/function.py?line=3128'>3129</a>\u001b[0m graph_function \u001b[39m=\u001b[39m ConcreteFunction(\n\u001b[1;32m-> <a href='file:///d%3A/Documents/Mec2a/sentiment-analisys-with-MLP/venv/lib/site-packages/tensorflow/python/eager/function.py?line=3129'>3130</a>\u001b[0m     func_graph_module\u001b[39m.\u001b[39;49mfunc_graph_from_py_func(\n\u001b[0;32m   <a href='file:///d%3A/Documents/Mec2a/sentiment-analisys-with-MLP/venv/lib/site-packages/tensorflow/python/eager/function.py?line=3130'>3131</a>\u001b[0m         \u001b[39mself\u001b[39;49m\u001b[39m.\u001b[39;49m_name,\n\u001b[0;32m   <a href='file:///d%3A/Documents/Mec2a/sentiment-analisys-with-MLP/venv/lib/site-packages/tensorflow/python/eager/function.py?line=3131'>3132</a>\u001b[0m         \u001b[39mself\u001b[39;49m\u001b[39m.\u001b[39;49m_python_function,\n\u001b[0;32m   <a href='file:///d%3A/Documents/Mec2a/sentiment-analisys-with-MLP/venv/lib/site-packages/tensorflow/python/eager/function.py?line=3132'>3133</a>\u001b[0m         args,\n\u001b[0;32m   <a href='file:///d%3A/Documents/Mec2a/sentiment-analisys-with-MLP/venv/lib/site-packages/tensorflow/python/eager/function.py?line=3133'>3134</a>\u001b[0m         kwargs,\n\u001b[0;32m   <a href='file:///d%3A/Documents/Mec2a/sentiment-analisys-with-MLP/venv/lib/site-packages/tensorflow/python/eager/function.py?line=3134'>3135</a>\u001b[0m         \u001b[39mself\u001b[39;49m\u001b[39m.\u001b[39;49minput_signature,\n\u001b[0;32m   <a href='file:///d%3A/Documents/Mec2a/sentiment-analisys-with-MLP/venv/lib/site-packages/tensorflow/python/eager/function.py?line=3135'>3136</a>\u001b[0m         autograph\u001b[39m=\u001b[39;49m\u001b[39mself\u001b[39;49m\u001b[39m.\u001b[39;49m_autograph,\n\u001b[0;32m   <a href='file:///d%3A/Documents/Mec2a/sentiment-analisys-with-MLP/venv/lib/site-packages/tensorflow/python/eager/function.py?line=3136'>3137</a>\u001b[0m         autograph_options\u001b[39m=\u001b[39;49m\u001b[39mself\u001b[39;49m\u001b[39m.\u001b[39;49m_autograph_options,\n\u001b[0;32m   <a href='file:///d%3A/Documents/Mec2a/sentiment-analisys-with-MLP/venv/lib/site-packages/tensorflow/python/eager/function.py?line=3137'>3138</a>\u001b[0m         arg_names\u001b[39m=\u001b[39;49marg_names,\n\u001b[0;32m   <a href='file:///d%3A/Documents/Mec2a/sentiment-analisys-with-MLP/venv/lib/site-packages/tensorflow/python/eager/function.py?line=3138'>3139</a>\u001b[0m         override_flat_arg_shapes\u001b[39m=\u001b[39;49moverride_flat_arg_shapes,\n\u001b[0;32m   <a href='file:///d%3A/Documents/Mec2a/sentiment-analisys-with-MLP/venv/lib/site-packages/tensorflow/python/eager/function.py?line=3139'>3140</a>\u001b[0m         capture_by_value\u001b[39m=\u001b[39;49m\u001b[39mself\u001b[39;49m\u001b[39m.\u001b[39;49m_capture_by_value),\n\u001b[0;32m   <a href='file:///d%3A/Documents/Mec2a/sentiment-analisys-with-MLP/venv/lib/site-packages/tensorflow/python/eager/function.py?line=3140'>3141</a>\u001b[0m     \u001b[39mself\u001b[39m\u001b[39m.\u001b[39m_function_attributes,\n\u001b[0;32m   <a href='file:///d%3A/Documents/Mec2a/sentiment-analisys-with-MLP/venv/lib/site-packages/tensorflow/python/eager/function.py?line=3141'>3142</a>\u001b[0m     function_spec\u001b[39m=\u001b[39m\u001b[39mself\u001b[39m\u001b[39m.\u001b[39mfunction_spec,\n\u001b[0;32m   <a href='file:///d%3A/Documents/Mec2a/sentiment-analisys-with-MLP/venv/lib/site-packages/tensorflow/python/eager/function.py?line=3142'>3143</a>\u001b[0m     \u001b[39m# Tell the ConcreteFunction to clean up its graph once it goes out of\u001b[39;00m\n\u001b[0;32m   <a href='file:///d%3A/Documents/Mec2a/sentiment-analisys-with-MLP/venv/lib/site-packages/tensorflow/python/eager/function.py?line=3143'>3144</a>\u001b[0m     \u001b[39m# scope. This is not the default behavior since it gets used in some\u001b[39;00m\n\u001b[0;32m   <a href='file:///d%3A/Documents/Mec2a/sentiment-analisys-with-MLP/venv/lib/site-packages/tensorflow/python/eager/function.py?line=3144'>3145</a>\u001b[0m     \u001b[39m# places (like Keras) where the FuncGraph lives longer than the\u001b[39;00m\n\u001b[0;32m   <a href='file:///d%3A/Documents/Mec2a/sentiment-analisys-with-MLP/venv/lib/site-packages/tensorflow/python/eager/function.py?line=3145'>3146</a>\u001b[0m     \u001b[39m# ConcreteFunction.\u001b[39;00m\n\u001b[0;32m   <a href='file:///d%3A/Documents/Mec2a/sentiment-analisys-with-MLP/venv/lib/site-packages/tensorflow/python/eager/function.py?line=3146'>3147</a>\u001b[0m     shared_func_graph\u001b[39m=\u001b[39m\u001b[39mFalse\u001b[39;00m)\n\u001b[0;32m   <a href='file:///d%3A/Documents/Mec2a/sentiment-analisys-with-MLP/venv/lib/site-packages/tensorflow/python/eager/function.py?line=3147'>3148</a>\u001b[0m \u001b[39mreturn\u001b[39;00m graph_function\n",
            "File \u001b[1;32md:\\Documents\\Mec2a\\sentiment-analisys-with-MLP\\venv\\lib\\site-packages\\tensorflow\\python\\framework\\func_graph.py:1161\u001b[0m, in \u001b[0;36mfunc_graph_from_py_func\u001b[1;34m(name, python_func, args, kwargs, signature, func_graph, autograph, autograph_options, add_control_dependencies, arg_names, op_return_value, collections, capture_by_value, override_flat_arg_shapes, acd_record_initial_resource_uses)\u001b[0m\n\u001b[0;32m   <a href='file:///d%3A/Documents/Mec2a/sentiment-analisys-with-MLP/venv/lib/site-packages/tensorflow/python/framework/func_graph.py?line=1157'>1158</a>\u001b[0m \u001b[39melse\u001b[39;00m:\n\u001b[0;32m   <a href='file:///d%3A/Documents/Mec2a/sentiment-analisys-with-MLP/venv/lib/site-packages/tensorflow/python/framework/func_graph.py?line=1158'>1159</a>\u001b[0m   _, original_func \u001b[39m=\u001b[39m tf_decorator\u001b[39m.\u001b[39munwrap(python_func)\n\u001b[1;32m-> <a href='file:///d%3A/Documents/Mec2a/sentiment-analisys-with-MLP/venv/lib/site-packages/tensorflow/python/framework/func_graph.py?line=1160'>1161</a>\u001b[0m func_outputs \u001b[39m=\u001b[39m python_func(\u001b[39m*\u001b[39mfunc_args, \u001b[39m*\u001b[39m\u001b[39m*\u001b[39mfunc_kwargs)\n\u001b[0;32m   <a href='file:///d%3A/Documents/Mec2a/sentiment-analisys-with-MLP/venv/lib/site-packages/tensorflow/python/framework/func_graph.py?line=1162'>1163</a>\u001b[0m \u001b[39m# invariant: `func_outputs` contains only Tensors, CompositeTensors,\u001b[39;00m\n\u001b[0;32m   <a href='file:///d%3A/Documents/Mec2a/sentiment-analisys-with-MLP/venv/lib/site-packages/tensorflow/python/framework/func_graph.py?line=1163'>1164</a>\u001b[0m \u001b[39m# TensorArrays and `None`s.\u001b[39;00m\n\u001b[0;32m   <a href='file:///d%3A/Documents/Mec2a/sentiment-analisys-with-MLP/venv/lib/site-packages/tensorflow/python/framework/func_graph.py?line=1164'>1165</a>\u001b[0m func_outputs \u001b[39m=\u001b[39m nest\u001b[39m.\u001b[39mmap_structure(convert, func_outputs,\n\u001b[0;32m   <a href='file:///d%3A/Documents/Mec2a/sentiment-analisys-with-MLP/venv/lib/site-packages/tensorflow/python/framework/func_graph.py?line=1165'>1166</a>\u001b[0m                                   expand_composites\u001b[39m=\u001b[39m\u001b[39mTrue\u001b[39;00m)\n",
            "File \u001b[1;32md:\\Documents\\Mec2a\\sentiment-analisys-with-MLP\\venv\\lib\\site-packages\\tensorflow\\python\\data\\ops\\structured_function.py:248\u001b[0m, in \u001b[0;36mStructuredFunctionWrapper.__init__.<locals>.trace_tf_function.<locals>.wrapped_fn\u001b[1;34m(*args)\u001b[0m\n\u001b[0;32m    <a href='file:///d%3A/Documents/Mec2a/sentiment-analisys-with-MLP/venv/lib/site-packages/tensorflow/python/data/ops/structured_function.py?line=241'>242</a>\u001b[0m \u001b[39m@eager_function\u001b[39m\u001b[39m.\u001b[39mdefun_with_attributes(\n\u001b[0;32m    <a href='file:///d%3A/Documents/Mec2a/sentiment-analisys-with-MLP/venv/lib/site-packages/tensorflow/python/data/ops/structured_function.py?line=242'>243</a>\u001b[0m     input_signature\u001b[39m=\u001b[39mstructure\u001b[39m.\u001b[39mget_flat_tensor_specs(\n\u001b[0;32m    <a href='file:///d%3A/Documents/Mec2a/sentiment-analisys-with-MLP/venv/lib/site-packages/tensorflow/python/data/ops/structured_function.py?line=243'>244</a>\u001b[0m         \u001b[39mself\u001b[39m\u001b[39m.\u001b[39m_input_structure),\n\u001b[0;32m    <a href='file:///d%3A/Documents/Mec2a/sentiment-analisys-with-MLP/venv/lib/site-packages/tensorflow/python/data/ops/structured_function.py?line=244'>245</a>\u001b[0m     autograph\u001b[39m=\u001b[39m\u001b[39mFalse\u001b[39;00m,\n\u001b[0;32m    <a href='file:///d%3A/Documents/Mec2a/sentiment-analisys-with-MLP/venv/lib/site-packages/tensorflow/python/data/ops/structured_function.py?line=245'>246</a>\u001b[0m     attributes\u001b[39m=\u001b[39mdefun_kwargs)\n\u001b[0;32m    <a href='file:///d%3A/Documents/Mec2a/sentiment-analisys-with-MLP/venv/lib/site-packages/tensorflow/python/data/ops/structured_function.py?line=246'>247</a>\u001b[0m \u001b[39mdef\u001b[39;00m \u001b[39mwrapped_fn\u001b[39m(\u001b[39m*\u001b[39margs):  \u001b[39m# pylint: disable=missing-docstring\u001b[39;00m\n\u001b[1;32m--> <a href='file:///d%3A/Documents/Mec2a/sentiment-analisys-with-MLP/venv/lib/site-packages/tensorflow/python/data/ops/structured_function.py?line=247'>248</a>\u001b[0m   ret \u001b[39m=\u001b[39m wrapper_helper(\u001b[39m*\u001b[39;49margs)\n\u001b[0;32m    <a href='file:///d%3A/Documents/Mec2a/sentiment-analisys-with-MLP/venv/lib/site-packages/tensorflow/python/data/ops/structured_function.py?line=248'>249</a>\u001b[0m   ret \u001b[39m=\u001b[39m structure\u001b[39m.\u001b[39mto_tensor_list(\u001b[39mself\u001b[39m\u001b[39m.\u001b[39m_output_structure, ret)\n\u001b[0;32m    <a href='file:///d%3A/Documents/Mec2a/sentiment-analisys-with-MLP/venv/lib/site-packages/tensorflow/python/data/ops/structured_function.py?line=249'>250</a>\u001b[0m   \u001b[39mreturn\u001b[39;00m [ops\u001b[39m.\u001b[39mconvert_to_tensor(t) \u001b[39mfor\u001b[39;00m t \u001b[39min\u001b[39;00m ret]\n",
            "File \u001b[1;32md:\\Documents\\Mec2a\\sentiment-analisys-with-MLP\\venv\\lib\\site-packages\\tensorflow\\python\\data\\ops\\structured_function.py:177\u001b[0m, in \u001b[0;36mStructuredFunctionWrapper.__init__.<locals>.wrapper_helper\u001b[1;34m(*args)\u001b[0m\n\u001b[0;32m    <a href='file:///d%3A/Documents/Mec2a/sentiment-analisys-with-MLP/venv/lib/site-packages/tensorflow/python/data/ops/structured_function.py?line=174'>175</a>\u001b[0m \u001b[39mif\u001b[39;00m \u001b[39mnot\u001b[39;00m _should_unpack(nested_args):\n\u001b[0;32m    <a href='file:///d%3A/Documents/Mec2a/sentiment-analisys-with-MLP/venv/lib/site-packages/tensorflow/python/data/ops/structured_function.py?line=175'>176</a>\u001b[0m   nested_args \u001b[39m=\u001b[39m (nested_args,)\n\u001b[1;32m--> <a href='file:///d%3A/Documents/Mec2a/sentiment-analisys-with-MLP/venv/lib/site-packages/tensorflow/python/data/ops/structured_function.py?line=176'>177</a>\u001b[0m ret \u001b[39m=\u001b[39m autograph\u001b[39m.\u001b[39;49mtf_convert(\u001b[39mself\u001b[39;49m\u001b[39m.\u001b[39;49m_func, ag_ctx)(\u001b[39m*\u001b[39;49mnested_args)\n\u001b[0;32m    <a href='file:///d%3A/Documents/Mec2a/sentiment-analisys-with-MLP/venv/lib/site-packages/tensorflow/python/data/ops/structured_function.py?line=177'>178</a>\u001b[0m \u001b[39mif\u001b[39;00m _should_pack(ret):\n\u001b[0;32m    <a href='file:///d%3A/Documents/Mec2a/sentiment-analisys-with-MLP/venv/lib/site-packages/tensorflow/python/data/ops/structured_function.py?line=178'>179</a>\u001b[0m   ret \u001b[39m=\u001b[39m \u001b[39mtuple\u001b[39m(ret)\n",
            "File \u001b[1;32md:\\Documents\\Mec2a\\sentiment-analisys-with-MLP\\venv\\lib\\site-packages\\tensorflow\\python\\autograph\\impl\\api.py:692\u001b[0m, in \u001b[0;36mconvert.<locals>.decorator.<locals>.wrapper\u001b[1;34m(*args, **kwargs)\u001b[0m\n\u001b[0;32m    <a href='file:///d%3A/Documents/Mec2a/sentiment-analisys-with-MLP/venv/lib/site-packages/tensorflow/python/autograph/impl/api.py?line=689'>690</a>\u001b[0m \u001b[39mexcept\u001b[39;00m \u001b[39mException\u001b[39;00m \u001b[39mas\u001b[39;00m e:  \u001b[39m# pylint:disable=broad-except\u001b[39;00m\n\u001b[0;32m    <a href='file:///d%3A/Documents/Mec2a/sentiment-analisys-with-MLP/venv/lib/site-packages/tensorflow/python/autograph/impl/api.py?line=690'>691</a>\u001b[0m   \u001b[39mif\u001b[39;00m \u001b[39mhasattr\u001b[39m(e, \u001b[39m'\u001b[39m\u001b[39mag_error_metadata\u001b[39m\u001b[39m'\u001b[39m):\n\u001b[1;32m--> <a href='file:///d%3A/Documents/Mec2a/sentiment-analisys-with-MLP/venv/lib/site-packages/tensorflow/python/autograph/impl/api.py?line=691'>692</a>\u001b[0m     \u001b[39mraise\u001b[39;00m e\u001b[39m.\u001b[39mag_error_metadata\u001b[39m.\u001b[39mto_exception(e)\n\u001b[0;32m    <a href='file:///d%3A/Documents/Mec2a/sentiment-analisys-with-MLP/venv/lib/site-packages/tensorflow/python/autograph/impl/api.py?line=692'>693</a>\u001b[0m   \u001b[39melse\u001b[39;00m:\n\u001b[0;32m    <a href='file:///d%3A/Documents/Mec2a/sentiment-analisys-with-MLP/venv/lib/site-packages/tensorflow/python/autograph/impl/api.py?line=693'>694</a>\u001b[0m     \u001b[39mraise\u001b[39;00m\n",
            "\u001b[1;31mTypeError\u001b[0m: in user code:\n\n    File \"C:\\Users\\renua\\AppData\\Local\\Temp\\ipykernel_17272\\4275188195.py\", line 1, in None  *\n        lambda x, y: (tf.concat([tf.expand_dims(x['\\ufefftext'], axis=-1)], axis=-1), y)\n\n    TypeError: Only integers, slices (`:`), ellipsis (`...`), tf.newaxis (`None`) and scalar tf.int32/tf.int64 tensors are valid indices, got '\\ufefftext'\n"
          ]
        }
      ],
      "source": [
        "dataset = dataset.map(lambda x, y: (tf.concat([tf.expand_dims(x['\\ufefftext'], axis=-1)], axis=-1), y))\n",
        "dataset"
      ]
    },
    {
      "cell_type": "markdown",
      "metadata": {
        "id": "2RqCSioqFHHL"
      },
      "source": []
    },
    {
      "cell_type": "markdown",
      "metadata": {
        "id": "MhuxtXE7CJ3P"
      },
      "source": [
        "## Building the model"
      ]
    },
    {
      "cell_type": "code",
      "execution_count": 21,
      "metadata": {
        "id": "q_CFB3VKCO2W"
      },
      "outputs": [],
      "source": [
        "model = tf.keras.Sequential([\n",
        "    # layers.Input(shape=(30000, )),\n",
        "    layers.Dense(32, activation='relu'),\n",
        "    layers.Dense(32, activation='relu'),\n",
        "    layers.Dense(64, activation='relu'),\n",
        "    layers.Dense(64, activation='relu'),\n",
        "    layers.Dense(1, activation='sigmoid')\n",
        "])"
      ]
    },
    {
      "cell_type": "code",
      "execution_count": 22,
      "metadata": {
        "id": "iRUDUUlmCtZs"
      },
      "outputs": [],
      "source": [
        "model.compile('adam', tf.keras.losses.binary_crossentropy, metrics=['accuracy'])"
      ]
    },
    {
      "cell_type": "code",
      "execution_count": 23,
      "metadata": {
        "colab": {
          "base_uri": "https://localhost:8080/",
          "height": 1000
        },
        "id": "qZlzSc2tC9Oc",
        "outputId": "f2cc1cca-f7aa-4fc0-8d8c-9a222b39e93b"
      },
      "outputs": [
        {
          "name": "stdout",
          "output_type": "stream",
          "text": [
            "Epoch 1/10\n"
          ]
        },
        {
          "ename": "UnimplementedError",
          "evalue": "Graph execution error:\n\nDetected at node 'sequential/dense/Cast' defined at (most recent call last):\n    File \"C:\\Program Files\\Python39\\lib\\runpy.py\", line 197, in _run_module_as_main\n      return _run_code(code, main_globals, None,\n    File \"C:\\Program Files\\Python39\\lib\\runpy.py\", line 87, in _run_code\n      exec(code, run_globals)\n    File \"d:\\Documents\\Mec2a\\sentiment-analisys-with-MLP\\venv\\lib\\site-packages\\ipykernel_launcher.py\", line 16, in <module>\n      app.launch_new_instance()\n    File \"d:\\Documents\\Mec2a\\sentiment-analisys-with-MLP\\venv\\lib\\site-packages\\traitlets\\config\\application.py\", line 846, in launch_instance\n      app.start()\n    File \"d:\\Documents\\Mec2a\\sentiment-analisys-with-MLP\\venv\\lib\\site-packages\\ipykernel\\kernelapp.py\", line 677, in start\n      self.io_loop.start()\n    File \"d:\\Documents\\Mec2a\\sentiment-analisys-with-MLP\\venv\\lib\\site-packages\\tornado\\platform\\asyncio.py\", line 199, in start\n      self.asyncio_loop.run_forever()\n    File \"C:\\Program Files\\Python39\\lib\\asyncio\\base_events.py\", line 596, in run_forever\n      self._run_once()\n    File \"C:\\Program Files\\Python39\\lib\\asyncio\\base_events.py\", line 1890, in _run_once\n      handle._run()\n    File \"C:\\Program Files\\Python39\\lib\\asyncio\\events.py\", line 80, in _run\n      self._context.run(self._callback, *self._args)\n    File \"d:\\Documents\\Mec2a\\sentiment-analisys-with-MLP\\venv\\lib\\site-packages\\ipykernel\\kernelbase.py\", line 473, in dispatch_queue\n      await self.process_one()\n    File \"d:\\Documents\\Mec2a\\sentiment-analisys-with-MLP\\venv\\lib\\site-packages\\ipykernel\\kernelbase.py\", line 462, in process_one\n      await dispatch(*args)\n    File \"d:\\Documents\\Mec2a\\sentiment-analisys-with-MLP\\venv\\lib\\site-packages\\ipykernel\\kernelbase.py\", line 369, in dispatch_shell\n      await result\n    File \"d:\\Documents\\Mec2a\\sentiment-analisys-with-MLP\\venv\\lib\\site-packages\\ipykernel\\kernelbase.py\", line 664, in execute_request\n      reply_content = await reply_content\n    File \"d:\\Documents\\Mec2a\\sentiment-analisys-with-MLP\\venv\\lib\\site-packages\\ipykernel\\ipkernel.py\", line 355, in do_execute\n      res = shell.run_cell(code, store_history=store_history, silent=silent)\n    File \"d:\\Documents\\Mec2a\\sentiment-analisys-with-MLP\\venv\\lib\\site-packages\\ipykernel\\zmqshell.py\", line 532, in run_cell\n      return super().run_cell(*args, **kwargs)\n    File \"d:\\Documents\\Mec2a\\sentiment-analisys-with-MLP\\venv\\lib\\site-packages\\IPython\\core\\interactiveshell.py\", line 2854, in run_cell\n      result = self._run_cell(\n    File \"d:\\Documents\\Mec2a\\sentiment-analisys-with-MLP\\venv\\lib\\site-packages\\IPython\\core\\interactiveshell.py\", line 2900, in _run_cell\n      return runner(coro)\n    File \"d:\\Documents\\Mec2a\\sentiment-analisys-with-MLP\\venv\\lib\\site-packages\\IPython\\core\\async_helpers.py\", line 129, in _pseudo_sync_runner\n      coro.send(None)\n    File \"d:\\Documents\\Mec2a\\sentiment-analisys-with-MLP\\venv\\lib\\site-packages\\IPython\\core\\interactiveshell.py\", line 3098, in run_cell_async\n      has_raised = await self.run_ast_nodes(code_ast.body, cell_name,\n    File \"d:\\Documents\\Mec2a\\sentiment-analisys-with-MLP\\venv\\lib\\site-packages\\IPython\\core\\interactiveshell.py\", line 3301, in run_ast_nodes\n      if await self.run_code(code, result, async_=asy):\n    File \"d:\\Documents\\Mec2a\\sentiment-analisys-with-MLP\\venv\\lib\\site-packages\\IPython\\core\\interactiveshell.py\", line 3361, in run_code\n      exec(code_obj, self.user_global_ns, self.user_ns)\n    File \"C:\\Users\\renua\\AppData\\Local\\Temp\\ipykernel_17272\\3033054226.py\", line 1, in <cell line: 1>\n      model.fit(dataset, epochs=10)\n    File \"d:\\Documents\\Mec2a\\sentiment-analisys-with-MLP\\venv\\lib\\site-packages\\keras\\utils\\traceback_utils.py\", line 64, in error_handler\n      return fn(*args, **kwargs)\n    File \"d:\\Documents\\Mec2a\\sentiment-analisys-with-MLP\\venv\\lib\\site-packages\\keras\\engine\\training.py\", line 1384, in fit\n      tmp_logs = self.train_function(iterator)\n    File \"d:\\Documents\\Mec2a\\sentiment-analisys-with-MLP\\venv\\lib\\site-packages\\keras\\engine\\training.py\", line 1021, in train_function\n      return step_function(self, iterator)\n    File \"d:\\Documents\\Mec2a\\sentiment-analisys-with-MLP\\venv\\lib\\site-packages\\keras\\engine\\training.py\", line 1010, in step_function\n      outputs = model.distribute_strategy.run(run_step, args=(data,))\n    File \"d:\\Documents\\Mec2a\\sentiment-analisys-with-MLP\\venv\\lib\\site-packages\\keras\\engine\\training.py\", line 1000, in run_step\n      outputs = model.train_step(data)\n    File \"d:\\Documents\\Mec2a\\sentiment-analisys-with-MLP\\venv\\lib\\site-packages\\keras\\engine\\training.py\", line 859, in train_step\n      y_pred = self(x, training=True)\n    File \"d:\\Documents\\Mec2a\\sentiment-analisys-with-MLP\\venv\\lib\\site-packages\\keras\\utils\\traceback_utils.py\", line 64, in error_handler\n      return fn(*args, **kwargs)\n    File \"d:\\Documents\\Mec2a\\sentiment-analisys-with-MLP\\venv\\lib\\site-packages\\keras\\engine\\base_layer.py\", line 1096, in __call__\n      outputs = call_fn(inputs, *args, **kwargs)\n    File \"d:\\Documents\\Mec2a\\sentiment-analisys-with-MLP\\venv\\lib\\site-packages\\keras\\utils\\traceback_utils.py\", line 92, in error_handler\n      return fn(*args, **kwargs)\n    File \"d:\\Documents\\Mec2a\\sentiment-analisys-with-MLP\\venv\\lib\\site-packages\\keras\\engine\\sequential.py\", line 374, in call\n      return super(Sequential, self).call(inputs, training=training, mask=mask)\n    File \"d:\\Documents\\Mec2a\\sentiment-analisys-with-MLP\\venv\\lib\\site-packages\\keras\\engine\\functional.py\", line 451, in call\n      return self._run_internal_graph(\n    File \"d:\\Documents\\Mec2a\\sentiment-analisys-with-MLP\\venv\\lib\\site-packages\\keras\\engine\\functional.py\", line 589, in _run_internal_graph\n      outputs = node.layer(*args, **kwargs)\n    File \"d:\\Documents\\Mec2a\\sentiment-analisys-with-MLP\\venv\\lib\\site-packages\\keras\\utils\\traceback_utils.py\", line 64, in error_handler\n      return fn(*args, **kwargs)\n    File \"d:\\Documents\\Mec2a\\sentiment-analisys-with-MLP\\venv\\lib\\site-packages\\keras\\engine\\base_layer.py\", line 1096, in __call__\n      outputs = call_fn(inputs, *args, **kwargs)\n    File \"d:\\Documents\\Mec2a\\sentiment-analisys-with-MLP\\venv\\lib\\site-packages\\keras\\utils\\traceback_utils.py\", line 92, in error_handler\n      return fn(*args, **kwargs)\n    File \"d:\\Documents\\Mec2a\\sentiment-analisys-with-MLP\\venv\\lib\\site-packages\\keras\\layers\\core\\dense.py\", line 166, in call\n      inputs = tf.cast(inputs, dtype=self._compute_dtype_object)\nNode: 'sequential/dense/Cast'\nCast string to float is not supported\n\t [[{{node sequential/dense/Cast}}]] [Op:__inference_train_function_903]",
          "output_type": "error",
          "traceback": [
            "\u001b[1;31m---------------------------------------------------------------------------\u001b[0m",
            "\u001b[1;31mUnimplementedError\u001b[0m                        Traceback (most recent call last)",
            "\u001b[1;32md:\\Documents\\Mec2a\\sentiment-analisys-with-MLP\\MLP_Sentiment_Analysis_(PIBIC_2021).ipynb Cell 22'\u001b[0m in \u001b[0;36m<cell line: 1>\u001b[1;34m()\u001b[0m\n\u001b[1;32m----> <a href='vscode-notebook-cell:/d%3A/Documents/Mec2a/sentiment-analisys-with-MLP/MLP_Sentiment_Analysis_%28PIBIC_2021%29.ipynb#ch0000021?line=0'>1</a>\u001b[0m model\u001b[39m.\u001b[39;49mfit(dataset, epochs\u001b[39m=\u001b[39;49m\u001b[39m10\u001b[39;49m)\n",
            "File \u001b[1;32md:\\Documents\\Mec2a\\sentiment-analisys-with-MLP\\venv\\lib\\site-packages\\keras\\utils\\traceback_utils.py:67\u001b[0m, in \u001b[0;36mfilter_traceback.<locals>.error_handler\u001b[1;34m(*args, **kwargs)\u001b[0m\n\u001b[0;32m     <a href='file:///d%3A/Documents/Mec2a/sentiment-analisys-with-MLP/venv/lib/site-packages/keras/utils/traceback_utils.py?line=64'>65</a>\u001b[0m \u001b[39mexcept\u001b[39;00m \u001b[39mException\u001b[39;00m \u001b[39mas\u001b[39;00m e:  \u001b[39m# pylint: disable=broad-except\u001b[39;00m\n\u001b[0;32m     <a href='file:///d%3A/Documents/Mec2a/sentiment-analisys-with-MLP/venv/lib/site-packages/keras/utils/traceback_utils.py?line=65'>66</a>\u001b[0m   filtered_tb \u001b[39m=\u001b[39m _process_traceback_frames(e\u001b[39m.\u001b[39m__traceback__)\n\u001b[1;32m---> <a href='file:///d%3A/Documents/Mec2a/sentiment-analisys-with-MLP/venv/lib/site-packages/keras/utils/traceback_utils.py?line=66'>67</a>\u001b[0m   \u001b[39mraise\u001b[39;00m e\u001b[39m.\u001b[39mwith_traceback(filtered_tb) \u001b[39mfrom\u001b[39;00m \u001b[39mNone\u001b[39m\n\u001b[0;32m     <a href='file:///d%3A/Documents/Mec2a/sentiment-analisys-with-MLP/venv/lib/site-packages/keras/utils/traceback_utils.py?line=67'>68</a>\u001b[0m \u001b[39mfinally\u001b[39;00m:\n\u001b[0;32m     <a href='file:///d%3A/Documents/Mec2a/sentiment-analisys-with-MLP/venv/lib/site-packages/keras/utils/traceback_utils.py?line=68'>69</a>\u001b[0m   \u001b[39mdel\u001b[39;00m filtered_tb\n",
            "File \u001b[1;32md:\\Documents\\Mec2a\\sentiment-analisys-with-MLP\\venv\\lib\\site-packages\\tensorflow\\python\\eager\\execute.py:54\u001b[0m, in \u001b[0;36mquick_execute\u001b[1;34m(op_name, num_outputs, inputs, attrs, ctx, name)\u001b[0m\n\u001b[0;32m     <a href='file:///d%3A/Documents/Mec2a/sentiment-analisys-with-MLP/venv/lib/site-packages/tensorflow/python/eager/execute.py?line=51'>52</a>\u001b[0m \u001b[39mtry\u001b[39;00m:\n\u001b[0;32m     <a href='file:///d%3A/Documents/Mec2a/sentiment-analisys-with-MLP/venv/lib/site-packages/tensorflow/python/eager/execute.py?line=52'>53</a>\u001b[0m   ctx\u001b[39m.\u001b[39mensure_initialized()\n\u001b[1;32m---> <a href='file:///d%3A/Documents/Mec2a/sentiment-analisys-with-MLP/venv/lib/site-packages/tensorflow/python/eager/execute.py?line=53'>54</a>\u001b[0m   tensors \u001b[39m=\u001b[39m pywrap_tfe\u001b[39m.\u001b[39mTFE_Py_Execute(ctx\u001b[39m.\u001b[39m_handle, device_name, op_name,\n\u001b[0;32m     <a href='file:///d%3A/Documents/Mec2a/sentiment-analisys-with-MLP/venv/lib/site-packages/tensorflow/python/eager/execute.py?line=54'>55</a>\u001b[0m                                       inputs, attrs, num_outputs)\n\u001b[0;32m     <a href='file:///d%3A/Documents/Mec2a/sentiment-analisys-with-MLP/venv/lib/site-packages/tensorflow/python/eager/execute.py?line=55'>56</a>\u001b[0m \u001b[39mexcept\u001b[39;00m core\u001b[39m.\u001b[39m_NotOkStatusException \u001b[39mas\u001b[39;00m e:\n\u001b[0;32m     <a href='file:///d%3A/Documents/Mec2a/sentiment-analisys-with-MLP/venv/lib/site-packages/tensorflow/python/eager/execute.py?line=56'>57</a>\u001b[0m   \u001b[39mif\u001b[39;00m name \u001b[39mis\u001b[39;00m \u001b[39mnot\u001b[39;00m \u001b[39mNone\u001b[39;00m:\n",
            "\u001b[1;31mUnimplementedError\u001b[0m: Graph execution error:\n\nDetected at node 'sequential/dense/Cast' defined at (most recent call last):\n    File \"C:\\Program Files\\Python39\\lib\\runpy.py\", line 197, in _run_module_as_main\n      return _run_code(code, main_globals, None,\n    File \"C:\\Program Files\\Python39\\lib\\runpy.py\", line 87, in _run_code\n      exec(code, run_globals)\n    File \"d:\\Documents\\Mec2a\\sentiment-analisys-with-MLP\\venv\\lib\\site-packages\\ipykernel_launcher.py\", line 16, in <module>\n      app.launch_new_instance()\n    File \"d:\\Documents\\Mec2a\\sentiment-analisys-with-MLP\\venv\\lib\\site-packages\\traitlets\\config\\application.py\", line 846, in launch_instance\n      app.start()\n    File \"d:\\Documents\\Mec2a\\sentiment-analisys-with-MLP\\venv\\lib\\site-packages\\ipykernel\\kernelapp.py\", line 677, in start\n      self.io_loop.start()\n    File \"d:\\Documents\\Mec2a\\sentiment-analisys-with-MLP\\venv\\lib\\site-packages\\tornado\\platform\\asyncio.py\", line 199, in start\n      self.asyncio_loop.run_forever()\n    File \"C:\\Program Files\\Python39\\lib\\asyncio\\base_events.py\", line 596, in run_forever\n      self._run_once()\n    File \"C:\\Program Files\\Python39\\lib\\asyncio\\base_events.py\", line 1890, in _run_once\n      handle._run()\n    File \"C:\\Program Files\\Python39\\lib\\asyncio\\events.py\", line 80, in _run\n      self._context.run(self._callback, *self._args)\n    File \"d:\\Documents\\Mec2a\\sentiment-analisys-with-MLP\\venv\\lib\\site-packages\\ipykernel\\kernelbase.py\", line 473, in dispatch_queue\n      await self.process_one()\n    File \"d:\\Documents\\Mec2a\\sentiment-analisys-with-MLP\\venv\\lib\\site-packages\\ipykernel\\kernelbase.py\", line 462, in process_one\n      await dispatch(*args)\n    File \"d:\\Documents\\Mec2a\\sentiment-analisys-with-MLP\\venv\\lib\\site-packages\\ipykernel\\kernelbase.py\", line 369, in dispatch_shell\n      await result\n    File \"d:\\Documents\\Mec2a\\sentiment-analisys-with-MLP\\venv\\lib\\site-packages\\ipykernel\\kernelbase.py\", line 664, in execute_request\n      reply_content = await reply_content\n    File \"d:\\Documents\\Mec2a\\sentiment-analisys-with-MLP\\venv\\lib\\site-packages\\ipykernel\\ipkernel.py\", line 355, in do_execute\n      res = shell.run_cell(code, store_history=store_history, silent=silent)\n    File \"d:\\Documents\\Mec2a\\sentiment-analisys-with-MLP\\venv\\lib\\site-packages\\ipykernel\\zmqshell.py\", line 532, in run_cell\n      return super().run_cell(*args, **kwargs)\n    File \"d:\\Documents\\Mec2a\\sentiment-analisys-with-MLP\\venv\\lib\\site-packages\\IPython\\core\\interactiveshell.py\", line 2854, in run_cell\n      result = self._run_cell(\n    File \"d:\\Documents\\Mec2a\\sentiment-analisys-with-MLP\\venv\\lib\\site-packages\\IPython\\core\\interactiveshell.py\", line 2900, in _run_cell\n      return runner(coro)\n    File \"d:\\Documents\\Mec2a\\sentiment-analisys-with-MLP\\venv\\lib\\site-packages\\IPython\\core\\async_helpers.py\", line 129, in _pseudo_sync_runner\n      coro.send(None)\n    File \"d:\\Documents\\Mec2a\\sentiment-analisys-with-MLP\\venv\\lib\\site-packages\\IPython\\core\\interactiveshell.py\", line 3098, in run_cell_async\n      has_raised = await self.run_ast_nodes(code_ast.body, cell_name,\n    File \"d:\\Documents\\Mec2a\\sentiment-analisys-with-MLP\\venv\\lib\\site-packages\\IPython\\core\\interactiveshell.py\", line 3301, in run_ast_nodes\n      if await self.run_code(code, result, async_=asy):\n    File \"d:\\Documents\\Mec2a\\sentiment-analisys-with-MLP\\venv\\lib\\site-packages\\IPython\\core\\interactiveshell.py\", line 3361, in run_code\n      exec(code_obj, self.user_global_ns, self.user_ns)\n    File \"C:\\Users\\renua\\AppData\\Local\\Temp\\ipykernel_17272\\3033054226.py\", line 1, in <cell line: 1>\n      model.fit(dataset, epochs=10)\n    File \"d:\\Documents\\Mec2a\\sentiment-analisys-with-MLP\\venv\\lib\\site-packages\\keras\\utils\\traceback_utils.py\", line 64, in error_handler\n      return fn(*args, **kwargs)\n    File \"d:\\Documents\\Mec2a\\sentiment-analisys-with-MLP\\venv\\lib\\site-packages\\keras\\engine\\training.py\", line 1384, in fit\n      tmp_logs = self.train_function(iterator)\n    File \"d:\\Documents\\Mec2a\\sentiment-analisys-with-MLP\\venv\\lib\\site-packages\\keras\\engine\\training.py\", line 1021, in train_function\n      return step_function(self, iterator)\n    File \"d:\\Documents\\Mec2a\\sentiment-analisys-with-MLP\\venv\\lib\\site-packages\\keras\\engine\\training.py\", line 1010, in step_function\n      outputs = model.distribute_strategy.run(run_step, args=(data,))\n    File \"d:\\Documents\\Mec2a\\sentiment-analisys-with-MLP\\venv\\lib\\site-packages\\keras\\engine\\training.py\", line 1000, in run_step\n      outputs = model.train_step(data)\n    File \"d:\\Documents\\Mec2a\\sentiment-analisys-with-MLP\\venv\\lib\\site-packages\\keras\\engine\\training.py\", line 859, in train_step\n      y_pred = self(x, training=True)\n    File \"d:\\Documents\\Mec2a\\sentiment-analisys-with-MLP\\venv\\lib\\site-packages\\keras\\utils\\traceback_utils.py\", line 64, in error_handler\n      return fn(*args, **kwargs)\n    File \"d:\\Documents\\Mec2a\\sentiment-analisys-with-MLP\\venv\\lib\\site-packages\\keras\\engine\\base_layer.py\", line 1096, in __call__\n      outputs = call_fn(inputs, *args, **kwargs)\n    File \"d:\\Documents\\Mec2a\\sentiment-analisys-with-MLP\\venv\\lib\\site-packages\\keras\\utils\\traceback_utils.py\", line 92, in error_handler\n      return fn(*args, **kwargs)\n    File \"d:\\Documents\\Mec2a\\sentiment-analisys-with-MLP\\venv\\lib\\site-packages\\keras\\engine\\sequential.py\", line 374, in call\n      return super(Sequential, self).call(inputs, training=training, mask=mask)\n    File \"d:\\Documents\\Mec2a\\sentiment-analisys-with-MLP\\venv\\lib\\site-packages\\keras\\engine\\functional.py\", line 451, in call\n      return self._run_internal_graph(\n    File \"d:\\Documents\\Mec2a\\sentiment-analisys-with-MLP\\venv\\lib\\site-packages\\keras\\engine\\functional.py\", line 589, in _run_internal_graph\n      outputs = node.layer(*args, **kwargs)\n    File \"d:\\Documents\\Mec2a\\sentiment-analisys-with-MLP\\venv\\lib\\site-packages\\keras\\utils\\traceback_utils.py\", line 64, in error_handler\n      return fn(*args, **kwargs)\n    File \"d:\\Documents\\Mec2a\\sentiment-analisys-with-MLP\\venv\\lib\\site-packages\\keras\\engine\\base_layer.py\", line 1096, in __call__\n      outputs = call_fn(inputs, *args, **kwargs)\n    File \"d:\\Documents\\Mec2a\\sentiment-analisys-with-MLP\\venv\\lib\\site-packages\\keras\\utils\\traceback_utils.py\", line 92, in error_handler\n      return fn(*args, **kwargs)\n    File \"d:\\Documents\\Mec2a\\sentiment-analisys-with-MLP\\venv\\lib\\site-packages\\keras\\layers\\core\\dense.py\", line 166, in call\n      inputs = tf.cast(inputs, dtype=self._compute_dtype_object)\nNode: 'sequential/dense/Cast'\nCast string to float is not supported\n\t [[{{node sequential/dense/Cast}}]] [Op:__inference_train_function_903]"
          ]
        }
      ],
      "source": [
        "model.fit(dataset, epochs=10)"
      ]
    }
  ],
  "metadata": {
    "accelerator": "GPU",
    "colab": {
      "collapsed_sections": [],
      "name": "MLP Sentiment Analysis (PIBIC 2021).ipynb",
      "provenance": []
    },
    "kernelspec": {
      "display_name": "Python 3",
      "name": "python3"
    },
    "language_info": {
      "codemirror_mode": {
        "name": "ipython",
        "version": 3
      },
      "file_extension": ".py",
      "mimetype": "text/x-python",
      "name": "python",
      "nbconvert_exporter": "python",
      "pygments_lexer": "ipython3",
      "version": "3.9.5"
    }
  },
  "nbformat": 4,
  "nbformat_minor": 0
}
