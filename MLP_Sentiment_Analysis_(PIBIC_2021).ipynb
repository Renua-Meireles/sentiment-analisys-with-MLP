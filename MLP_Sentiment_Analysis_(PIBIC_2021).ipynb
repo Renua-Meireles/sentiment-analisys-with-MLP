{
 "cells": [
  {
   "cell_type": "markdown",
   "metadata": {},
   "source": [
    "# Sentiment Analysis with NLP"
   ]
  },
  {
   "cell_type": "markdown",
   "metadata": {},
   "source": [
    "[![Colab](https://colab.research.google.com/assets/colab-badge.svg)](https://colab.research.google.com/github/Renua-Meireles/sentiment-analisys-with-MLP/blob/main/MLP_Sentiment_Analysis_(PIBIC_2021).ipynb)"
   ]
  },
  {
   "cell_type": "markdown",
   "metadata": {
    "id": "z96LYP4785h6"
   },
   "source": [
    "## Loading Libraries"
   ]
  },
  {
   "cell_type": "code",
   "execution_count": 44,
   "metadata": {
    "id": "HBZfqci68wYo"
   },
   "outputs": [],
   "source": [
    "import numpy as np\n",
    "import pandas as pd\n",
    "import matplotlib.pyplot as plt\n",
    "import seaborn as sns\n",
    "import tensorflow as tf\n",
    "from tensorflow.keras import layers\n",
    "import os"
   ]
  },
  {
   "cell_type": "code",
   "execution_count": 45,
   "metadata": {
    "colab": {
     "base_uri": "https://localhost:8080/"
    },
    "id": "vzZbkhDt-nL3",
    "outputId": "7caa0035-aa77-49b4-e61f-600dc94aaac7"
   },
   "outputs": [
    {
     "data": {
      "text/plain": [
       "['movie.csv']"
      ]
     },
     "execution_count": 45,
     "metadata": {},
     "output_type": "execute_result"
    }
   ],
   "source": [
    "BASE_PATH = './data/'\n",
    "datasetpath = f'{BASE_PATH}/movie.csv'\n",
    "os.listdir(BASE_PATH)"
   ]
  },
  {
   "cell_type": "markdown",
   "metadata": {},
   "source": [
    "## Loading Dataset"
   ]
  },
  {
   "cell_type": "code",
   "execution_count": 46,
   "metadata": {
    "colab": {
     "base_uri": "https://localhost:8080/",
     "height": 206
    },
    "id": "_wYH9uOq_ABT",
    "outputId": "163c37e6-8311-4b2f-fc88-0aaf1090abee"
   },
   "outputs": [
    {
     "data": {
      "text/html": [
       "<div>\n",
       "<style scoped>\n",
       "    .dataframe tbody tr th:only-of-type {\n",
       "        vertical-align: middle;\n",
       "    }\n",
       "\n",
       "    .dataframe tbody tr th {\n",
       "        vertical-align: top;\n",
       "    }\n",
       "\n",
       "    .dataframe thead th {\n",
       "        text-align: right;\n",
       "    }\n",
       "</style>\n",
       "<table border=\"1\" class=\"dataframe\">\n",
       "  <thead>\n",
       "    <tr style=\"text-align: right;\">\n",
       "      <th></th>\n",
       "      <th>text</th>\n",
       "      <th>label</th>\n",
       "    </tr>\n",
       "  </thead>\n",
       "  <tbody>\n",
       "    <tr>\n",
       "      <th>0</th>\n",
       "      <td>I grew up (b. 1965) watching and loving the Th...</td>\n",
       "      <td>0</td>\n",
       "    </tr>\n",
       "    <tr>\n",
       "      <th>1</th>\n",
       "      <td>When I put this movie in my DVD player, and sa...</td>\n",
       "      <td>0</td>\n",
       "    </tr>\n",
       "    <tr>\n",
       "      <th>2</th>\n",
       "      <td>Why do people who do not know what a particula...</td>\n",
       "      <td>0</td>\n",
       "    </tr>\n",
       "    <tr>\n",
       "      <th>3</th>\n",
       "      <td>Even though I have great interest in Biblical ...</td>\n",
       "      <td>0</td>\n",
       "    </tr>\n",
       "    <tr>\n",
       "      <th>4</th>\n",
       "      <td>Im a die hard Dads Army fan and nothing will e...</td>\n",
       "      <td>1</td>\n",
       "    </tr>\n",
       "  </tbody>\n",
       "</table>\n",
       "</div>"
      ],
      "text/plain": [
       "                                                text  label\n",
       "0  I grew up (b. 1965) watching and loving the Th...      0\n",
       "1  When I put this movie in my DVD player, and sa...      0\n",
       "2  Why do people who do not know what a particula...      0\n",
       "3  Even though I have great interest in Biblical ...      0\n",
       "4  Im a die hard Dads Army fan and nothing will e...      1"
      ]
     },
     "execution_count": 46,
     "metadata": {},
     "output_type": "execute_result"
    }
   ],
   "source": [
    "df = pd.read_csv(datasetpath, encoding='utf-8')\n",
    "df.head()"
   ]
  },
  {
   "cell_type": "code",
   "execution_count": 47,
   "metadata": {},
   "outputs": [
    {
     "data": {
      "text/plain": [
       "'I grew up (b. 1965) watching and loving the Thunderbirds. All my mates at school watched. We played \"Thunderbirds\" before school, during lunch and after school. We all wanted to be Virgil or Scott. No one wanted to be Alan. Counting down from 5 became an art form. I took my children to see the movie hoping they would get a glimpse of what I loved as a child. How bitterly disappointing. The only high point was the snappy theme tune. Not that it could compare with the original score of the Thunderbirds. Thankfully early Saturday mornings one television channel still plays reruns of the series Gerry Anderson and his wife created. Jonatha Frakes should hand in his directors chair, his version was completely hopeless. A waste of film. Utter rubbish. A CGI remake may be acceptable but replacing marionettes with Homo sapiens subsp. sapiens was a huge error of judgment.'"
      ]
     },
     "execution_count": 47,
     "metadata": {},
     "output_type": "execute_result"
    }
   ],
   "source": [
    "df.loc[0, 'text']"
   ]
  },
  {
   "cell_type": "code",
   "execution_count": 48,
   "metadata": {
    "colab": {
     "base_uri": "https://localhost:8080/",
     "height": 300
    },
    "id": "z1JDMdMZAFn0",
    "outputId": "f90aa623-352a-4a04-b756-407b09f659d4"
   },
   "outputs": [
    {
     "data": {
      "text/html": [
       "<div>\n",
       "<style scoped>\n",
       "    .dataframe tbody tr th:only-of-type {\n",
       "        vertical-align: middle;\n",
       "    }\n",
       "\n",
       "    .dataframe tbody tr th {\n",
       "        vertical-align: top;\n",
       "    }\n",
       "\n",
       "    .dataframe thead th {\n",
       "        text-align: right;\n",
       "    }\n",
       "</style>\n",
       "<table border=\"1\" class=\"dataframe\">\n",
       "  <thead>\n",
       "    <tr style=\"text-align: right;\">\n",
       "      <th></th>\n",
       "      <th>label</th>\n",
       "    </tr>\n",
       "  </thead>\n",
       "  <tbody>\n",
       "    <tr>\n",
       "      <th>count</th>\n",
       "      <td>40000.000000</td>\n",
       "    </tr>\n",
       "    <tr>\n",
       "      <th>mean</th>\n",
       "      <td>0.499525</td>\n",
       "    </tr>\n",
       "    <tr>\n",
       "      <th>std</th>\n",
       "      <td>0.500006</td>\n",
       "    </tr>\n",
       "    <tr>\n",
       "      <th>min</th>\n",
       "      <td>0.000000</td>\n",
       "    </tr>\n",
       "    <tr>\n",
       "      <th>25%</th>\n",
       "      <td>0.000000</td>\n",
       "    </tr>\n",
       "    <tr>\n",
       "      <th>50%</th>\n",
       "      <td>0.000000</td>\n",
       "    </tr>\n",
       "    <tr>\n",
       "      <th>75%</th>\n",
       "      <td>1.000000</td>\n",
       "    </tr>\n",
       "    <tr>\n",
       "      <th>max</th>\n",
       "      <td>1.000000</td>\n",
       "    </tr>\n",
       "  </tbody>\n",
       "</table>\n",
       "</div>"
      ],
      "text/plain": [
       "              label\n",
       "count  40000.000000\n",
       "mean       0.499525\n",
       "std        0.500006\n",
       "min        0.000000\n",
       "25%        0.000000\n",
       "50%        0.000000\n",
       "75%        1.000000\n",
       "max        1.000000"
      ]
     },
     "execution_count": 48,
     "metadata": {},
     "output_type": "execute_result"
    }
   ],
   "source": [
    "df.describe()"
   ]
  },
  {
   "cell_type": "code",
   "execution_count": 49,
   "metadata": {
    "colab": {
     "base_uri": "https://localhost:8080/"
    },
    "id": "HHM7YTT5AL45",
    "outputId": "60f04226-98ab-40cf-d098-34a4a7042f21"
   },
   "outputs": [
    {
     "name": "stdout",
     "output_type": "stream",
     "text": [
      "<class 'pandas.core.frame.DataFrame'>\n",
      "RangeIndex: 40000 entries, 0 to 39999\n",
      "Data columns (total 2 columns):\n",
      " #   Column  Non-Null Count  Dtype \n",
      "---  ------  --------------  ----- \n",
      " 0   text    40000 non-null  object\n",
      " 1   label   40000 non-null  int64 \n",
      "dtypes: int64(1), object(1)\n",
      "memory usage: 625.1+ KB\n"
     ]
    }
   ],
   "source": [
    "df.info()"
   ]
  },
  {
   "cell_type": "code",
   "execution_count": 50,
   "metadata": {
    "colab": {
     "base_uri": "https://localhost:8080/",
     "height": 424
    },
    "id": "7oaM5NazAUt4",
    "outputId": "9a9e898b-f10e-46fb-a322-06db3160d1f3"
   },
   "outputs": [
    {
     "data": {
      "text/plain": [
       "text     0\n",
       "label    0\n",
       "dtype: int64"
      ]
     },
     "execution_count": 50,
     "metadata": {},
     "output_type": "execute_result"
    }
   ],
   "source": [
    "df.isnull().sum()"
   ]
  },
  {
   "cell_type": "code",
   "execution_count": 51,
   "metadata": {
    "colab": {
     "base_uri": "https://localhost:8080/"
    },
    "id": "RCUmgienJztZ",
    "outputId": "114c16d6-1139-4d7b-ff65-e0bd0b3e4e2d"
   },
   "outputs": [
    {
     "data": {
      "text/plain": [
       "Index(['text', 'label'], dtype='object')"
      ]
     },
     "execution_count": 51,
     "metadata": {},
     "output_type": "execute_result"
    }
   ],
   "source": [
    "df.columns"
   ]
  },
  {
   "cell_type": "code",
   "execution_count": 52,
   "metadata": {},
   "outputs": [
    {
     "name": "stdout",
     "output_type": "stream",
     "text": [
      "Min: 4\n",
      "Max: 2470\n",
      "Mean: 231.328975\n",
      "Standard Deviation: 171.1783333281242\n"
     ]
    },
    {
     "data": {
      "text/plain": [
       "<AxesSubplot:>"
      ]
     },
     "execution_count": 52,
     "metadata": {},
     "output_type": "execute_result"
    },
    {
     "data": {
      "image/png": "[encoded data removed]",
      "text/plain": [
       "<Figure size 432x288 with 1 Axes>"
      ]
     },
     "metadata": {
      "needs_background": "light"
     },
     "output_type": "display_data"
    }
   ],
   "source": [
    "df['word_count'] = df['text'].apply(lambda x: len(x.split(' ')))\n",
    "\n",
    "# print word count statistics\n",
    "print('Min:', df['word_count'].min())\n",
    "print('Max:', df['word_count'].max())\n",
    "print('Mean:', df['word_count'].mean())\n",
    "print('Standard Deviation:', df['word_count'].std())\n",
    "\n",
    "#show the distribution of word count\n",
    "df['word_count'].hist(bins=200)"
   ]
  },
  {
   "cell_type": "code",
   "execution_count": 53,
   "metadata": {
    "id": "Dl8fhcOjAb7M"
   },
   "outputs": [],
   "source": [
    "import nltk\n",
    "from nltk import word_tokenize\n",
    "from nltk.corpus import stopwords\n",
    "from sklearn.model_selection import train_test_split\n",
    "from sklearn.feature_extraction.text import TfidfVectorizer, CountVectorizer"
   ]
  },
  {
   "cell_type": "code",
   "execution_count": 54,
   "metadata": {
    "colab": {
     "base_uri": "https://localhost:8080/"
    },
    "id": "HcIe-TGYBPL4",
    "outputId": "f78de96d-ccf9-4539-abd4-f733c90f0190"
   },
   "outputs": [],
   "source": [
    "nltk.download('stopwords', quiet=True)\n",
    "stop_words = stopwords.words('english')"
   ]
  },
  {
   "cell_type": "code",
   "execution_count": 55,
   "metadata": {
    "id": "oXdw8K6hBb95"
   },
   "outputs": [],
   "source": [
    "train_x, test_x, y_train, y_test = train_test_split(df.text, df.label, test_size=0.25,random_state=123)"
   ]
  },
  {
   "cell_type": "markdown",
   "metadata": {},
   "source": [
    "### Tokenzation (method 1)"
   ]
  },
  {
   "cell_type": "code",
   "execution_count": 56,
   "metadata": {},
   "outputs": [],
   "source": [
    "from tensorflow.keras.preprocessing.text import Tokenizer\n",
    "from tensorflow.keras.preprocessing.sequence import pad_sequences\n",
    "tokenizer = Tokenizer(oov_token=\"<OOV>\") # any unknown words will be replaced by oov_token"
   ]
  },
  {
   "cell_type": "code",
   "execution_count": 57,
   "metadata": {},
   "outputs": [],
   "source": [
    "vocab_size = 40000 # unique words to train the network\n",
    "max_length = int(df['word_count'].mean()) # the length of each review. If originally the comment is longer than \"max_length\" words, it will be truncated\n",
    "trunc_type = 'post' # the review will be truncated at the end when a review is bigger than \"max_length\" or padded when a review is smaller than \"max_length\"\n",
    "padding_type = 'post' # padding will be applied at the end, not in the beginning\n",
    "oov_tok = '<OOV>' # any unknown words will be replaced by oov_token"
   ]
  },
  {
   "cell_type": "code",
   "execution_count": 58,
   "metadata": {},
   "outputs": [],
   "source": [
    "tokenizer = Tokenizer(num_words=vocab_size, oov_token=oov_tok)\n",
    "tokenizer.fit_on_texts(train_x)\n",
    "word_index = tokenizer.word_index"
   ]
  },
  {
   "cell_type": "code",
   "execution_count": 59,
   "metadata": {},
   "outputs": [
    {
     "data": {
      "text/plain": [
       "{'<OOV>': 1,\n",
       " 'the': 2,\n",
       " 'and': 3,\n",
       " 'a': 4,\n",
       " 'of': 5,\n",
       " 'to': 6,\n",
       " 'is': 7,\n",
       " 'br': 8,\n",
       " 'in': 9,\n",
       " 'it': 10,\n",
       " 'i': 11,\n",
       " 'this': 12,\n",
       " 'that': 13,\n",
       " 'was': 14,\n",
       " 'as': 15,\n",
       " 'for': 16,\n",
       " 'with': 17,\n",
       " 'movie': 18,\n",
       " 'but': 19,\n",
       " 'film': 20,\n",
       " 'on': 21,\n",
       " 'you': 22,\n",
       " 'not': 23,\n",
       " 'are': 24,\n",
       " 'his': 25,\n",
       " 'have': 26,\n",
       " 'be': 27,\n",
       " 'one': 28,\n",
       " 'he': 29,\n",
       " 'all': 30,\n",
       " 'at': 31,\n",
       " 'by': 32,\n",
       " 'an': 33,\n",
       " 'they': 34,\n",
       " 'from': 35,\n",
       " 'so': 36,\n",
       " 'who': 37,\n",
       " 'like': 38,\n",
       " 'or': 39,\n",
       " 'just': 40,\n",
       " 'her': 41,\n",
       " 'about': 42,\n",
       " 'out': 43,\n",
       " 'if': 44,\n",
       " \"it's\": 45,\n",
       " 'has': 46,\n",
       " 'there': 47,\n",
       " 'some': 48,\n",
       " 'what': 49,\n",
       " 'good': 50,\n",
       " 'more': 51,\n",
       " 'when': 52,\n",
       " 'very': 53,\n",
       " 'up': 54,\n",
       " 'no': 55,\n",
       " 'time': 56,\n",
       " 'even': 57,\n",
       " 'my': 58,\n",
       " 'would': 59,\n",
       " 'she': 60,\n",
       " 'which': 61,\n",
       " 'only': 62,\n",
       " 'really': 63,\n",
       " 'see': 64,\n",
       " 'story': 65,\n",
       " 'their': 66,\n",
       " 'can': 67,\n",
       " 'had': 68,\n",
       " 'me': 69,\n",
       " 'well': 70,\n",
       " 'were': 71,\n",
       " 'than': 72,\n",
       " 'much': 73,\n",
       " 'we': 74,\n",
       " 'bad': 75,\n",
       " 'get': 76,\n",
       " 'been': 77,\n",
       " 'will': 78,\n",
       " 'do': 79,\n",
       " 'great': 80,\n",
       " 'other': 81,\n",
       " 'into': 82,\n",
       " 'also': 83,\n",
       " 'because': 84,\n",
       " 'people': 85,\n",
       " 'him': 86,\n",
       " 'how': 87,\n",
       " 'first': 88,\n",
       " 'most': 89,\n",
       " \"don't\": 90,\n",
       " 'then': 91,\n",
       " 'make': 92,\n",
       " 'them': 93,\n",
       " 'its': 94,\n",
       " 'made': 95,\n",
       " 'way': 96,\n",
       " 'too': 97,\n",
       " 'movies': 98,\n",
       " 'any': 99,\n",
       " 'could': 100,\n",
       " 'after': 101,\n",
       " 'think': 102,\n",
       " 'characters': 103,\n",
       " 'watch': 104,\n",
       " 'films': 105,\n",
       " 'two': 106,\n",
       " 'seen': 107,\n",
       " 'character': 108,\n",
       " 'many': 109,\n",
       " 'being': 110,\n",
       " 'plot': 111,\n",
       " 'love': 112,\n",
       " 'did': 113,\n",
       " 'life': 114,\n",
       " 'never': 115,\n",
       " 'acting': 116,\n",
       " 'where': 117,\n",
       " 'know': 118,\n",
       " 'little': 119,\n",
       " 'best': 120,\n",
       " 'show': 121,\n",
       " 'over': 122,\n",
       " 'off': 123,\n",
       " 'ever': 124,\n",
       " 'does': 125,\n",
       " 'your': 126,\n",
       " 'better': 127,\n",
       " 'man': 128,\n",
       " 'end': 129,\n",
       " 'still': 130,\n",
       " 'scene': 131,\n",
       " 'these': 132,\n",
       " 'say': 133,\n",
       " 'here': 134,\n",
       " 'why': 135,\n",
       " 'scenes': 136,\n",
       " 'while': 137,\n",
       " 'something': 138,\n",
       " 'go': 139,\n",
       " 'such': 140,\n",
       " 'back': 141,\n",
       " 'through': 142,\n",
       " 'should': 143,\n",
       " 'those': 144,\n",
       " 'real': 145,\n",
       " \"i'm\": 146,\n",
       " 'now': 147,\n",
       " 'thing': 148,\n",
       " 'watching': 149,\n",
       " \"doesn't\": 150,\n",
       " \"didn't\": 151,\n",
       " 'actors': 152,\n",
       " 'years': 153,\n",
       " '10': 154,\n",
       " 'though': 155,\n",
       " 'actually': 156,\n",
       " 'funny': 157,\n",
       " 'another': 158,\n",
       " 'work': 159,\n",
       " 'before': 160,\n",
       " 'old': 161,\n",
       " 'makes': 162,\n",
       " 'nothing': 163,\n",
       " 'look': 164,\n",
       " 'director': 165,\n",
       " 'going': 166,\n",
       " 'new': 167,\n",
       " 'lot': 168,\n",
       " 'same': 169,\n",
       " 'find': 170,\n",
       " 'part': 171,\n",
       " 'every': 172,\n",
       " 'few': 173,\n",
       " 'again': 174,\n",
       " 'down': 175,\n",
       " 'cast': 176,\n",
       " 'things': 177,\n",
       " 'horror': 178,\n",
       " 'around': 179,\n",
       " 'us': 180,\n",
       " 'pretty': 181,\n",
       " 'quite': 182,\n",
       " 'want': 183,\n",
       " 'world': 184,\n",
       " 'seems': 185,\n",
       " 'take': 186,\n",
       " 'thought': 187,\n",
       " \"can't\": 188,\n",
       " 'fact': 189,\n",
       " 'young': 190,\n",
       " 'enough': 191,\n",
       " 'big': 192,\n",
       " 'however': 193,\n",
       " 'got': 194,\n",
       " 'both': 195,\n",
       " \"that's\": 196,\n",
       " 'long': 197,\n",
       " 'give': 198,\n",
       " \"i've\": 199,\n",
       " 'right': 200,\n",
       " 'series': 201,\n",
       " 'may': 202,\n",
       " 'action': 203,\n",
       " 'between': 204,\n",
       " 'music': 205,\n",
       " 'always': 206,\n",
       " 'without': 207,\n",
       " 'own': 208,\n",
       " 'comedy': 209,\n",
       " 'must': 210,\n",
       " 'gets': 211,\n",
       " 'times': 212,\n",
       " 'saw': 213,\n",
       " 'come': 214,\n",
       " \"isn't\": 215,\n",
       " 'role': 216,\n",
       " 'done': 217,\n",
       " 'original': 218,\n",
       " 'guy': 219,\n",
       " 'almost': 220,\n",
       " 'interesting': 221,\n",
       " \"there's\": 222,\n",
       " 'whole': 223,\n",
       " 'point': 224,\n",
       " 'least': 225,\n",
       " 'script': 226,\n",
       " 'bit': 227,\n",
       " 'feel': 228,\n",
       " 'minutes': 229,\n",
       " '2': 230,\n",
       " 'far': 231,\n",
       " \"he's\": 232,\n",
       " 'am': 233,\n",
       " 'last': 234,\n",
       " 'since': 235,\n",
       " 'making': 236,\n",
       " 'anything': 237,\n",
       " 'might': 238,\n",
       " 'family': 239,\n",
       " 'tv': 240,\n",
       " 'probably': 241,\n",
       " 'performance': 242,\n",
       " 'kind': 243,\n",
       " 'yet': 244,\n",
       " 'away': 245,\n",
       " 'fun': 246,\n",
       " 'worst': 247,\n",
       " 'rather': 248,\n",
       " 'hard': 249,\n",
       " 'each': 250,\n",
       " 'anyone': 251,\n",
       " 'sure': 252,\n",
       " 'played': 253,\n",
       " 'girl': 254,\n",
       " 'day': 255,\n",
       " 'found': 256,\n",
       " 'woman': 257,\n",
       " 'our': 258,\n",
       " 'especially': 259,\n",
       " 'screen': 260,\n",
       " 'looking': 261,\n",
       " 'believe': 262,\n",
       " 'although': 263,\n",
       " 'having': 264,\n",
       " 'course': 265,\n",
       " 'trying': 266,\n",
       " 'everything': 267,\n",
       " 'put': 268,\n",
       " 'dvd': 269,\n",
       " 'ending': 270,\n",
       " 'maybe': 271,\n",
       " 'book': 272,\n",
       " 'goes': 273,\n",
       " 'set': 274,\n",
       " 'comes': 275,\n",
       " 'once': 276,\n",
       " 'worth': 277,\n",
       " 'different': 278,\n",
       " 'shows': 279,\n",
       " 'three': 280,\n",
       " 'american': 281,\n",
       " 'sense': 282,\n",
       " 'place': 283,\n",
       " 'true': 284,\n",
       " 'main': 285,\n",
       " 'reason': 286,\n",
       " 'play': 287,\n",
       " 'actor': 288,\n",
       " 'looks': 289,\n",
       " 'job': 290,\n",
       " 'watched': 291,\n",
       " 'money': 292,\n",
       " \"wasn't\": 293,\n",
       " 'effects': 294,\n",
       " 'high': 295,\n",
       " 'someone': 296,\n",
       " 'during': 297,\n",
       " 'together': 298,\n",
       " 'war': 299,\n",
       " 'plays': 300,\n",
       " 'said': 301,\n",
       " 'year': 302,\n",
       " 'half': 303,\n",
       " '1': 304,\n",
       " 'instead': 305,\n",
       " 'left': 306,\n",
       " 'black': 307,\n",
       " 'beautiful': 308,\n",
       " 'audience': 309,\n",
       " 'later': 310,\n",
       " 'everyone': 311,\n",
       " 'seem': 312,\n",
       " 'seeing': 313,\n",
       " 'himself': 314,\n",
       " 'special': 315,\n",
       " 'shot': 316,\n",
       " 'takes': 317,\n",
       " 'night': 318,\n",
       " 'john': 319,\n",
       " 'excellent': 320,\n",
       " 'version': 321,\n",
       " 'idea': 322,\n",
       " 'house': 323,\n",
       " 'star': 324,\n",
       " 'budget': 325,\n",
       " 'fan': 326,\n",
       " 'mind': 327,\n",
       " 'wife': 328,\n",
       " 'completely': 329,\n",
       " 'used': 330,\n",
       " \"you're\": 331,\n",
       " 'poor': 332,\n",
       " 'read': 333,\n",
       " 'nice': 334,\n",
       " 'else': 335,\n",
       " 'death': 336,\n",
       " 'short': 337,\n",
       " 'simply': 338,\n",
       " 'along': 339,\n",
       " 'second': 340,\n",
       " 'top': 341,\n",
       " 'less': 342,\n",
       " 'men': 343,\n",
       " 'help': 344,\n",
       " 'try': 345,\n",
       " 'either': 346,\n",
       " '3': 347,\n",
       " 'home': 348,\n",
       " 'boring': 349,\n",
       " 'line': 350,\n",
       " 'low': 351,\n",
       " 'friends': 352,\n",
       " 'dead': 353,\n",
       " 'full': 354,\n",
       " 'kids': 355,\n",
       " 'enjoy': 356,\n",
       " 'school': 357,\n",
       " 'camera': 358,\n",
       " 'stupid': 359,\n",
       " 'classic': 360,\n",
       " 'production': 361,\n",
       " 'wrong': 362,\n",
       " 'given': 363,\n",
       " 'hollywood': 364,\n",
       " 'father': 365,\n",
       " 'performances': 366,\n",
       " 'truly': 367,\n",
       " 'couple': 368,\n",
       " 'rest': 369,\n",
       " 'use': 370,\n",
       " 'awful': 371,\n",
       " 'need': 372,\n",
       " 'next': 373,\n",
       " 'until': 374,\n",
       " 'start': 375,\n",
       " 'sex': 376,\n",
       " 'women': 377,\n",
       " 'recommend': 378,\n",
       " 'tell': 379,\n",
       " 'video': 380,\n",
       " 'getting': 381,\n",
       " 'remember': 382,\n",
       " 'perhaps': 383,\n",
       " 'mean': 384,\n",
       " 'small': 385,\n",
       " 'understand': 386,\n",
       " 'came': 387,\n",
       " 'moments': 388,\n",
       " 'itself': 389,\n",
       " 'let': 390,\n",
       " 'keep': 391,\n",
       " 'face': 392,\n",
       " 'terrible': 393,\n",
       " 'name': 394,\n",
       " 'style': 395,\n",
       " 'definitely': 396,\n",
       " 'perfect': 397,\n",
       " 'playing': 398,\n",
       " 'early': 399,\n",
       " 'human': 400,\n",
       " 'wonderful': 401,\n",
       " 'episode': 402,\n",
       " 'others': 403,\n",
       " 'stars': 404,\n",
       " 'person': 405,\n",
       " 'head': 406,\n",
       " 'written': 407,\n",
       " 'piece': 408,\n",
       " 'live': 409,\n",
       " 'often': 410,\n",
       " \"couldn't\": 411,\n",
       " 'doing': 412,\n",
       " 'lines': 413,\n",
       " 'dialogue': 414,\n",
       " 'went': 415,\n",
       " 'boy': 416,\n",
       " 'gives': 417,\n",
       " 'lost': 418,\n",
       " 'certainly': 419,\n",
       " 'laugh': 420,\n",
       " 'yes': 421,\n",
       " 'title': 422,\n",
       " 'mother': 423,\n",
       " 'case': 424,\n",
       " 'entertaining': 425,\n",
       " 'loved': 426,\n",
       " 'finally': 427,\n",
       " 'become': 428,\n",
       " 'sort': 429,\n",
       " 'felt': 430,\n",
       " 'absolutely': 431,\n",
       " 'oh': 432,\n",
       " 'picture': 433,\n",
       " 'entire': 434,\n",
       " 'worse': 435,\n",
       " 'overall': 436,\n",
       " 'hope': 437,\n",
       " 'mr': 438,\n",
       " 'drama': 439,\n",
       " 'liked': 440,\n",
       " 'beginning': 441,\n",
       " 'cinema': 442,\n",
       " 'based': 443,\n",
       " '5': 444,\n",
       " 'supposed': 445,\n",
       " 'problem': 446,\n",
       " 'friend': 447,\n",
       " 'wanted': 448,\n",
       " 'called': 449,\n",
       " 'sound': 450,\n",
       " 'guys': 451,\n",
       " 'dark': 452,\n",
       " 'care': 453,\n",
       " 'humor': 454,\n",
       " 'white': 455,\n",
       " 'fans': 456,\n",
       " 'lives': 457,\n",
       " 'seemed': 458,\n",
       " 'waste': 459,\n",
       " 'several': 460,\n",
       " 'lead': 461,\n",
       " 'children': 462,\n",
       " 'already': 463,\n",
       " 'totally': 464,\n",
       " 'despite': 465,\n",
       " \"you'll\": 466,\n",
       " 'evil': 467,\n",
       " '4': 468,\n",
       " 'throughout': 469,\n",
       " 'guess': 470,\n",
       " 'unfortunately': 471,\n",
       " \"she's\": 472,\n",
       " 'final': 473,\n",
       " 'quality': 474,\n",
       " 'direction': 475,\n",
       " 'under': 476,\n",
       " 'example': 477,\n",
       " 'becomes': 478,\n",
       " 'able': 479,\n",
       " 'against': 480,\n",
       " 'turn': 481,\n",
       " 'heart': 482,\n",
       " \"i'd\": 483,\n",
       " 'game': 484,\n",
       " 'wants': 485,\n",
       " 'side': 486,\n",
       " 'flick': 487,\n",
       " 'son': 488,\n",
       " \"they're\": 489,\n",
       " 'michael': 490,\n",
       " 'days': 491,\n",
       " 'amazing': 492,\n",
       " 'writing': 493,\n",
       " 'fine': 494,\n",
       " 'b': 495,\n",
       " 'close': 496,\n",
       " 'matter': 497,\n",
       " 'kill': 498,\n",
       " 'run': 499,\n",
       " 'etc': 500,\n",
       " 'late': 501,\n",
       " 'tries': 502,\n",
       " 'history': 503,\n",
       " 'works': 504,\n",
       " 'brilliant': 505,\n",
       " 'town': 506,\n",
       " 'horrible': 507,\n",
       " 'art': 508,\n",
       " 'directed': 509,\n",
       " 'killer': 510,\n",
       " 'behind': 511,\n",
       " 'act': 512,\n",
       " \"won't\": 513,\n",
       " 'turns': 514,\n",
       " 'past': 515,\n",
       " 'myself': 516,\n",
       " 'enjoyed': 517,\n",
       " 'highly': 518,\n",
       " 'favorite': 519,\n",
       " 'parts': 520,\n",
       " 'expect': 521,\n",
       " 'eyes': 522,\n",
       " 'gave': 523,\n",
       " 'soon': 524,\n",
       " 'obviously': 525,\n",
       " 'genre': 526,\n",
       " 'child': 527,\n",
       " 'stuff': 528,\n",
       " 'car': 529,\n",
       " 'hand': 530,\n",
       " 'sometimes': 531,\n",
       " 'god': 532,\n",
       " 'killed': 533,\n",
       " 'themselves': 534,\n",
       " 'stop': 535,\n",
       " 'hour': 536,\n",
       " '\\x96': 537,\n",
       " 'thinking': 538,\n",
       " 'starts': 539,\n",
       " 'viewer': 540,\n",
       " 'actress': 541,\n",
       " 'happens': 542,\n",
       " 'girls': 543,\n",
       " 'decent': 544,\n",
       " 'city': 545,\n",
       " 'type': 546,\n",
       " 'kid': 547,\n",
       " 'voice': 548,\n",
       " 'took': 549,\n",
       " 'known': 550,\n",
       " 'heard': 551,\n",
       " 'fight': 552,\n",
       " 'blood': 553,\n",
       " 'slow': 554,\n",
       " 'self': 555,\n",
       " 'group': 556,\n",
       " 'except': 557,\n",
       " 'anyway': 558,\n",
       " 'daughter': 559,\n",
       " 'says': 560,\n",
       " 'stories': 561,\n",
       " 'coming': 562,\n",
       " 'writer': 563,\n",
       " 'involved': 564,\n",
       " 'experience': 565,\n",
       " 'police': 566,\n",
       " 'lack': 567,\n",
       " 'feeling': 568,\n",
       " 'violence': 569,\n",
       " 'simple': 570,\n",
       " 'moment': 571,\n",
       " 'leave': 572,\n",
       " 'living': 573,\n",
       " 'told': 574,\n",
       " 'complete': 575,\n",
       " 'roles': 576,\n",
       " 'wonder': 577,\n",
       " \"wouldn't\": 578,\n",
       " 'score': 579,\n",
       " 'looked': 580,\n",
       " 'hit': 581,\n",
       " 'cannot': 582,\n",
       " 'please': 583,\n",
       " 'serious': 584,\n",
       " 'chance': 585,\n",
       " 'hilarious': 586,\n",
       " 'shown': 587,\n",
       " 'hell': 588,\n",
       " 'cool': 589,\n",
       " 'save': 590,\n",
       " 'happen': 591,\n",
       " 'age': 592,\n",
       " 'particularly': 593,\n",
       " 'attempt': 594,\n",
       " 'ago': 595,\n",
       " 'strong': 596,\n",
       " 'taken': 597,\n",
       " 'murder': 598,\n",
       " 'song': 599,\n",
       " 'extremely': 600,\n",
       " 'seriously': 601,\n",
       " 's': 602,\n",
       " 'crap': 603,\n",
       " 'happened': 604,\n",
       " 'obvious': 605,\n",
       " 'david': 606,\n",
       " 'ok': 607,\n",
       " 'robert': 608,\n",
       " 'released': 609,\n",
       " 'exactly': 610,\n",
       " 'james': 611,\n",
       " 'including': 612,\n",
       " 'running': 613,\n",
       " 'usually': 614,\n",
       " 'jokes': 615,\n",
       " 'opening': 616,\n",
       " 'gore': 617,\n",
       " 'cut': 618,\n",
       " 'hero': 619,\n",
       " 'across': 620,\n",
       " \"film's\": 621,\n",
       " 'huge': 622,\n",
       " 'yourself': 623,\n",
       " 'documentary': 624,\n",
       " 'saying': 625,\n",
       " 'alone': 626,\n",
       " 'sad': 627,\n",
       " 'reality': 628,\n",
       " 'order': 629,\n",
       " 'whose': 630,\n",
       " 'english': 631,\n",
       " 'level': 632,\n",
       " 'talent': 633,\n",
       " 'possible': 634,\n",
       " 'interest': 635,\n",
       " 'cinematography': 636,\n",
       " 'view': 637,\n",
       " 'brother': 638,\n",
       " 'hours': 639,\n",
       " 'light': 640,\n",
       " 'number': 641,\n",
       " 'started': 642,\n",
       " 'ridiculous': 643,\n",
       " 'none': 644,\n",
       " 'ends': 645,\n",
       " 'shots': 646,\n",
       " 'annoying': 647,\n",
       " 'turned': 648,\n",
       " 'career': 649,\n",
       " 'beyond': 650,\n",
       " 'call': 651,\n",
       " 'knew': 652,\n",
       " 'jack': 653,\n",
       " 'today': 654,\n",
       " 'usual': 655,\n",
       " 'relationship': 656,\n",
       " 'middle': 657,\n",
       " 'husband': 658,\n",
       " 'taking': 659,\n",
       " 'silly': 660,\n",
       " 'somewhat': 661,\n",
       " 'disappointed': 662,\n",
       " 'four': 663,\n",
       " 'basically': 664,\n",
       " 'opinion': 665,\n",
       " 'apparently': 666,\n",
       " 'country': 667,\n",
       " 'mostly': 668,\n",
       " 'novel': 669,\n",
       " 'knows': 670,\n",
       " 'important': 671,\n",
       " 'female': 672,\n",
       " 'scary': 673,\n",
       " 'word': 674,\n",
       " 'change': 675,\n",
       " 'body': 676,\n",
       " 'talking': 677,\n",
       " 'non': 678,\n",
       " \"i'll\": 679,\n",
       " 'local': 680,\n",
       " 'wish': 681,\n",
       " 'strange': 682,\n",
       " 'happy': 683,\n",
       " 'power': 684,\n",
       " 'rating': 685,\n",
       " 'miss': 686,\n",
       " 'major': 687,\n",
       " 'finds': 688,\n",
       " 'modern': 689,\n",
       " 'attention': 690,\n",
       " 'words': 691,\n",
       " 'ones': 692,\n",
       " 'upon': 693,\n",
       " 'room': 694,\n",
       " 'television': 695,\n",
       " '7': 696,\n",
       " 'single': 697,\n",
       " 'problems': 698,\n",
       " 'fast': 699,\n",
       " 'cheap': 700,\n",
       " 'thriller': 701,\n",
       " 'class': 702,\n",
       " 'five': 703,\n",
       " 'due': 704,\n",
       " 'episodes': 705,\n",
       " 'british': 706,\n",
       " 'clearly': 707,\n",
       " 'review': 708,\n",
       " \"aren't\": 709,\n",
       " 'add': 710,\n",
       " 'moving': 711,\n",
       " 'talk': 712,\n",
       " 'sequence': 713,\n",
       " 'tells': 714,\n",
       " 'straight': 715,\n",
       " 'predictable': 716,\n",
       " 'entertainment': 717,\n",
       " 'rock': 718,\n",
       " 'above': 719,\n",
       " 'space': 720,\n",
       " 'easily': 721,\n",
       " 'supporting': 722,\n",
       " 'ten': 723,\n",
       " 'musical': 724,\n",
       " 'earth': 725,\n",
       " 'events': 726,\n",
       " 'sets': 727,\n",
       " 'french': 728,\n",
       " 'future': 729,\n",
       " 'soundtrack': 730,\n",
       " 'dialog': 731,\n",
       " 'near': 732,\n",
       " 'team': 733,\n",
       " 'whether': 734,\n",
       " 'comic': 735,\n",
       " 'giving': 736,\n",
       " 'appears': 737,\n",
       " 'stay': 738,\n",
       " 'die': 739,\n",
       " 'lots': 740,\n",
       " 'similar': 741,\n",
       " 'needs': 742,\n",
       " 'hate': 743,\n",
       " 'eye': 744,\n",
       " 'dull': 745,\n",
       " 'sequel': 746,\n",
       " 'mention': 747,\n",
       " '8': 748,\n",
       " 'fall': 749,\n",
       " 'within': 750,\n",
       " 'storyline': 751,\n",
       " 'clear': 752,\n",
       " \"haven't\": 753,\n",
       " 'enjoyable': 754,\n",
       " 'working': 755,\n",
       " 'filmed': 756,\n",
       " 'bunch': 757,\n",
       " 'songs': 758,\n",
       " 'george': 759,\n",
       " 'sorry': 760,\n",
       " 'tale': 761,\n",
       " 'surprised': 762,\n",
       " 'release': 763,\n",
       " 'typical': 764,\n",
       " 'certain': 765,\n",
       " 'bring': 766,\n",
       " 'ways': 767,\n",
       " 'tried': 768,\n",
       " 'romantic': 769,\n",
       " 'effort': 770,\n",
       " 'theater': 771,\n",
       " \"what's\": 772,\n",
       " 'feels': 773,\n",
       " 'showing': 774,\n",
       " '9': 775,\n",
       " 'suspense': 776,\n",
       " 'theme': 777,\n",
       " 'monster': 778,\n",
       " 'message': 779,\n",
       " 'king': 780,\n",
       " 'minute': 781,\n",
       " 'editing': 782,\n",
       " 'falls': 783,\n",
       " 'kept': 784,\n",
       " 'easy': 785,\n",
       " 'named': 786,\n",
       " 'stand': 787,\n",
       " 'using': 788,\n",
       " 'feature': 789,\n",
       " 'famous': 790,\n",
       " 'buy': 791,\n",
       " 'mystery': 792,\n",
       " 'tom': 793,\n",
       " 'fantastic': 794,\n",
       " 'okay': 795,\n",
       " 'gone': 796,\n",
       " 'deal': 797,\n",
       " 'rent': 798,\n",
       " 'avoid': 799,\n",
       " 'nearly': 800,\n",
       " 't': 801,\n",
       " 'herself': 802,\n",
       " 'parents': 803,\n",
       " 'doubt': 804,\n",
       " 'dr': 805,\n",
       " 'crime': 806,\n",
       " 'begins': 807,\n",
       " 'means': 808,\n",
       " 'general': 809,\n",
       " 'among': 810,\n",
       " 'check': 811,\n",
       " 'red': 812,\n",
       " 'points': 813,\n",
       " 'comments': 814,\n",
       " 'dog': 815,\n",
       " 'elements': 816,\n",
       " 'forget': 817,\n",
       " 'sister': 818,\n",
       " 'richard': 819,\n",
       " 'realistic': 820,\n",
       " 'form': 821,\n",
       " 'viewers': 822,\n",
       " 'actual': 823,\n",
       " 'follow': 824,\n",
       " 'animation': 825,\n",
       " 'leads': 826,\n",
       " 'greatest': 827,\n",
       " 'paul': 828,\n",
       " 'somehow': 829,\n",
       " 'killing': 830,\n",
       " 'imagine': 831,\n",
       " 'atmosphere': 832,\n",
       " 'move': 833,\n",
       " 'subject': 834,\n",
       " 'note': 835,\n",
       " 'peter': 836,\n",
       " 'period': 837,\n",
       " 'weak': 838,\n",
       " 'figure': 839,\n",
       " \"'\": 840,\n",
       " 'lady': 841,\n",
       " 're': 842,\n",
       " 'wait': 843,\n",
       " 'reviews': 844,\n",
       " 'oscar': 845,\n",
       " 'deep': 846,\n",
       " 'viewing': 847,\n",
       " 'lame': 848,\n",
       " 'brought': 849,\n",
       " 'expected': 850,\n",
       " 'particular': 851,\n",
       " 'third': 852,\n",
       " 'surprise': 853,\n",
       " 'poorly': 854,\n",
       " \"you've\": 855,\n",
       " 'eventually': 856,\n",
       " 'sequences': 857,\n",
       " 'material': 858,\n",
       " 'free': 859,\n",
       " 'average': 860,\n",
       " 'whatever': 861,\n",
       " 'believable': 862,\n",
       " 'learn': 863,\n",
       " 'sci': 864,\n",
       " 'fi': 865,\n",
       " 'acted': 866,\n",
       " 'hot': 867,\n",
       " 'reading': 868,\n",
       " '20': 869,\n",
       " 'cheesy': 870,\n",
       " 'sit': 871,\n",
       " 'hear': 872,\n",
       " 'romance': 873,\n",
       " 'unless': 874,\n",
       " 'beauty': 875,\n",
       " 'open': 876,\n",
       " 'crew': 877,\n",
       " 'de': 878,\n",
       " 'decided': 879,\n",
       " 'write': 880,\n",
       " 'emotional': 881,\n",
       " 'question': 882,\n",
       " 'needed': 883,\n",
       " \"let's\": 884,\n",
       " 'imdb': 885,\n",
       " 'premise': 886,\n",
       " 'credits': 887,\n",
       " 'truth': 888,\n",
       " 'difficult': 889,\n",
       " 'doctor': 890,\n",
       " 'indeed': 891,\n",
       " 'dance': 892,\n",
       " 'society': 893,\n",
       " 'box': 894,\n",
       " 'memorable': 895,\n",
       " \"who's\": 896,\n",
       " 'york': 897,\n",
       " 'begin': 898,\n",
       " 'otherwise': 899,\n",
       " 'hands': 900,\n",
       " 'gay': 901,\n",
       " 'leaves': 902,\n",
       " 'meets': 903,\n",
       " 'forward': 904,\n",
       " 'shame': 905,\n",
       " 'western': 906,\n",
       " 'became': 907,\n",
       " 'plus': 908,\n",
       " 'features': 909,\n",
       " 'situation': 910,\n",
       " 'forced': 911,\n",
       " 'masterpiece': 912,\n",
       " 'street': 913,\n",
       " 'badly': 914,\n",
       " 'island': 915,\n",
       " 'superb': 916,\n",
       " 'male': 917,\n",
       " 'comment': 918,\n",
       " 'air': 919,\n",
       " 'america': 920,\n",
       " 'perfectly': 921,\n",
       " 'laughs': 922,\n",
       " 'e': 923,\n",
       " 'stage': 924,\n",
       " 'cop': 925,\n",
       " 'weird': 926,\n",
       " 'season': 927,\n",
       " 'keeps': 928,\n",
       " 'possibly': 929,\n",
       " 'previous': 930,\n",
       " 'footage': 931,\n",
       " 'sounds': 932,\n",
       " 'setting': 933,\n",
       " 'inside': 934,\n",
       " 'personal': 935,\n",
       " 'boys': 936,\n",
       " 'copy': 937,\n",
       " 'sexual': 938,\n",
       " 'nor': 939,\n",
       " 'screenplay': 940,\n",
       " 'mark': 941,\n",
       " 'whom': 942,\n",
       " 'fire': 943,\n",
       " 'worked': 944,\n",
       " 'japanese': 945,\n",
       " 'effect': 946,\n",
       " 'nature': 947,\n",
       " 'meet': 948,\n",
       " 'ask': 949,\n",
       " 'dream': 950,\n",
       " 'rate': 951,\n",
       " 'interested': 952,\n",
       " 'battle': 953,\n",
       " 'creepy': 954,\n",
       " 'result': 955,\n",
       " 'realize': 956,\n",
       " 'total': 957,\n",
       " 'crazy': 958,\n",
       " 'various': 959,\n",
       " 'joe': 960,\n",
       " 'dumb': 961,\n",
       " 'incredibly': 962,\n",
       " 'political': 963,\n",
       " 'towards': 964,\n",
       " 'appear': 965,\n",
       " 'powerful': 966,\n",
       " 'cover': 967,\n",
       " 'following': 968,\n",
       " 'admit': 969,\n",
       " 'earlier': 970,\n",
       " 'dramatic': 971,\n",
       " 'unique': 972,\n",
       " 'baby': 973,\n",
       " 'joke': 974,\n",
       " 'background': 975,\n",
       " 'directors': 976,\n",
       " 'pay': 977,\n",
       " 'quickly': 978,\n",
       " 'front': 979,\n",
       " 'mess': 980,\n",
       " 'apart': 981,\n",
       " 'bill': 982,\n",
       " 'writers': 983,\n",
       " 'directing': 984,\n",
       " 'odd': 985,\n",
       " 'gun': 986,\n",
       " 'girlfriend': 987,\n",
       " 'talented': 988,\n",
       " 'missing': 989,\n",
       " 'plenty': 990,\n",
       " 'fairly': 991,\n",
       " 'business': 992,\n",
       " 'leading': 993,\n",
       " 'outside': 994,\n",
       " 'portrayed': 995,\n",
       " 'break': 996,\n",
       " 'water': 997,\n",
       " 'brings': 998,\n",
       " 'lee': 999,\n",
       " 'development': 1000,\n",
       " ...}"
      ]
     },
     "execution_count": 59,
     "metadata": {},
     "output_type": "execute_result"
    }
   ],
   "source": [
    "word_index"
   ]
  },
  {
   "cell_type": "code",
   "execution_count": 60,
   "metadata": {},
   "outputs": [],
   "source": [
    "seq = tokenizer.texts_to_sequences(train_x)\n",
    "train_x_tokenized_padded = pad_sequences(seq, maxlen=max_length, truncating=trunc_type)\n",
    "seq = tokenizer.texts_to_sequences(test_x)\n",
    "test_x_tokenized_padded = pad_sequences(seq, maxlen=max_length)"
   ]
  },
  {
   "cell_type": "code",
   "execution_count": 61,
   "metadata": {},
   "outputs": [
    {
     "data": {
      "text/plain": [
       "array([[    0,     0,     0, ...,    33, 14403,   201],\n",
       "       [  583,    64,    83, ...,    24,    47,     3],\n",
       "       [    0,     0,     0, ..., 37892,    67, 23937],\n",
       "       ...,\n",
       "       [    0,     0,     0, ...,    18,     8,     8],\n",
       "       [    0,     0,     0, ...,    46,   124,   107],\n",
       "       [    0,     0,     0, ...,   346,     8,     8]], dtype=int32)"
      ]
     },
     "execution_count": 61,
     "metadata": {},
     "output_type": "execute_result"
    }
   ],
   "source": [
    "train_x_tokenized_padded"
   ]
  },
  {
   "cell_type": "markdown",
   "metadata": {},
   "source": [
    "### Vectorization (method 2)"
   ]
  },
  {
   "cell_type": "code",
   "execution_count": 19,
   "metadata": {
    "id": "WUdo4h6DBXeG"
   },
   "outputs": [],
   "source": [
    "#TF-IDF\n",
    "tfv = TfidfVectorizer(min_df=3,  max_features=None, strip_accents='unicode', analyzer='word',token_pattern=r'\\w{1,}',\n",
    "                    ngram_range=(1, 3), use_idf=1,smooth_idf=1,sublinear_tf=1, stop_words = 'english')\n",
    "\n",
    "tfv.fit(list(train_x) + list(test_x))\n",
    "train_x_tfv =  tfv.transform(train_x) \n",
    "test_x_tfv = tfv.transform(test_x)"
   ]
  },
  {
   "cell_type": "code",
   "execution_count": 20,
   "metadata": {
    "colab": {
     "base_uri": "https://localhost:8080/"
    },
    "id": "Iz76dW88B2-k",
    "outputId": "192b335a-09fb-4a75-c530-8461a30ca599"
   },
   "outputs": [
    {
     "data": {
      "text/plain": [
       "(30000,)"
      ]
     },
     "execution_count": 20,
     "metadata": {},
     "output_type": "execute_result"
    }
   ],
   "source": [
    "train_x.shape"
   ]
  },
  {
   "cell_type": "code",
   "execution_count": 21,
   "metadata": {
    "colab": {
     "base_uri": "https://localhost:8080/"
    },
    "id": "3HIqaLN9B7gk",
    "outputId": "843af989-21aa-48f5-b8c5-6838f4780f16"
   },
   "outputs": [
    {
     "data": {
      "text/plain": [
       "(30000,)"
      ]
     },
     "execution_count": 21,
     "metadata": {},
     "output_type": "execute_result"
    }
   ],
   "source": [
    "y_train.shape"
   ]
  },
  {
   "cell_type": "code",
   "execution_count": 22,
   "metadata": {
    "colab": {
     "base_uri": "https://localhost:8080/"
    },
    "id": "jiftFwEfCCb1",
    "outputId": "b28f8a58-76e0-482e-dc34-44e0172fede8"
   },
   "outputs": [
    {
     "data": {
      "text/plain": [
       "((10000,), (10000,))"
      ]
     },
     "execution_count": 22,
     "metadata": {},
     "output_type": "execute_result"
    }
   ],
   "source": [
    "test_x.shape, y_test.shape"
   ]
  },
  {
   "cell_type": "code",
   "execution_count": 23,
   "metadata": {
    "colab": {
     "base_uri": "https://localhost:8080/"
    },
    "id": "3UPqdw4oCHiI",
    "outputId": "1f3c91b2-5ecf-4953-de5d-326a0c70ae52"
   },
   "outputs": [],
   "source": [
    "dataset = tf.data.experimental.make_csv_dataset(datasetpath, batch_size=32,\n",
    "                                                select_columns=['\\ufefftext', 'label'],\n",
    "                                                label_name='label')"
   ]
  },
  {
   "cell_type": "code",
   "execution_count": 24,
   "metadata": {},
   "outputs": [
    {
     "name": "stdout",
     "output_type": "stream",
     "text": [
      "tf.Tensor([0 0 1 0 0 1 0 1 1 1 1 1 0 1 0 0 0 1 1 0 0 0 1 1 1 0 0 1 1 1 0 1], shape=(32,), dtype=int32)\n",
      "﻿text               : [b\"What a drawn out painful experience.<br /><br />That's over two hours of my life I will never get back.<br /><br />This Film Festival Director's delight - is awash with overuse of the long slow shot....however - that's not the only thing that makes a script.<br /><br />Avoid this movie at all costs.\"\n",
      " b'As a rule, I try to find as much in films as I possibly can to enjoy them. I made no exceptions with \"Tart\", doing my very best to appreciate it for what it was. But no effort, no matter how great, could possibly redeem this pitiful excuse for a movie.<br /><br />It failed for a number of reasons. Firstly, the cinematography was directionless and ineffective. Secondly, the script reached depths of \\'poor\\' that took it well and truly beyond the \\'so bad it\\'s good\\' category. Thirdly, the acting left mind-blowing amounts to be desired - it was appalling, it really was. Anyone who saw Mischa Barton (seen here as the remarkably terrible Grace, a character so poorly invented and realised that Ja Ja Binks doesn\\'t seem so bad) as Devon in John Duigan\\'s \"Lawn Dogs\" will wonder what went wrong between then and now. Perhaps, had she been given a character worth bothering with, and a modicum of direction, she at least might have given this film ONE redeeming feature. Alas, such was not the case. Finally, the film seemed to have no point whatsoever, expressing nothing, achieving nothing. Really, I wonder why Christina Wayne bothered.<br /><br />\"Tart\" made a feeble attempt to be something, and failed. The result - a film, sadly, so bad that it\\'s just very, very bad. Don\\'t bother - it really isn\\'t worth it.'\n",
      " b'I first saw this version of \"A Christmas Carol\" when it first appeared on television. I actually anticipated seeing the film when it was advertised and it more than lived up to my expectations. I have now purchased the DVD and plan to watch it every year. With the exception of \"It\\'s A Wonderful Life\" I consider this version of \"A Christmas Carol\" one of the best Christmas movies ever made. George C. Scott is excellent and a superb cast led by Roger Rees surrounds him! Scott proves once again that he is one of finest actors of our time. Scott has the artistic talent and acting ability to play any role and keep the character unique to himself. How can someone be remembered as both Patton and Scrooge? Scott does so easily. The direction is marvelous with the fine sets, costumes and music that give the movie a special feeling of the time, place and era depicted. You will simply love this movie and will place it among your favorites to watch during the holiday season.'\n",
      " b\"The worst movie I've ever seen in my life. From the amateur directing to the porn-quality acting, it looks like a home movie somebody decided to shoot becuase they had nothing else to do with their time.<br /><br />Unless you have no hope left in life, absolutely avoid this crap.<br /><br />\"\n",
      " b\"I am one of those people that respect every film-maker as having achieved, each film I watch I usually respect(although I admit I select carefully) and appriciate for what it is. Not any more. This is truly one of the worst scripts I have seen produced as a film...so much so I felt compelled to warn others off it. The dialogue was truly unbelievable, the main protaganist was about the last person I would be interested in finding out more about. A scene were an old school friend 'tells it like it is' made me laugh only because it was a pathetic attempt to reveal the subtext of an already concluded plot. The direction is glib at best and at worst film-making by numbers. To compare this film to the atmospheric majesty of a film like Five Easy Pieces is a travesty.\"\n",
      " b'Warner Brothers tampered considerably with American history in \"Big Trail\" director Raoul Walsh\\'s first-rate western \"They Died with Their Boots On,\" a somewhat inaccurate but wholly exhilarating biography of cavalry officer George Armstrong Custer. The film chronicles Custer from the moment that he arrives at West Point Academy until the Indians massacre him at the Little Big Horn. This is one of Errol Flynn\\'s signature roles and one of Raoul Walsh\\'s greatest epics. Walsh and Flynn teamed in quite often afterward, and \"They Died with Their Boots On\" reunited Olivia de Havilland as Flynn\\'s romantic interest for the last time. They appeared as a couple in seven previous films. This 140-minute, black & white oater is nothing short of brilliant with dynamic action sequences, humorous romantic scenes, and stern dramatic confrontations between our hero and his adversaries. One of the notorious errors involves Colonel Philip Sheridan who is shown as the commandant at West Point before the Civil War. Indeed, Sheridan was a lieutenant at this point. In fact, the commandant was Robert E. Lee as the earlier Flynn film \"Santa Fe Trail\" showed. Another historical lapse concerns Lieutenant General Whitfield Scott; Scott was not the commander of Union troops throughout the Civil War. Warner Brothers presented Custer as a drinker (probably because Flynn had a reputation for drinking), but in real life Custer neither drank nor smoked. Nevertheless, these as well as other historical goofs do not detract from a truly splendid film.<br /><br />\"They Died with Their Boots On\" opens with Custer riding into West Point Military Academy arrayed in a fancy dress uniform with an African-American carrying his luggage and tending his dogs. After the sergeant of the guard realizes that he has turned out a honor guard for a future plebe instead of a high-ranking foreign general, the sergeant turns Custer over to a ranking cadet Ned Sharp (Arthur Kennedy of \"City for Conquest\") to take charge of him. Sharp plays a practical job on Custer by installing him in the quarters of Major Romulus Taipe (Stanley Ridges of \"Task Force\") who promptly runs Custer out. Naturally, the volatile Custer attacks Sharp in a public brawl. General Phil Sheridan (John Litel of \"The Sons of Katie Elder\") is prepared to dismiss Custer from West Point for conduct unbecoming. As it turns out, Sheridan cannot expel Custer because Custer has not enrolled. Once he enrolls, Custer establishes a mediocre academic reputation with alacrity to fight and accumulate demerits galore. When the American Civil War erupts, West Point graduates cadets who have not completed their education and rushes them into combat. One of the last cadets hustled off to war is Custer. Avid as he is to get into the fight, Custer encounters his future wife, Elizabeth \\'Libby\\' Bacon (Olivia de Havilland of \"Santa Fe Trail\"), and they pledge themselves to each other, despite Mr. Bacon (Gene Lockhart of \"Carousel\") who detests the sight of Custer. It seems that Bacon ran across Custer at a saloon and insulted one of Custer\\'s friends and our hero reprimanded Bacon.<br /><br />Meanwhile, back in Washington, Custer desperately seeks a transfer to a regiment, but Major Taipe has him cooling his heels. Custer befriends rotund Lieutenant General Winfield Scott (Sidney Greenstreet of \"The Maltese Falcon\") and they share an appetite for creamed Bermuda onions that becomes one of Custer\\'s characteristics. Not only does Scott see to it that Taipe assigns Custer to the Second Cavalry, but also Custer appropriates Taipe\\'s horse to get to his command. During the Battle of Bull Run, 21 July 1861, Custer disobeys orders from none other than Sharp, strikes his superior officer and holds a bridge so the infantry can cross it. Wounded in the shoulder and sent to the hospital, Custer receives a medal rather than a court-martial. When Confederate General Jeb Stuart threatens the Union Army at the Battle of Gettysburg, in Pennsylvania, Scott is shocked by the chance that the South may triumph. When a brigadier general cannot be found, Scott goads Taipe into promoting the first available officer. A mistake is made and Custer is promoted. Incredulous at first, Custer embraces the moment and cracks Stuart\\'s advance. After the war, Custer idles down and starts boozing it up with the boys at the local saloons. Sharp shows up as a crooked railroad promoter and with his father they try to enlist Custer to serve as the president of their railway so that they can obtain funds. Eventually, Libby intercedes on his behalf with General Sheridan, who was in command of the army, and gets him back on active duty as the commander of the 7th Cavalry. When he takes command, Custer finds the 7th cavalry a drunken lot and is not surprised that Sharp commands the liquor at the fort. Meanwhile, Custer has his first run in with Crazy Horse (Anthony Quinn of \"The Guns of Navarone\") and takes him into custody. Of course, Crazy Horse escapes, becomes Custer\\'s adversary, and they fight.<br /><br />Once Custer has quelled Crazy Horse and the Indians, Sharp with Taipe as a government agent conspire to destroy a peace treaty with the Sioux and other Indian nations. They also see to it that Custer is brought up on charges for striking Taipe in a saloon brawl. On his way to Washington, Custer discovers the perfidy of Sharp and Taipe who have drummed up a gold strike in the sacred Black Hills. Settlers rampage in and the Indians hit the warpath. Custer sacrifices himself and his 600 men at the Little Big Horn in a slam-bang showdown against 6000 redskins. \"Stagecoach\" lenser Bert Glennon captures both the grit and the glory. The long shot of the 7th Cavalry leaving the fort at dawn is spectacular. As an added premonition of Custer\\'s imminent demise, Libby faints after he leaves their quarters for the Little Big Horn. \"They Died with Their Boots On\" benefits from a top-notch Max Steiner score that incorporates the regimental tune \"Gary Owen.\"'\n",
      " b\"The female lead was a terrible actress which made the whole movie mediocre. She was smiling too much when she first went in front of the cameras to talk about her daughter. This should have made the police suspect her. I would have been inconsolable in the identical situation. She seemed way calm for a mother who could not find her daughter. It was as if she did not want to even be in the movie. Jennifer Aniston would have played the part better. And it would have made a lot more money for such a controversial, important subject. Everyone else was excellent. I don't know where the lead actress is but I hope she got some acting lessons.\"\n",
      " b'Have you ever in your life, gone out for a sport\\'s activity, tried your best, and then found yourself in an important segment of it, where for a brief moment, you were given a chance to be a hero and a champion and . . . failed? I believe many of us have had that moment in our lives. This is the premise of the movie, \"The Best of Times.\" In this story a middle age banker, named Jack Dundee (Robin Williams) suffers from the deep melancholy of a football mistake, which happened years ago, is inspired to re-play the game . . again. In order to accomplish this he must convince the once great football quarterback, Reno Hightower (Kurt Russell) to make a comeback. For Reno, who is satisfied with his present lot in life, see\\'s no need to change the past record, which get\\'s better as he ages. Added to both their problem is the fact years have passed and in addition, both their marriages are floundering and in need of re-vamping. Not easy when his Father-in-law (Donald Moffat) habitually reminds him of the biggest drop. Nevertheless, Dundee is persistent and will do anything to try and correct the greatest blunder of his life. Great fun for anyone wishing to enjoy their youth again. ***'\n",
      " b'This short was in part four of the \"Short Cinema Journal\"--a film I rented from Netflix but which appears to have originally been a monthly film series for people who like mediocre modern short films AND love to have the DVD chock full of commercials. I have so far tried two of the Journal\\'s DVDs and felt enraged at the horrible way that a viewer needs to navigate the disk in order to see the films. Talk about an over-produced and overly complicated way of doing this! While I have and will continue to see as many shorts as I can, I really doubt if I\\'ll bother with the Journals because of these factors.<br /><br />Now it could be that because I disliked the disk so much that I was not favorably disposed towards this Portuguese animated short. This is definitely possible. However, even if this is the case, I feel that the other reviews were way too positive about this simple little film. Some of the artwork was indeed nice--I liked how the simple black and white drawings suddenly became 3-D environments as the camera went from a dull distant shot and dove into the city below. This was lovely and took some work. But as for the story about a cat who wants to go to the moon, it just did nothing for me.<br /><br />IMPORTANT UPDATE--I saw this film again on a DVD entitled \"Cartoon Noir\" on 5/09. It was a pretty unappealing collection of art films. However, this time I saw THE STORY OF THE CAT AND THE MOON with an entirely different audio track and boy did it make a difference. Instead of Portuguese with subtitles, it had a French accented narrator who spoke English in a Film Noir style. While I usually hate dubbing, this time it really made the film. The narration of the Portuguese version leaves a lot to be desired if you don\\'t know the language or understand the subtleties. Unless you speak the language, try looking for the other version (provided you understand English).'\n",
      " b'Malcolm McDowell diagnoses Megan Gallagher\\'s daughter and she as having a form of illness, when they believe they are seeing \"The Huldre\", troll-like creatures which live with \"the rocks and the roots\" (to quote the movie).<br /><br />Basically a family moves into an older house, which has a smaller doll-house in the backyard. The daughter (well played by Sofia Vassiliova) starts to befriend the creatures, until they become vindictive. The family cat also disappears.<br /><br />There are a few good scenes with Megan Gallagher (\"Millennium\") and Malcolm McDowell as the psychiatrist. There is also something strange which occurred to one of McDowell\\'s patients.<br /><br />If you enjoy this type of story, you may also like \"Bad Ronald\", which had a similar odd theme, and the house is haunted by bad Ronald (Scott Jacoby) only that movie is from the 70\\'s. 7/10.'\n",
      " b\"i watched this tape, immediately rewound it, watched it again and laughed twice as hard. I strongly recommend this tape for those who are not hateful of, but uncomfortable around transvestites. It shows you that transvestitism is a feature, rather than the entirety of one's being. The comedy is not single issue. This man is brilliant. All comics should aspire to his level of candor, intelligence and talent.\"\n",
      " b'The world is going to miss John Frankenheimer. This was his first feature film and it was four years before he directed his second, but don\\'t let that dissuade you from seeking it out. Frankenheimer\\'s direction is assured, and he gets some compelling performances out of his cast.<br /><br />Someone else has already pointed them out, but I also want to talk up James Gregory and Whit Bissell in two key supporting roles. Both would work for Frankenheimer again -- Gregory most notably as the bumbling senator in \"The Manchurian Candidate\" -- and they do good work for him here.<br /><br />If the whole thing seems too simple in the end, that\\'s merely because Frankenheimer and writer Robert Dozier chose to tell a simple story, and they do it well. Keep a lookout for it -- Turner Classic Movies just might show it again.'\n",
      " b'I can only guess that this movie was an experiment that misfired. Years earlier, it would have been moving images accompanied by music. Later, it would have been sound added to silents. Eventually it would have been Technicolor, Cinemascope or Imax. This movie must have been a misguided attempt to introduce a new element to the talking picture. During all the emotional scenes, the character stops in mid dialogue and their inner thoughts are narrated while they gaze off into the distance or appeal to the camera. This interruption is painful at it\\'s very least. Imagine these top tier actors trying to look busy while the narration drones on. Painful. I have no idea who came up with this gimmick, but it was the only time I ever saw it used - and for good reason. In every scene the actors were forced to roll their eyes, wring their hands, or overact to such a degree, I actually wondered if this was really a comedy. <br /><br />The story is a hopeless soap opera that takes place over a couple of generations. Norma Shearer, disappointed in love, searches for a reason to live. She has a friend, played by Ralph Morgan, who worships her - but she takes him for granted. She is attracted to a doctor, played by Clark Gable, but he is self absorbed and isn\\'t interested in her. She settles for a weakling that needs her desperately. She marries him only to find that there is insanity in his family and she can never have a child with him. Along comes the doctor who selfishly pops a bun in her oven, only to find out later that he loves her after all. The child builds confidence in her husband who becomes a success, but she realizes that it\\'s really Clark she loves after all. Confused yet? Forget the rest, just watch a couple of episodes of \"As the World Turns\" and it\\'ll all become clear.<br /><br />If your are ever forced to watch this movie, hold out for the final scene. The gyrations of the actors put Harold LLoyd to shame. It is not to be missed.'\n",
      " b\"I first saw this movie years ago and have continued to view it several times a year when I have an opportunity. It is on my list of favorite movies along with some of the classics. Should anyone tell you it is foolish or outdated, ignore them... this movie is for anyone who enjoys laughing and music. The dancing isn't as important in this film as in other Astaire movies so the comedy and acting shine through. See this movie if you can, it may be light but it is still completely amusing. So I know that many people hate black and white films, they think old movies can't really be funny, this movie should make them change their minds. No one I know can watch this movie without being at least mildly amused. The only problem with the film: Fred Astaire singing without dancing. He may be a great performer and capable singer but it just isn't fascinating and leaves a big hole in the middle of the story. The comedy gets a bit clich\\xc3\\xa9 at times but the vaudevillesque performances of G burns and G Allen are just perfect for the piece and can satisfy anyone looking for some easy laughs. Give this film a chance even if you don't like old movies, this movie can appeal to the ridiculous in any one.\"\n",
      " b\"A tedious effort from not-yet great director Budd Boetticher and pretty but not-yet un-bland actress Nina Foch, this movie is, as one of the other reviewers notes, is the quintessence of a certain kind of B movie. It's just not the good kind. And a promising premise and an overactive fog machine is wasted.<br /><br />Basic plot -- Nina, a nurse on leave from wartime duties on account of her nerves, has a nightmare. She meets a dashing fellow at the resort where she's giving her nerves a breather, and realizes he's in the dream, even though she's never met him before. Meanwhile, it turns out our dashing guy is working as a spy, and is about to go on an-extra secret, hush-hush mission that must not fail.<br /><br />Of course, there are Nazis. And plot holes. And smart people acting in a fashion most likely to get them into entirely unnecessary scrapes, so that the running time can be spun out past an hour. At the end, the movie becomes a contest between which group of spies can act more foolishly. If the FBI and OSS had acted like this crew, we'd have lost the war in '42.<br /><br />The movie itself is rather flatly shot (despite the best efforts of the fog machine) and the acting -- as it seems to be in many of the Columbia Bs TCM has been showing lately -- is curiously unengaged. It's less stylized than what one might find from a similarly budgeted Warner Bros movie, but also less fun to watch.<br /><br />Boetticher's strength, of course, is a rather matter of fact style which allows the strong stories and acting in his Randolph Scott westerns to come to the fore. Maybe the problem here is that such a style is not going to work when the script is lousy and the actors tired from their five film a year schedule.\"\n",
      " b'This is just what we need, a show about the people nobody likes in high school or in university. Man or Woman. People objectifying others and congratulating themselves for doing so is exactly the opposite of intelligent thinking. And this show is just disgusting for doing exactly that.<br /><br />So four men sit in chairs and watch two other guys try and pick up women to have sex with them. And in the end one of the two wins, great...just f-n great. I\\'m also supposed to accept these four douche bags as being \"judges\" of people\\'s \"Game\". The term \"game\" has got to be the most moronic thing to come out of modern English since the term \"Bling Bling\", added to the fact that these men are called the \"experts\" just makes me want to throw up whats left of my respect for modern culture. These are not god damn role models, they are the result of MTV culture coming to bite us in the ass. If you enjoy the bullshit spilling out the sides of this monstrosity then you probably think Paris Hilton and Britany Spears have talent. Its not true and you should be ashamed of yourself for thinking so.<br /><br />And for all those people who will say that I would like this better if I got laid, or that I\\'m just jealous. Go screw yourself, because its obvious that a REAL girl certainly won\\'t.'\n",
      " b\"A 'Wes Craven presents' movie from 1995, directed by Joe Clayton and starring Lance Henriksen. A group of scientists save a dying man they find by their desert stranded government outpost by injecting him with their experimental virus, of course, one of their colleagues goes overboard and the virus transforms the man into a near unstoppable monster with them trapped inside. Lance Henriksen plays the morally offended researcher who leaves the project before all this, but returns after receiving a call for help to save the man (pre-unstoppable death machine mutation).<br /><br />Deciding to combine two trips in one he brings his family along with him (they're going on vacation afterwards) and proceeds to give them entry to the top secret government facility, thus putting them right in the middle of the chaos within. In case you can't tell, this one relies on the viewer to work with it a little and put aside some petty (see: major and blatant) details.<br /><br />Overall though: Watch-able with mild bits of enjoyment. Note: The Outpost is commonly known under the title 'Mind Ripper'\"\n",
      " b'Excuse me if I\\'m wrong, but \"Cronica para un desayuno\" could be one of the most gretatest films in tne mexican movie history for a lot of reasons. We can get a lot of ingredients for a perfect mexican middle-class family breakfast: a cup of Bu\\xc3\\xb1uel\\'s surrealistic motifs with a little drop of Ripstenian desolated scenarios; a pound of phallus symbols around the film and a difficult psychological complexity, more than Todd Solondz\\'s Happiness and the Dogma movement films. There`s a lot of sordidness, black humor, repressed dreams (Teodoro\\'s dream of fly), incestual lack of control (the relation between Marcos and Luzma), no-sense parallel stories, a discrete violence, anachronisms and<br /><br />a little sign of hope (spotlighted in Luzma, the husband\\'s home return and \"Un poco Mas\" used for leit-motif). Marcos (Bruno Bichir) is a charming character ( I think in a Bukoskian way), the king-without a-crown who don\\'t expects for anything, but broken noses. Luzma (Maria Rojo) , the lovable wife , put out a lot of faces, but the only thing that she worried is that her sons had breakfast; she\\' s a loser in many ways and sensual in few moments , but you will fall in love of her. The soundtrack\\'s drag (too much woods) feeds the lack of technical merits, intentional , of course: out-of-focus shots, overlighted close-ups (in introspective scenes), dizzy pans and sudden edition cuts. \"Cr\\xc3\\xb3nica\" is something difficult to digest, it get stuck in the throat and anything helps for it. It tastes bitter, like a rotten orange juice and sour like expired milk, but you want to enjoy it. So I recommend to get some Melox before the show, because you won\\'t get hungry after all.'\n",
      " b'Just two comments....SEVEN years apart? Hardly evidence of the film\\'s relentless pulling-power! As has been mentioned, the low-budget telemovie status of 13 GANTRY ROW is a mitigating factor in its limited appeal. Having said that however the thing is not without merit - either as entertainment or as a fright outing per se.<br /><br />True, the plot at its most basic is a re-working of THE AMITYVILLE HORROR - only without much horror. More a case of intrigue! Gibney might have made a more worthwhile impression if she had played Halifax -investigating a couple of seemingly unconnected murders with the \"house\" as the main suspect. The script is better than average and the production overall of a high standard. It just fails to engage the viewer particularly at key moments.<br /><br />Having picked the DVD up for a mere $3.95 last week at my regular video store, I cannot begrudge the expenditure. $10.95 would be an acceptable price for the film. Just don\\'t expect fireworks!'\n",
      " b\"This is one of the worst movies I saw! I dunno what are the reasons for shoting suck a crap. Don't waste your time watching this. Good actors, but extremely bad screenplay and dialogues. Hope there'll be no Blanche 2 :-) Avoid this movie by all means!\"\n",
      " b\"Did the other reviewers watch the same movie I did? This was poorly written, poorly acted, and just overall boring. I made it well past the halfway point in the movie and then just gave up. I can't possibly imagine an ending that would have made the rest of the movie worthwhile. Don't waste your time with this dog. Seriously.\"\n",
      " b'Screen treatment of the comedic Broadway success \"The Gay Divorce\" (a title which was considered too scandalous for American moviegoers, though it was used in the U.K.) concerns a man and woman (Fred Astaire and Ginger Rogers) meeting under embarrassing circumstances while she\\'s in the process of divorcing her spouse; they dance, argue, make up, dance, argue some more and dance some more. Betty Grable is very appealing in a brief bit (singing and dancing in the number \"Let\\'s K-nock K-nees\" with overtly sissified Edward Everett Horton), but the star-couple looks distressed and unhappy throughout. The surroundings are screwball-sophisticated yet the characters are not more than one-dimensional. *1/2 from ****'\n",
      " b\"Aslan Adam, or Lionman as it's more commonly known amongst English speaking audiences, starts with an epic battle as King Solomon & his army defeats a load of guys although I'm not sure who they were & the film itself isn't too helpful in establishing the fact. Anyway, after King Solomon has slaughtered all these guys Princess Maria, Bishop Osorio & Commander Antoine are forced to sign a treaty which lets King Solomon rule just about everything in sight. Soon after Princess Maria seduces Solomon & they have sex, meanwhile in the shortest wedding ceremony ever (just two sentences long) Antoine weds Princess Maria & is planning to rebel against Solomon & gain some sweet revenge in the process. Antoine & his guards attack & kill Solomon even though his pregnant wife Princess Almunia escapes with her protector Rostin with Antoine's guards in hot pursuit, after the shortest labour ever (less than 5 minutes or the time it takes to run around a bush) Princess Almunia gives birth to a young baby boy who is hidden in some bushes away from Antoine's guards. Unfortunately when Rostin tries to retrieve the little fella he finds that the baby has been adopted by a pride of Lion's as one of their own! Year's later & the evil Antoine now rules treating his subjects with no mercy, Princess Maria has given birth & he has a son but Rostin is also still kicking around trying to put together a gang of rebels to overthrow Antoine, the task seems hopeless unless they can enlist the help of the legendary Lionman who is more beast than man...<br /><br />This Turkish Greek co-production was directed by Natuk Baytan as Natuch Baitan & is a one of a kind type of film, I found it hilariously bad but at the same time immensely entertaining. The script never seems to take itself seriously, it is a pretty funny film at times, it moves along like a rocket & is never dull or boring & some of the English dubbed dialogue is just hilarious in context with what's happening on screen. None of it makes any sense, we get a boy raised by Lion's, an evil king, betrayal, dark family secrets, birthmarks that form the shape of Lion's in an element of the story that was present before the kid was raised by Lion's, crazy fight scenes, torture scenes where the posts people are supposed to be tied to wobble, ancient castle interiors that randomly contain zip wires & gymnastic rings, idiotic bad guys who all seem to have extensive facial hair & a central character who has a jaw line resembling a house-brick, can be stabbed twice, have his hands covered in acid (this acid can eat it's way through steel trapdoors but is kept in a ceramic jug!) & fall over 20 feet onto a concrete floor & yet maintain no serious injury! Aslan Adam is a terrifically entertaining film, I don't think I've seen another film quite like it that I can compare it too, if your looking for something serious then forget this but if you like 'so-bad-they're-good' type films & want to have fun, laugh & be entertained then Aslan Adam should be at the VERY top of your list. Total 100% gold for bad film fans & those with a taste for the different & bizarre. On the disappointing side Lionman only gets his steel claws 10 minutes before the end which is a shame.<br /><br />Director Bayten certainly keeps things moving along at a brisk pace although it's far from well made, during the opening battle one moment guys are fighting on a sand dune the next their on a grassy hill with trees in the background! There is one point where Lionman uses a 'branch' to pole vault but it's obviously just a long tube with a vine wrapped around it! Then there's the scene when a bloodthirsty pack of bloodhounds are supposed the chasing Lionman down but the dogs used are obviously different breeds including some of the most harmless looking dogs ever! There are just so many individual scenes in Aslan Adam that are just hilarious, stupid, bizarre or all three that I could go on forever. Just check the ending out when Lionman is jumping & flying about everywhere like he can fly. There's lots of blood in Aslan Adam although not much actual graphic gore or violence, a few stabbings & someone has their hands cut off is as graphic as it gets.<br /><br />Technically Aslan Adam is pretty ropey, the period costumes are bright & garish featuring purples, yellows, reds & various other bright colours. The fight scenes are cheap but at least the filmmakers tried to put as much action in as they could. The music seemed like it was more suited to a classical ballet rather than an action film & is yet another bizarre aspect to Aslan Adam. The acting was bad, even dubbed you could tell the acting was bad.<br /><br />Aslan Adam is pure gold from start to finish, there are so many things to like, laugh at & enjoy in this film that I just ended up really liking it. In no way whatsoever can Aslan Adam be considered a good film in any sense of the word but it's one hell of an entertaining one. I may have have to watch this one again sometime soon just to prove to myself that I didn't dream it all! The best Turkish action film about a man raised by Lion's you will ever see, period. Proved popular enough to spawn a sequel, Lionman II: The Witchqueen (1979).\"\n",
      " b'This is an incredible piece of drama and powerful which hits you. I found the film was great and getting to grips with the two main characters disability, this was represented in a great performance by both two Michael and Rory. Whether the story is based around a true story I feel the story was trying to giving the audience a message that as a whole the general public should respect and feel for the needs of disabled people and that they should be given the same chance as any other human. On the whole this film reach into my soul and I too felt touched by the actors and the director sending out there creativity. The whole picture is that some actors take it beyond their character the play and only show part of the character that is believable to the audience, but I feel that theses two certainly made great use as their gifted talent to portray a masterpiece piece of drama. Certainly one not to be missed!'\n",
      " b\"Although written by Stephen King, an overrated writer if there ever was one, this is actually quite entertaining B-movie. Vampiric, incestuous creatures who live in the candle-lit house and drain the life-force of virgins, great graveyard scenery, heroic cats and very pretty virgin. The soundtrack even has Enya's music, an idea which I found quite... nice. I'm sure King is disappointed to this little movie, although it HAS crappy dialogue and ideas, all of them from a true and tedious King potboiler. (Albeit Sleepwalkers, if I'm understood right, is a script without any novel or short story behind it). Still, those touches of sewer-odors show he DIDN'T use a ghost-writer after all...\"\n",
      " b'all i can say about this film is to read the back of the video case and then put it back on he shelf and pick anything else, i mean anything, a blank video, would be better than watching this.'\n",
      " b'To sat how awful The Shield is, you\\'d have to write pages and pages, so suffice it to say that it is a monument to bad directing.<br /><br />\"When Directors Go Awry\" should have been the title of this production. Indeed, directors are supposed to infuse their work with a sense of visual style and story-telling that propels the story forward.<br /><br />How is constantly shaking the camera and playing with the zoom lens a \"style\"? How is it propelling the story forward? Of course there\\'s also the \"editing by random numbers\" nonsense. Apparently it\\'s become hip to just cut randomly.<br /><br />I guess it\\'s too much work to do good editing.<br /><br />Well, that made it too much work for most people to watch The Shield which languished as one of the most over-hyped and unwatched shows of all time.'\n",
      " b\"This movie was an amazing tribute to whoever has gone through this type of pain and suffering. The acting wasn't the greatest, I'll admit that, but it was passionate about it's message, sending people into prisons without so much as an attorney or some type of trial is cruel and unusual. They even had a damn trial for Saddam, so why doesn't every suspected terrorist have some type of fair and justified trial or hearing as to why they were tagged in the first place? I'm getting off the movie, but I think it's worthy to note about this sick, twisted idea the government has. The movie's way of telling the story and the backstory was a great mystery. The whole movie, I was trying to connect the daughter with the plot and it's made very obvious in the end. There's no doubt that the directing was incredible, but the one thing I didn't care for was that there wasn't as much emphasis on Reese Witherspoon's character's interest and fight in the ideal she held, a lot of skipping. Otherwise it was actually quite entertaining, and most of all it kept my attention and interest for the two hours it played.\"\n",
      " b'I have to tell you I\\'ve been a fan of Star Trek TNG since i was a kid.<br /><br />Well, sometime ago i gave a friend of mine some DS9 episodes and i asked him<br /><br />\"hey man, what are you watching lately because I\\'m done watching all TNG episodes\" He said. \"Well, i got these episodes of Farscape\". I said: \"Ok, let me try it\" I was pretty sure at that time that i wont like it because i was just finised watching TNG and found it great.\"<br /><br />I had 3 episodes, viewed those but the show didn\\'t impressed me very much, i found it childish initially and i thought its just another TV show, nice adventures but regular. Music was a little bit different, neat special effects though and i had the vague impression that the actors didn\\'t fully get into the characters skin.<br /><br />I watched another 3 episodes thinking that 3 eps were not enough to decide i like or not since. Then the show started to get me, i got a good grasp of the action and wanted to see what happened next to the poor Crichton....the rest is history. <br /><br />I think i mostly like the freedom of the characters in the context of the action unlike Star Trek where everybody slept when they were supposed to do and way too much high tech bullshit. <br /><br />The show got better with each episode, very interesting story line.....what can i say, this movie its like poetry. <br /><br />I highly recommend it!!!'\n",
      " b\"For those who like their films full of exploding planets and extreme violence, this is definitely not one to see. In fact, there is very little plot at all (or, at least, very little that could not be summarised in a few seconds: A meets B. Mr A falls for Mrs B and has an affair with her. A and B then fall in love and wonder (at great length) whether to have an affair themselves).<br /><br />This is Cantonese Visconti. Story there is none, but what you DO get is a succession of wonderful images and poignantly trivial music which convey the slow passage of the central characters' emotions. There is also the chance to see one of the world's most beautiful women in a succession of stunningly elegant outfits. For my money, it's worth seeing for that alone. How could this woman ever have been an action heroine? She looks as though she has stepped straight out of the pages of Vogue.\"\n",
      " b\"This film has a very simple but somehow very bad plot. The entire movie is about a girl getting sucked through a gate to another dimension then years later it gets opened again by a witch while a group of friends (including the lead actor who is having trouble getting over his ex girlfriend who is one of the other campers along with her new partner... another girl... that's right they're lesbians and there is some nudity of course for no particular reason). Unfortunately demon follows the now adult girl back through. Also unfortunately, none of this is ever explained. Where exactly were they? Where did the demon come from? How did she survive as a child in a place full of evil demons? Who the hell trained her and made her a gladiator type outfit? The acting is terrible I think but it's hard to tell because the writing is so bad maybe there was just nothing they could do with it. I give it a three because the wrestler was pretty good and the effects were pretty fun even though they were very cheap. I would not recommend it, it wasn't quite bad enough to be funny.\"\n",
      " b\"It's strange how the least known movies sometimes end up amongst the best you've seen. This movie has all the elements of a standard modern day thriller, guns, techno, baddies, cash, etc, and yet it stands out from your average Hollywood also-ran. I would credit this to two very charismatic people. Christopher Walken has a cool confidence and Lorraine Bracco is one of the warmest and sexiest women I've ever seen on screen. Another major reason why this film stands out is coz the setting shifts to Jamaica after the beginning. The Jamaican resort is so beautiful you'll wish you were there sitting by the pool at night, with a Run'n'Coke. . . .I know I did. I'm very glad I saw this movie - it was just too nice to miss!\"]\n"
     ]
    }
   ],
   "source": [
    "for features, labels in dataset.take(1): # first batch\n",
    "    print(labels)\n",
    "    for key, value in features.items():\n",
    "        print(\"{:20s}: {}\".format(key,value.numpy()))"
   ]
  },
  {
   "cell_type": "code",
   "execution_count": 25,
   "metadata": {
    "id": "3_-7VytvGMyz"
   },
   "outputs": [],
   "source": [
    "dataset = dataset.map(lambda x, y: (tf.concat([tf.expand_dims(x['\\ufefftext'], axis=-1)], axis=-1), y))"
   ]
  },
  {
   "cell_type": "markdown",
   "metadata": {
    "id": "2RqCSioqFHHL"
   },
   "source": []
  },
  {
   "cell_type": "markdown",
   "metadata": {
    "id": "MhuxtXE7CJ3P"
   },
   "source": [
    "## Building the model"
   ]
  },
  {
   "cell_type": "code",
   "execution_count": 62,
   "metadata": {
    "id": "q_CFB3VKCO2W"
   },
   "outputs": [],
   "source": [
    "model = tf.keras.Sequential([\n",
    "    layers.Input(shape=(max_length, )),\n",
    "    layers.Dense(32, activation='relu'),\n",
    "    layers.Dense(32, activation='relu'),\n",
    "    layers.Dense(64, activation='relu'),\n",
    "    layers.Dense(64, activation='relu'),\n",
    "    layers.Dense(1, activation='sigmoid')\n",
    "])"
   ]
  },
  {
   "cell_type": "code",
   "execution_count": 63,
   "metadata": {
    "id": "iRUDUUlmCtZs"
   },
   "outputs": [],
   "source": [
    "model.compile('adam', tf.keras.losses.binary_crossentropy, metrics=['accuracy'])"
   ]
  },
  {
   "cell_type": "code",
   "execution_count": 64,
   "metadata": {},
   "outputs": [
    {
     "name": "stdout",
     "output_type": "stream",
     "text": [
      "Model: \"sequential_1\"\n",
      "_________________________________________________________________\n",
      " Layer (type)                Output Shape              Param #   \n",
      "=================================================================\n",
      " dense_5 (Dense)             (None, 32)                7424      \n",
      "                                                                 \n",
      " dense_6 (Dense)             (None, 32)                1056      \n",
      "                                                                 \n",
      " dense_7 (Dense)             (None, 64)                2112      \n",
      "                                                                 \n",
      " dense_8 (Dense)             (None, 64)                4160      \n",
      "                                                                 \n",
      " dense_9 (Dense)             (None, 1)                 65        \n",
      "                                                                 \n",
      "=================================================================\n",
      "Total params: 14,817\n",
      "Trainable params: 14,817\n",
      "Non-trainable params: 0\n",
      "_________________________________________________________________\n"
     ]
    }
   ],
   "source": [
    "model.summary()"
   ]
  },
  {
   "cell_type": "markdown",
   "metadata": {},
   "source": [
    "### Training the model"
   ]
  },
  {
   "cell_type": "code",
   "execution_count": 65,
   "metadata": {},
   "outputs": [],
   "source": [
    "# Create a callback that saves the model's weights\n",
    "if not os.path.isdir('./Weights_per_epochs'):\n",
    "    os.mkdir('./Weights_per_epochs')\n",
    "checkpoint_path = \"./Weights_per_epochs/weights{epoch:02d}.hdf5\"\n",
    "callback = tf.keras.callbacks.ModelCheckpoint(filepath=checkpoint_path,\n",
    "                                                 save_weights_only=True,\n",
    "                                                 verbose=1)"
   ]
  },
  {
   "cell_type": "code",
   "execution_count": 66,
   "metadata": {
    "colab": {
     "base_uri": "https://localhost:8080/",
     "height": 1000
    },
    "id": "qZlzSc2tC9Oc",
    "outputId": "f2cc1cca-f7aa-4fc0-8d8c-9a222b39e93b"
   },
   "outputs": [
    {
     "name": "stdout",
     "output_type": "stream",
     "text": [
      "Epoch 1/15\n",
      "925/938 [============================>.] - ETA: 0s - loss: 26.0473 - accuracy: 0.4995\n",
      "Epoch 1: saving model to ./Weights_per_epochs/weights01.hdf5\n",
      "938/938 [==============================] - 5s 4ms/step - loss: 25.7638 - accuracy: 0.4994 - val_loss: 4.4566 - val_accuracy: 0.4977\n",
      "Epoch 2/15\n",
      "932/938 [============================>.] - ETA: 0s - loss: 2.3294 - accuracy: 0.5071\n",
      "Epoch 2: saving model to ./Weights_per_epochs/weights02.hdf5\n",
      "938/938 [==============================] - 3s 3ms/step - loss: 2.3227 - accuracy: 0.5068 - val_loss: 1.2407 - val_accuracy: 0.4928\n",
      "Epoch 3/15\n",
      "931/938 [============================>.] - ETA: 0s - loss: 0.8609 - accuracy: 0.5051\n",
      "Epoch 3: saving model to ./Weights_per_epochs/weights03.hdf5\n",
      "938/938 [==============================] - 3s 3ms/step - loss: 0.8600 - accuracy: 0.5046 - val_loss: 0.8174 - val_accuracy: 0.5021\n",
      "Epoch 4/15\n",
      "923/938 [============================>.] - ETA: 0s - loss: 0.7383 - accuracy: 0.4990\n",
      "Epoch 4: saving model to ./Weights_per_epochs/weights04.hdf5\n",
      "938/938 [==============================] - 4s 4ms/step - loss: 0.7384 - accuracy: 0.4993 - val_loss: 0.7308 - val_accuracy: 0.4992\n",
      "Epoch 5/15\n",
      "933/938 [============================>.] - ETA: 0s - loss: 0.7152 - accuracy: 0.5032\n",
      "Epoch 5: saving model to ./Weights_per_epochs/weights05.hdf5\n",
      "938/938 [==============================] - 4s 5ms/step - loss: 0.7153 - accuracy: 0.5031 - val_loss: 0.7278 - val_accuracy: 0.4996\n",
      "Epoch 6/15\n",
      "931/938 [============================>.] - ETA: 0s - loss: 0.7062 - accuracy: 0.5004\n",
      "Epoch 6: saving model to ./Weights_per_epochs/weights06.hdf5\n",
      "938/938 [==============================] - 3s 3ms/step - loss: 0.7062 - accuracy: 0.5006 - val_loss: 0.7267 - val_accuracy: 0.4966\n",
      "Epoch 7/15\n",
      "927/938 [============================>.] - ETA: 0s - loss: 0.7051 - accuracy: 0.4993\n",
      "Epoch 7: saving model to ./Weights_per_epochs/weights07.hdf5\n",
      "938/938 [==============================] - 6s 7ms/step - loss: 0.7050 - accuracy: 0.4990 - val_loss: 0.6998 - val_accuracy: 0.4979\n",
      "Epoch 8/15\n",
      "935/938 [============================>.] - ETA: 0s - loss: 0.6955 - accuracy: 0.5005\n",
      "Epoch 8: saving model to ./Weights_per_epochs/weights08.hdf5\n",
      "938/938 [==============================] - 3s 3ms/step - loss: 0.6955 - accuracy: 0.5004 - val_loss: 0.6985 - val_accuracy: 0.4987\n",
      "Epoch 9/15\n",
      "926/938 [============================>.] - ETA: 0s - loss: 0.6948 - accuracy: 0.5034\n",
      "Epoch 9: saving model to ./Weights_per_epochs/weights09.hdf5\n",
      "938/938 [==============================] - 3s 3ms/step - loss: 0.6948 - accuracy: 0.5033 - val_loss: 0.6967 - val_accuracy: 0.5009\n",
      "Epoch 10/15\n",
      "928/938 [============================>.] - ETA: 0s - loss: 0.6933 - accuracy: 0.5032\n",
      "Epoch 10: saving model to ./Weights_per_epochs/weights10.hdf5\n",
      "938/938 [==============================] - 3s 3ms/step - loss: 0.6932 - accuracy: 0.5031 - val_loss: 0.7008 - val_accuracy: 0.4984\n",
      "Epoch 11/15\n",
      "924/938 [============================>.] - ETA: 0s - loss: 0.6934 - accuracy: 0.5003\n",
      "Epoch 11: saving model to ./Weights_per_epochs/weights11.hdf5\n",
      "938/938 [==============================] - 4s 4ms/step - loss: 0.6934 - accuracy: 0.5005 - val_loss: 0.6976 - val_accuracy: 0.5013\n",
      "Epoch 12/15\n",
      "932/938 [============================>.] - ETA: 0s - loss: 0.6944 - accuracy: 0.5007\n",
      "Epoch 12: saving model to ./Weights_per_epochs/weights12.hdf5\n",
      "938/938 [==============================] - 3s 3ms/step - loss: 0.6944 - accuracy: 0.5005 - val_loss: 0.6979 - val_accuracy: 0.4988\n",
      "Epoch 13/15\n",
      "938/938 [==============================] - ETA: 0s - loss: 0.6943 - accuracy: 0.4988\n",
      "Epoch 13: saving model to ./Weights_per_epochs/weights13.hdf5\n",
      "938/938 [==============================] - 3s 3ms/step - loss: 0.6943 - accuracy: 0.4988 - val_loss: 0.6949 - val_accuracy: 0.5013\n",
      "Epoch 14/15\n",
      "922/938 [============================>.] - ETA: 0s - loss: 0.6941 - accuracy: 0.5020\n",
      "Epoch 14: saving model to ./Weights_per_epochs/weights14.hdf5\n",
      "938/938 [==============================] - 2s 2ms/step - loss: 0.6941 - accuracy: 0.5016 - val_loss: 0.6960 - val_accuracy: 0.5012\n",
      "Epoch 15/15\n",
      "935/938 [============================>.] - ETA: 0s - loss: 0.6938 - accuracy: 0.4978\n",
      "Epoch 15: saving model to ./Weights_per_epochs/weights15.hdf5\n",
      "938/938 [==============================] - 2s 2ms/step - loss: 0.6938 - accuracy: 0.4978 - val_loss: 0.6976 - val_accuracy: 0.5012\n"
     ]
    }
   ],
   "source": [
    "epochs = 15\n",
    "history = model.fit(train_x_tokenized_padded, y_train, \n",
    "                    epochs=epochs, \n",
    "                    validation_data=(test_x_tokenized_padded, y_test),\n",
    "                    callbacks=[callback])"
   ]
  },
  {
   "cell_type": "markdown",
   "metadata": {},
   "source": [
    "### Model Performance"
   ]
  },
  {
   "cell_type": "code",
   "execution_count": 67,
   "metadata": {},
   "outputs": [
    {
     "data": {
      "text/plain": [
       "<Figure size 432x288 with 0 Axes>"
      ]
     },
     "execution_count": 67,
     "metadata": {},
     "output_type": "execute_result"
    },
    {
     "data": {
      "image/png": "[encoded data removed]",
      "text/plain": [
       "<Figure size 432x288 with 1 Axes>"
      ]
     },
     "metadata": {
      "needs_background": "light"
     },
     "output_type": "display_data"
    },
    {
     "data": {
      "image/png": "[encoded data removed]",
      "text/plain": [
       "<Figure size 432x288 with 1 Axes>"
      ]
     },
     "metadata": {
      "needs_background": "light"
     },
     "output_type": "display_data"
    },
    {
     "data": {
      "text/plain": [
       "<Figure size 432x288 with 0 Axes>"
      ]
     },
     "metadata": {},
     "output_type": "display_data"
    }
   ],
   "source": [
    "%matplotlib inline\n",
    "import matplotlib.pyplot as plt\n",
    "import matplotlib.image as mpimg\n",
    "\n",
    "acc = history.history['accuracy']\n",
    "val_acc = history.history['val_accuracy']\n",
    "loss = history.history['loss']\n",
    "val_loss = history.history['val_loss']\n",
    "epochs=range(len(acc))\n",
    "\n",
    "plt.plot(epochs, acc, 'r', 'Training Accuracy')\n",
    "plt.plot(epochs, val_acc, 'b', 'Validation Accuracy')\n",
    "plt.title('Training and validation accuracy')\n",
    "plt.figure()\n",
    "plt.plot(epochs, loss, 'r', 'Training Loss')\n",
    "plt.plot(epochs, val_loss, 'b', 'Validation Loss')\n",
    "plt.title('Training and validation loss')\n",
    "plt.figure()"
   ]
  },
  {
   "cell_type": "markdown",
   "metadata": {},
   "source": [
    "## Histograms"
   ]
  },
  {
   "cell_type": "code",
   "execution_count": 68,
   "metadata": {},
   "outputs": [
    {
     "data": {
      "text/plain": [
       "['weights04.hdf5',\n",
       " 'weights09.hdf5',\n",
       " 'weights07.hdf5',\n",
       " 'weights11.hdf5',\n",
       " 'weights14.hdf5',\n",
       " 'weights03.hdf5',\n",
       " 'weights10.hdf5',\n",
       " 'weights01.hdf5',\n",
       " 'weights02.hdf5',\n",
       " 'weights12.hdf5',\n",
       " 'weights15.hdf5',\n",
       " 'weights06.hdf5',\n",
       " 'weights13.hdf5',\n",
       " 'weights05.hdf5',\n",
       " 'weights08.hdf5']"
      ]
     },
     "execution_count": 68,
     "metadata": {},
     "output_type": "execute_result"
    }
   ],
   "source": [
    "list_weights = os.listdir('./Weights_per_epochs')\n",
    "list_weights"
   ]
  },
  {
   "cell_type": "code",
   "execution_count": 69,
   "metadata": {},
   "outputs": [],
   "source": [
    "def get_weights_from_layer(model, weights_dir, layer_number, num_epochs):\n",
    "    weights = np.array([])\n",
    "    for i in range(num_epochs):\n",
    "        model.load_weights(f'{weights_dir}/{list_weights[i]}')\n",
    "        weights = np.append(weights, model.get_weights()[0][layer_number])\n",
    "    \n",
    "    weights = weights.reshape(num_epochs, -1)\n",
    "    return weights"
   ]
  },
  {
   "cell_type": "code",
   "execution_count": 83,
   "metadata": {},
   "outputs": [
    {
     "data": {
      "text/plain": [
       "(15, 32)"
      ]
     },
     "execution_count": 83,
     "metadata": {},
     "output_type": "execute_result"
    }
   ],
   "source": [
    "weights_from_layer0 = get_weights_from_layer(model, './Weights_per_epochs', 0, 15)\n",
    "weights_from_layer0.shape # (15, 32) - 15 epochs, 32 neurons in the layer"
   ]
  },
  {
   "cell_type": "code",
   "execution_count": 89,
   "metadata": {},
   "outputs": [
    {
     "data": {
      "text/plain": [
       "array([0.09847292, 0.09185176, 0.0918518 , 0.09185176, 0.09185176,\n",
       "       0.09600417, 0.09185176, 0.0976347 , 0.09935055, 0.09185176,\n",
       "       0.09185176, 0.10293602, 0.09185176, 0.10287702, 0.09185176])"
      ]
     },
     "execution_count": 89,
     "metadata": {},
     "output_type": "execute_result"
    }
   ],
   "source": [
    "weights_from_layer0[:, 1] # all weights from the second neuron in the first layer"
   ]
  },
  {
   "cell_type": "code",
   "execution_count": 92,
   "metadata": {},
   "outputs": [],
   "source": [
    "def plot_weights_histogram(weights, layer_number, neuron_number):\n",
    "    plt.figure(figsize=(8, 6))\n",
    "    plt.hist(weights[:, neuron_number], bins=100)\n",
    "    plt.title(f'Histogram of weights for neuron {neuron_number} of layer {layer_number}')\n",
    "    plt.xlabel('Weight value')\n",
    "    plt.ylabel('Frequency')"
   ]
  },
  {
   "cell_type": "code",
   "execution_count": 94,
   "metadata": {},
   "outputs": [
    {
     "data": {
      "image/png": "[encoded data removed]",
      "text/plain": [
       "<Figure size 576x432 with 1 Axes>"
      ]
     },
     "metadata": {
      "needs_background": "light"
     },
     "output_type": "display_data"
    }
   ],
   "source": [
    "plot_weights_histogram(weights_from_layer0, 2, 10)"
   ]
  },
  {
   "cell_type": "code",
   "execution_count": 33,
   "metadata": {},
   "outputs": [],
   "source": [
    "model.load_weights(f'./Weights_per_epochs/{list_weights[-1]}')"
   ]
  },
  {
   "cell_type": "code",
   "execution_count": 35,
   "metadata": {},
   "outputs": [
    {
     "data": {
      "text/plain": [
       "[array([[ 0.06940084,  0.05383415,  0.11057767, ..., -0.07337356,\n",
       "          0.09616297, -0.03799424],\n",
       "        [ 0.00994303,  0.10148703,  0.03971534, ...,  0.05462777,\n",
       "         -0.1294199 , -0.10050377],\n",
       "        [ 0.08211949,  0.11114664,  0.09551448, ...,  0.0659413 ,\n",
       "          0.09429293, -0.09146108],\n",
       "        ...,\n",
       "        [-0.09567137,  0.0926213 ,  0.069566  , ..., -0.01309191,\n",
       "         -0.18692078,  0.0408461 ],\n",
       "        [-0.04827422, -0.01825774, -0.03318117, ..., -0.15440477,\n",
       "          0.07889239, -0.13316436],\n",
       "        [-0.1841805 , -0.10973747, -0.06166623, ..., -0.01913395,\n",
       "         -0.07471811,  0.00434041]], dtype=float32),\n",
       " array([-0.18827784, -0.03549989, -0.13562472, -0.21017984, -0.16705711,\n",
       "        -0.15910035, -0.13413735, -0.16516402, -0.06642793, -0.19489682,\n",
       "        -0.16525245, -0.14811921,  0.01670153, -0.15918316, -0.16287708,\n",
       "        -0.19691907, -0.19700752, -0.10120298, -0.18137869, -0.18569092,\n",
       "        -0.11813401, -0.15691517, -0.03720944, -0.17643462,  0.5520132 ,\n",
       "        -0.1749654 , -0.1262065 , -0.14892463, -0.18120573, -0.17631824,\n",
       "        -0.12667392, -0.03829752], dtype=float32)]"
      ]
     },
     "execution_count": 35,
     "metadata": {},
     "output_type": "execute_result"
    }
   ],
   "source": [
    "model.layers[0].get_weights()"
   ]
  }
 ],
 "metadata": {
  "accelerator": "GPU",
  "colab": {
   "collapsed_sections": [],
   "name": "MLP Sentiment Analysis (PIBIC 2021).ipynb",
   "provenance": []
  },
  "kernelspec": {
   "display_name": "Python 3",
   "language": "python",
   "name": "python3"
  },
  "language_info": {
   "codemirror_mode": {
    "name": "ipython",
    "version": 3
   },
   "file_extension": ".py",
   "mimetype": "text/x-python",
   "name": "python",
   "nbconvert_exporter": "python",
   "pygments_lexer": "ipython3",
   "version": "3.9.7"
  }
 },
 "nbformat": 4,
 "nbformat_minor": 1
}
